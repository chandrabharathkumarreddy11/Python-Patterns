{
 "cells": [
  {
   "cell_type": "code",
   "execution_count": 19,
   "metadata": {},
   "outputs": [
    {
     "name": "stdout",
     "output_type": "stream",
     "text": [
      "vehicle is going with 60km/hr\n"
     ]
    }
   ],
   "source": [
    "class Bike():\n",
    "    def start(self):\n",
    "        print('Bike stared')\n",
    "    def meter(self):\n",
    "        print('vehicle is going with 60km/hr')\n",
    "class Car(Bike):\n",
    "    def name(self):\n",
    "        print('Carname is tata')\n",
    "    def meter(self):\n",
    "        return super().meter()\n",
    "obj=Car()\n",
    "obj.meter()"
   ]
  },
  {
   "cell_type": "code",
   "execution_count": 13,
   "metadata": {},
   "outputs": [
    {
     "name": "stdout",
     "output_type": "stream",
     "text": [
      "successfully amount added\n",
      "available bal : 1500\n",
      "remaining balance is:  1000\n",
      "withdrawal successfully\n"
     ]
    }
   ],
   "source": [
    "## Abstraction Example\n",
    "\n",
    "from abc import ABC , abstractmethod\n",
    "class Atm:\n",
    "    @abstractmethod\n",
    "    def withdraw(self):\n",
    "        pass\n",
    "    @abstractmethod\n",
    "    def deposit(self):\n",
    "        pass\n",
    "class User(Atm):\n",
    "    def __init__(self,bal=0):\n",
    "        self.bal=bal\n",
    "\n",
    "    def withdraw(self,amount):\n",
    "       if amount>self.bal:\n",
    "           print('insufficient balance')\n",
    "       else:\n",
    "           self.bal-=amount\n",
    "           print('remaining balance is: ',self.bal)\n",
    "           print('withdrawal successfully')\n",
    "\n",
    "    def deposit(self,amount):\n",
    "        if amount>1:\n",
    "            self.bal+=amount\n",
    "            print('successfully amount added')\n",
    "            print('available bal :',self.bal)\n",
    "        else:\n",
    "            print('pls enter amount that should be greater than 0')\n",
    "user=User(1000)\n",
    "user.deposit(500)\n",
    "user.withdraw(500)"
   ]
  },
  {
   "cell_type": "code",
   "execution_count": null,
   "metadata": {},
   "outputs": [],
   "source": [
    "class Bank:\n",
    "    \"\"\"Generic Properties\"\"\"\n",
    "    bank_name='sbi'\n",
    "    bank_ifsc=1234\n",
    "    bank_address=\"markapuram\"\n",
    "Bharath=Bank()\n",
    "vishnu=Bank()\n",
    "print(Bharath)   ## address \n",
    "print(vishnu)    ## address\n",
    "\n",
    "\"\"\"\n",
    "4 Operations:\n",
    "--------------\n",
    "1.Accessing\n",
    "2.Creating\n",
    "3.Modifying\n",
    "4.Deleting\n",
    "\"\"\"\n",
    "\"\"\"#1 ## Accessing Generic Properties\"\"\"\n",
    "print(Bank.bank_name)\n",
    "print(Bank.bank_ifsc)\n",
    "print(Bank.bank_address)\n",
    "## Accessing Generic Properties by using object\n",
    "print(\"object \")\n",
    "print(Bharath.bank_address)\n",
    "print(vishnu.bank_ifsc)\n",
    "\"\"\"#2 ##Modifying Generic properties by using class\"\"\"\n",
    "Bank.bank_address=\"Alidena\"     ##modifes in class and object\n",
    "print(Bharath.bank_address)\n",
    "##Modifying g.p using obj\n",
    "Bharath.bank_ifsc=2314      ## modifies only in object \n",
    "print(Bank.bank_ifsc)\n",
    "print(Bharath.bank_ifsc)   ## object\n",
    "\"\"\"#3 ##deleting g.p using class\"\"\"\n",
    "del Bank.bank_ifsc           ## performs deletion operation\n",
    "#print(Bank.bank_ifsc)\n",
    "print(Bharath.bank_ifsc)\n",
    "#print(vishnu.bank_ifsc)\n",
    "\"\"\"\n",
    "--->Deleting generic properties using object using is not possible\n",
    "--->Creating generic propeties using object not possible\n",
    "\"\"\"\n",
    "\n",
    "\"\"\"#4 Creating Generic Properties using  class\"\"\"\n",
    "Bank.bank_roi=7\n",
    "print(Bharath.bank_roi)"
   ]
  },
  {
   "cell_type": "code",
   "execution_count": 17,
   "metadata": {},
   "outputs": [
    {
     "name": "stdout",
     "output_type": "stream",
     "text": [
      "Audi00\n",
      "Car is started\n"
     ]
    },
    {
     "data": {
      "text/plain": [
       "1981"
      ]
     },
     "execution_count": 17,
     "metadata": {},
     "output_type": "execute_result"
    }
   ],
   "source": [
    "class Car:\n",
    "    car_name=\"Audi00\"\n",
    "    car_mfy=1981\n",
    "    car_price=2000000\n",
    "\n",
    "    def start(self):\n",
    "        print('Car is started')\n",
    "    def accelerate(self):\n",
    "        print('Car is accelerated')\n",
    "    def stop(self):\n",
    "        print('Car is Stop')\n",
    "Bharath=Car()\n",
    "print(Bharath.car_name)\n",
    "Bharath.start()\n",
    "Bharath.car_mfy\n"
   ]
  },
  {
   "cell_type": "code",
   "execution_count": null,
   "metadata": {},
   "outputs": [],
   "source": [
    "class BankAccount:\n",
    "    def __init__(self, account_holder, account_number, balance=0):\n",
    "        # Private attributes\n",
    "        self.__account_holder = account_holder\n",
    "        self.__account_number = account_number\n",
    "        self.__balance = balance\n",
    "\n",
    "    # Getter for account_holder\n",
    "    def get_account_holder(self):\n",
    "        return self.__account_holder\n",
    "\n",
    "    # Getter for account_number\n",
    "    def get_account_number(self):\n",
    "        return self.__account_number\n",
    "\n",
    "    # Getter for balance\n",
    "    def get_balance(self):\n",
    "        return self.__balance\n",
    "\n",
    "    # Setter for deposit (with validation)\n",
    "    def deposit(self, amount):\n",
    "        if amount > 0:\n",
    "            self.__balance += amount\n",
    "            print(f\"Deposit successful! Your new balance is: {self.__balance}\")\n",
    "        else:\n",
    "            print(\"Invalid deposit amount. Please deposit a positive amount.\")\n",
    "\n",
    "    # Setter for withdraw (with validation)\n",
    "    def withdraw(self, amount):\n",
    "        if amount > self.__balance:\n",
    "            print(f\"Insufficient funds! Your current balance is: {self.__balance}\")\n",
    "        elif amount <= 0:\n",
    "            print(\"Invalid withdrawal amount. Please enter a positive amount.\")\n",
    "        else:\n",
    "            self.__balance -= amount\n",
    "            print(f\"Withdrawal successful! Your new balance is: {self.__balance}\")\n",
    "\n",
    "# Creating an instance of BankAccount\n",
    "my_account = BankAccount(\"John Doe\", \"123456789\", 1000)\n",
    "\n",
    "# Accessing account information via getters\n",
    "print(\"Account Holder:\", my_account.get_account_holder())  # Output: John Doe\n",
    "print(\"Account Number:\", my_account.get_account_number())  # Output: 123456789\n",
    "print(\"Current Balance:\", my_account.get_balance())  # Output: 1000\n",
    "\n",
    "# Depositing money\n",
    "my_account.deposit(500)  # Deposit successful! Your new balance is: 1500\n",
    "\n",
    "# Trying to deposit an invalid amount\n",
    "my_account.deposit(-200)  # Invalid deposit amount. Please deposit a positive amount.\n",
    "\n",
    "# Withdrawing money\n",
    "my_account.withdraw(300)  # Withdrawal successful! Your new balance is: 1200\n",
    "\n",
    "# Trying to withdraw more than the available balance\n",
    "my_account.withdraw(2000)  # Insufficient funds! Your current balance is: 1200\n",
    "\n",
    "# Trying to withdraw an invalid amount\n",
    "my_account.withdraw(-100)  # Invalid withdrawal amount. Please enter a positive amount.\n"
   ]
  },
  {
   "cell_type": "code",
   "execution_count": 38,
   "metadata": {},
   "outputs": [
    {
     "name": "stdout",
     "output_type": "stream",
     "text": [
      "5 \n",
      "4 5 \n",
      "3 4 5 \n",
      "2 3 4 5 \n",
      "1 2 3 4 5 \n"
     ]
    }
   ],
   "source": [
    "num=5\n",
    "for sv in range(num,0,-1):\n",
    "    for ev in range(sv,num+1):\n",
    "        print(ev,end=' ')\n",
    "    print()"
   ]
  },
  {
   "cell_type": "markdown",
   "metadata": {},
   "source": [
    "### OOPS PRACTICE NOTEBOOK"
   ]
  },
  {
   "cell_type": "code",
   "execution_count": null,
   "metadata": {},
   "outputs": [],
   "source": [
    "class Bank:\n",
    "    bank_name='rbi'\n",
    "    bank_roi=7\n",
    "    bank_address='kizikistan'\n",
    "bharath=Bank()\n",
    "##Access using generic properties by using object\n",
    "print(bharath.bank_roi)\n",
    "print(bharath.bank_address)\n",
    "##Access using generic properties by using class\n",
    "print(Bank.bank_address)\n",
    "print(Bank.bank_name)\n",
    "##modifying genericproperties by using class   --> classname.classvariable=newvalue\n",
    "Bank.bank_name='hdfc'\n",
    "print(bharath.bank_name)\n",
    "##modifying genericproperties by using object  --> objectname.classvariable=newvalue\n",
    "bharath.bank_address='india'\n",
    "print(bharath.bank_address)\n",
    "##creating generic properties by using class\n",
    "Bank.bank_ifsc=1234                                 ## creating and deleting generic properties using object not posiible \n",
    "print(bharath.bank_ifsc)\n",
    "##deleting generic properties by using class\n",
    "del Bank.bank_address\n",
    "print(Bank.bank_address)"
   ]
  },
  {
   "cell_type": "code",
   "execution_count": 3,
   "metadata": {},
   "outputs": [
    {
     "name": "stdout",
     "output_type": "stream",
     "text": [
      "Customer name is : Bharath\n",
      "customer age: 21\n",
      "customer_balance: 6000000\n",
      "Customer name is : Bharath\n",
      "customer age: 21\n",
      "customer_balance: 6000000\n",
      "Amount deposited successfully\n",
      "Total Amount is 6012345\n"
     ]
    }
   ],
   "source": [
    "class Bank:\n",
    "    bank_name='rbi'\n",
    "    bank_roi=7\n",
    "    bank_address='kizikistan'\n",
    "    def __init__(self,cn,a,cbal):\n",
    "        self.customer_name=cn\n",
    "        self.age=a\n",
    "        self.cbalance=cbal\n",
    "    def customer_Details(self):\n",
    "        print('Customer name is :',self.customer_name)\n",
    "        print('customer age:',self.age)\n",
    "        print('customer_balance:',self.cbalance)\n",
    "    def withdraw(self):\n",
    "        amount=int(input('Enter amount to withdraw'))\n",
    "        if self.cbalance>=amount:\n",
    "            self.cbalance-=amount\n",
    "            print('withdraw process completed successfully')\n",
    "            print('Remaining balance',self.cbalance)\n",
    "        else:\n",
    "            print('Insufficient Balance')\n",
    "    def deposite(self):\n",
    "        amount=int(input('Enter amount: '))\n",
    "        if amount>=0:\n",
    "            self.cbalance+=amount\n",
    "            print('Amount deposited successfully')\n",
    "            print('Total Amount is',self.cbalance)\n",
    "        else:\n",
    "            print('Please enter amount greater than 1')\n",
    "bharath=Bank('Bharath',21,6000000)\n",
    "bharath.customer_Details()\n",
    "Bank.customer_Details(bharath)\n",
    "#bharath.withdraw()\n",
    "bharath.deposite()"
   ]
  },
  {
   "cell_type": "code",
   "execution_count": 8,
   "metadata": {},
   "outputs": [
    {
     "name": "stdout",
     "output_type": "stream",
     "text": [
      "outer is Started\n",
      "Outer is Ended\n",
      "<function outer.<locals>.inner at 0x000001CBAF8D68C0>\n",
      "Hai Friends\n",
      "Bye Friends\n"
     ]
    }
   ],
   "source": [
    "def outer(arg):       ## arg=decorated(hai) function address\n",
    "    print('outer is Started')\n",
    "    def inner():\n",
    "        arg()\n",
    "    print('Outer is Ended')\n",
    "    return inner\n",
    "@outer                ##hai=outer(hai fun address)  #hai=inner fun address\n",
    "def hai():\n",
    "    print('Hai Friends')\n",
    "    print('Bye Friends')\n",
    "print(hai)            ## printing innner function address\n",
    "hai()                 ## calling that function address"
   ]
  },
  {
   "cell_type": "code",
   "execution_count": 7,
   "metadata": {},
   "outputs": [
    {
     "name": "stdout",
     "output_type": "stream",
     "text": [
      "<function brother.<locals>.inner at 0x000001CBAF8D6D40>\n",
      "Brother is Listening\n",
      "Sister is speaking\n",
      "Sister is ending the call\n",
      "Brother is Stop Listening\n"
     ]
    }
   ],
   "source": [
    "def brother(arg):\n",
    "    def inner():\n",
    "        print('Brother is Listening')\n",
    "        arg()\n",
    "        print('Brother is Stop Listening')\n",
    "    return inner\n",
    "@brother\n",
    "def sister1():\n",
    "    print('Sister is speaking')\n",
    "    print('Sister is ending the call')\n",
    "print(sister1)\n",
    "sister1()"
   ]
  },
  {
   "cell_type": "code",
   "execution_count": 15,
   "metadata": {},
   "outputs": [
    {
     "name": "stdout",
     "output_type": "stream",
     "text": [
      "1 2\n",
      "3\n",
      "5\n",
      "8\n",
      "13\n",
      "21\n",
      "34\n",
      "55\n",
      "89\n"
     ]
    }
   ],
   "source": [
    "def fibo():\n",
    "    fn=int(input())\n",
    "    sn=int(input())\n",
    "    n=int(input())\n",
    "    if n==1:\n",
    "        print(fn)\n",
    "    elif n==2:\n",
    "        print(fn,sn)\n",
    "    else:\n",
    "        print(fn,sn)\n",
    "        for i in range(n-2):\n",
    "            tn=fn+sn\n",
    "            print(tn)\n",
    "            fn,sn=sn,tn\n",
    "fibo()\n",
    "'''def fibonacci_series_in_range(start, end):\n",
    "    a, b = 0, 1\n",
    "    while a <= end:\n",
    "        if a >= start:\n",
    "            print(a, end=\" \")\n",
    "        a, b = b, a + b\n",
    "    print()\n",
    "\n",
    "# Example usage\n",
    "start = int(input(\"Enter the start of the range: \"))\n",
    "end = int(input(\"Enter the end of the range: \"))\n",
    "fibonacci_series_in_range(start, end)\n",
    "'''"
   ]
  },
  {
   "cell_type": "code",
   "execution_count": 24,
   "metadata": {},
   "outputs": [
    {
     "name": "stdout",
     "output_type": "stream",
     "text": [
      "1 2\n",
      "3\n",
      "5\n",
      "8\n",
      "3.2330923080444336\n"
     ]
    }
   ],
   "source": [
    "def outer(arg):\n",
    "    def inner():\n",
    "        import time\n",
    "        t1=time.time()\n",
    "        arg()\n",
    "        t2=time.time()\n",
    "        print(t2-t1)\n",
    "    return inner\n",
    "@outer\n",
    "def fibo():\n",
    "    fn=int(input())\n",
    "    sn=int(input())\n",
    "    n=int(input())\n",
    "    if n==1:\n",
    "        print(fn)\n",
    "    elif n==2:\n",
    "        print(fn,sn)\n",
    "    else:\n",
    "        print(fn,sn)\n",
    "        for i in range(n-2):\n",
    "            tn=fn+sn\n",
    "            print(tn)\n",
    "            fn,sn=sn,tn\n",
    "fibo()"
   ]
  },
  {
   "cell_type": "code",
   "execution_count": 29,
   "metadata": {},
   "outputs": [
    {
     "name": "stdout",
     "output_type": "stream",
     "text": [
      "7\n",
      "5\n"
     ]
    }
   ],
   "source": [
    "class bank:\n",
    "    bank_name='sbi'\n",
    "    bank_roi=7\n",
    "    bank_address='kizikistan'\n",
    "    bank_branch='Marathahalli'\n",
    "    def __init__(self,n,a,b):\n",
    "        self.name=n\n",
    "        self.age=a\n",
    "        self.balance=b\n",
    "    @classmethod\n",
    "    def modify_roi(cls):\n",
    "        new=int(input('Enter new roi: '))\n",
    "        cls.bank_roi=new\n",
    "bharath=bank('bharath',21,100000)\n",
    "print(bharath.bank_roi)\n",
    "bank.modify_roi()\n",
    "print(bharath.bank_roi)"
   ]
  },
  {
   "cell_type": "code",
   "execution_count": 34,
   "metadata": {},
   "outputs": [
    {
     "data": {
      "text/plain": [
       "'5 is a Prime Number'"
      ]
     },
     "execution_count": 34,
     "metadata": {},
     "output_type": "execute_result"
    }
   ],
   "source": [
    "'''def isPrime(n):\n",
    "    if n<=1:\n",
    "        return False\n",
    "    else:\n",
    "        for i in range(2,n//2+1):\n",
    "            if n%i==0:\n",
    "                return False\n",
    "        else:\n",
    "            return f'{n} is a Prime Number'\n",
    "isPrime(5)''' "
   ]
  },
  {
   "cell_type": "code",
   "execution_count": 40,
   "metadata": {},
   "outputs": [
    {
     "name": "stdout",
     "output_type": "stream",
     "text": [
      "Invalid Pin\n"
     ]
    }
   ],
   "source": [
    "## Encapsulation\n",
    "'''class Student:\n",
    "    def __init__(self,name,id,marks):\n",
    "        self.name=name\n",
    "        self.id=id\n",
    "        self.marks=marks\n",
    "    \n",
    "    def studentdata(self):\n",
    "        print(\"Name\",self.name)\n",
    "        print(\"id\",self.id)\n",
    "        print(\"marks\",self.marks)\n",
    "s1=Student('Bharath',101,20)\n",
    "s2=Student('chandu',21,23)\n",
    "print(s1.name)''' \n",
    "\n",
    "''' \n",
    "class A:\n",
    "    x=20\n",
    "    _y=50\n",
    "    __z=1000\n",
    "\n",
    "    def hai(cls):\n",
    "        print(cls.__z)\n",
    "\n",
    "    def Bank(self):\n",
    "        print('Bank Name is Rbi')\n",
    "    def _Bank_address(self):\n",
    "        print('Bank address is Bangalore')\n",
    "    def __pin(self):\n",
    "        print('Pin numner is 1234')\n",
    "s=A()\n",
    "## Accessing variables\n",
    "print(s.x)\n",
    "print(s._y)\n",
    "print(s.hai())\n",
    "\n",
    "## Accessing methods\n",
    "s.Bank()\n",
    "print(s._A__pin())\n",
    "'''   \n",
    "''' \n",
    "class Bank:\n",
    "    bank_name='rbi'\n",
    "    _bank_roi=7\n",
    "    __bank_branch='alidena'\n",
    "\n",
    "    def customers_name(self):\n",
    "        print('Our Bank customer name is Bharath')\n",
    "    def _Age(self):\n",
    "        print('Age of the customer is 21')\n",
    "    def __atmpin(self):\n",
    "        print('pin number is 1234') \n",
    "oa=Bank()\n",
    "print(oa.bank_name)\n",
    "print(oa._bank_roi)\n",
    "print(oa._Bank__bank_branch)\n",
    "#print(oa.__bank_branch)\n",
    "print(oa.customers_name())\n",
    "print(oa._Age())\n",
    "#print(oa.atmpin())\n",
    "print(oa._Bank__atmpin())\n",
    "'''    \n",
    "class Bank:\n",
    "    def __init__(self,pin,amount):\n",
    "        self.__pin=pin\n",
    "        self.amount=amount\n",
    "    \n",
    "    def validate_pin(self,input_pin):\n",
    "        if input_pin==self.__pin:\n",
    "            print(\"Accesss granted\")\n",
    "            print('The amount avilable is',self.amount)\n",
    "        else:\n",
    "            print('Invalid Pin')\n",
    "\n",
    "B1=Bank(1234,632138080)\n",
    "B1.validate_pin(2314)\n",
    "#B1.validate_pin(1234)\n"
   ]
  },
  {
   "cell_type": "markdown",
   "metadata": {},
   "source": [
    "## Abstarction"
   ]
  },
  {
   "cell_type": "code",
   "execution_count": 6,
   "metadata": {},
   "outputs": [
    {
     "name": "stdout",
     "output_type": "stream",
     "text": [
      "Python is simple\n",
      "100\n",
      "4\n",
      "50\n"
     ]
    }
   ],
   "source": [
    "from abc import ABC,abstractmethod\n",
    "\n",
    "#abstarct class for polygon\n",
    "class polygon(ABC):\n",
    "\n",
    "    @abstractmethod\n",
    "    def numof_sides(self):\n",
    "        pass\n",
    "    @abstractmethod\n",
    "    def area(self):\n",
    "        pass\n",
    "    @abstractmethod\n",
    "    def perimeter(self):\n",
    "        pass\n",
    "\n",
    "    def bhar(self):\n",
    "        print('Python is simple')\n",
    "\n",
    "# class Triangle(polygon):\n",
    "#     def __init__(self,a,b,c):\n",
    "#         self.a=a\n",
    "#         self.b=b\n",
    "#         self.c=c\n",
    "#     #def numof_sides(self):\n",
    "#     #    return super().numof_sides()\n",
    "#     def numof_sides(self):\n",
    "#         return 3\n",
    "    \n",
    "#     def area(self):\n",
    "#         s=(self.a+self.b+self.c)/2\n",
    "\n",
    "#         return (s*(s-self.a)*(s-self.b)*(s-self.c))**0.5\n",
    "#     def perimeter(self):\n",
    "#         return self.a+self.b+self.c\n",
    "\n",
    "class Rectangle(polygon):\n",
    "    def __init__(self,l,b):\n",
    "        self.l=l\n",
    "        self.b=b\n",
    "    def numof_sides(self):\n",
    "        return 4\n",
    "    def area(self):\n",
    "        return self.l+self.b\n",
    "    def perimeter(self):\n",
    "        return 2*(self.l+self.b)\n",
    "    \n",
    "## create objects for triangle and rectangle\n",
    "# triangle=Triangle(2,3,4)\n",
    "rectangle=Rectangle(20,30)\n",
    "\n",
    "# print(triangle.area())\n",
    "# print(triangle.numof_sides())\n",
    "# print(triangle.perimeter())\n",
    "rectangle.bhar()\n",
    "print(rectangle.perimeter())\n",
    "print(rectangle.numof_sides())\n",
    "print(rectangle.area())"
   ]
  },
  {
   "cell_type": "code",
   "execution_count": 14,
   "metadata": {},
   "outputs": [
    {
     "name": "stdout",
     "output_type": "stream",
     "text": [
      "Barks\n",
      "Meows\n"
     ]
    }
   ],
   "source": [
    "from abc import ABC,abstractmethod\n",
    "\n",
    "# Abstract class\n",
    "class Animal(ABC):\n",
    "\n",
    "    # Abstract method\n",
    "    @abstractmethod\n",
    "    def sound(self):\n",
    "        pass\n",
    "# Subclass 1\n",
    "class Dog(Animal):\n",
    "\n",
    "    #providing implementation for the abstarct method\n",
    "    def sound(self):\n",
    "        return \"Barks\"\n",
    "# Subclass 2\n",
    "class Cat(Animal):\n",
    "\n",
    "    # Providing implementation for the abstarct method\n",
    "    def sound(self):\n",
    "        return \"Meows\"\n",
    "    \n",
    "# Creating objects of the subclasses\n",
    "dog=Dog()\n",
    "cat=Cat()\n",
    "\n",
    "print(dog.sound())  # Output: Dog: Barks\n",
    "print(cat.sound())  # Output: Cat: Meows\n"
   ]
  },
  {
   "cell_type": "code",
   "execution_count": 18,
   "metadata": {},
   "outputs": [
    {
     "name": "stdout",
     "output_type": "stream",
     "text": [
      "Barks\n",
      "Meows\n",
      "iam inside the abstract class\n"
     ]
    }
   ],
   "source": [
    "from abc import ABC,abstractmethod\n",
    "\n",
    "class Animal(ABC):\n",
    "\n",
    "    @abstractmethod\n",
    "    def sound(self):\n",
    "        pass\n",
    "    \n",
    "    def hai(self):\n",
    "        return 'iam inside the abstract class'\n",
    "class Dog(Animal):\n",
    "    def sound(self):\n",
    "        return 'Barks'\n",
    "    \n",
    "class Cat(Animal):\n",
    "    def sound(self):\n",
    "        return 'Meows'\n",
    "    \n",
    "dog=Dog()\n",
    "print(dog.sound())\n",
    "cat=Cat()\n",
    "print(cat.sound())\n",
    "print(dog.hai())\n"
   ]
  },
  {
   "cell_type": "code",
   "execution_count": 22,
   "metadata": {},
   "outputs": [
    {
     "name": "stdout",
     "output_type": "stream",
     "text": [
      "2.9047375096555625\n",
      "3\n",
      "9\n",
      "50\n",
      "4\n",
      "100\n"
     ]
    }
   ],
   "source": [
    "from abc import ABC , abstractmethod\n",
    "\n",
    "class polygon(ABC):\n",
    "\n",
    "    @abstractmethod\n",
    "    def numof_sides(self):\n",
    "        pass\n",
    "    @abstractmethod\n",
    "    def area(self):\n",
    "        pass\n",
    "    @abstractmethod\n",
    "    def perimeter(self):\n",
    "        pass\n",
    "class Triangle(polygon):\n",
    "    def __init__(self,a,b,c):\n",
    "        self.a=a\n",
    "        self.b=b\n",
    "        self.c=c\n",
    "\n",
    "    def numof_sides(self):\n",
    "        return 3\n",
    "    def area(self):\n",
    "        s=(self.a+self.b+self.c)/2\n",
    "\n",
    "        return (s*(s-self.a)*(s-self.b)*(s-self.c))**0.5\n",
    "    def perimeter(self):\n",
    "        return self.a+self.b+self.c\n",
    "    \n",
    "class rectangle(polygon):\n",
    "    def __init__(self,l,b):\n",
    "        self.l=l\n",
    "        self.b=b\n",
    "\n",
    "    def numof_sides(self):\n",
    "        return 4\n",
    "    def area(self):\n",
    "        return self.l+self.b\n",
    "    def perimeter(self):\n",
    "        return 2*(self.l+self.b)\n",
    "a=Triangle(2,3,4)\n",
    "b=rectangle(20,30)\n",
    "\n",
    "print(a.area())\n",
    "print(a.numof_sides())\n",
    "print(a.perimeter())\n",
    "\n",
    "\n",
    "print(b.area())\n",
    "print(b.numof_sides())\n",
    "print(b.perimeter())"
   ]
  },
  {
   "cell_type": "code",
   "execution_count": 3,
   "metadata": {},
   "outputs": [
    {
     "name": "stdout",
     "output_type": "stream",
     "text": [
      "Ticket book succeccfully\n",
      "remaining tickets are: 200\n"
     ]
    }
   ],
   "source": [
    "## single ton class (decorators example)\n",
    "def singleton(arg):\n",
    "    L=[]\n",
    "    def inner():\n",
    "        if not L:\n",
    "            L.append(arg())\n",
    "            return L[0]\n",
    "    return inner\n",
    "@singleton\n",
    "class multiplex:\n",
    "    def __init__(self):\n",
    "        self.tickets=300\n",
    "    def Bookingop(self,nt):\n",
    "        if nt<=self.tickets:\n",
    "            self.tickets-=nt\n",
    "            print('Ticket book succeccfully')\n",
    "            print('remaining tickets are:',self.tickets)\n",
    "        else:\n",
    "            print('Tivkets are not available')\n",
    "obj=multiplex()\n",
    "obj.Bookingop(100)\n"
   ]
  },
  {
   "cell_type": "code",
   "execution_count": null,
   "metadata": {},
   "outputs": [
    {
     "name": "stdout",
     "output_type": "stream",
     "text": [
      "Remaining tickets are:  200\n"
     ]
    }
   ],
   "source": [
    "def singleTon(ABC):\n",
    "    L=[]\n",
    "    def inner():\n",
    "        if not L:\n",
    "            L.append(ABC())\n",
    "            return L[0]\n",
    "    return inner\n",
    "@singleTon\n",
    "class Movie():\n",
    "    def __init__(self):\n",
    "        self.tickets=300\n",
    "    def Booking(self,nt):\n",
    "        if nt<=self.tickets:\n",
    "            self.tickets-=nt  \n",
    "            print('Remaining tickets are: ',self.tickets)\n",
    "        else:\n",
    "            print('Insufficient tickets are available',self.tickets)\n",
    "obj=Movie()\n",
    "obj.Booking(100)"
   ]
  },
  {
   "cell_type": "code",
   "execution_count": null,
   "metadata": {},
   "outputs": [],
   "source": []
  }
 ],
 "metadata": {
  "kernelspec": {
   "display_name": "Python 3",
   "language": "python",
   "name": "python3"
  },
  "language_info": {
   "codemirror_mode": {
    "name": "ipython",
    "version": 3
   },
   "file_extension": ".py",
   "mimetype": "text/x-python",
   "name": "python",
   "nbconvert_exporter": "python",
   "pygments_lexer": "ipython3",
   "version": "3.10.8"
  }
 },
 "nbformat": 4,
 "nbformat_minor": 2
}
