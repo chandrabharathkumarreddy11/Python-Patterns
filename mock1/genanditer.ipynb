{
 "cells": [
  {
   "cell_type": "markdown",
   "metadata": {},
   "source": [
    "## Generators\n",
    "--> Generators are the functions with yield statement\n",
    "--> yield is keyword after that yiled we can write N no.of statements inside that block"
   ]
  },
  {
   "cell_type": "code",
   "execution_count": 1,
   "metadata": {},
   "outputs": [
    {
     "name": "stdout",
     "output_type": "stream",
     "text": [
      "2\n",
      "3\n",
      "5\n",
      "8\n",
      "13\n",
      "21\n",
      "34\n",
      "55\n",
      "89\n",
      "144\n"
     ]
    }
   ],
   "source": [
    "def genFibo(fv,sv,n):        ## printing fibinaccci numbers \n",
    "    i=1\n",
    "    while i<n+1:\n",
    "        yield fv\n",
    "        fv,sv=sv,fv+sv\n",
    "        i+=1\n",
    "gnf=genFibo(2,3,10)\n",
    "for i in gnf:\n",
    "    print(i)"
   ]
  },
  {
   "cell_type": "code",
   "execution_count": 5,
   "metadata": {},
   "outputs": [
    {
     "name": "stdout",
     "output_type": "stream",
     "text": [
      "1\n",
      "3\n",
      "5\n",
      "7\n",
      "9\n"
     ]
    }
   ],
   "source": [
    "def genRange(ll,ul,up=1):      ## printing numbers on range function\n",
    "    while ll<ul:\n",
    "        yield ll\n",
    "        ll+=up\n",
    "gro=genRange(1,10,2)\n",
    "for i in gro:\n",
    "    print(i)"
   ]
  },
  {
   "cell_type": "code",
   "execution_count": 9,
   "metadata": {},
   "outputs": [
    {
     "name": "stdout",
     "output_type": "stream",
     "text": [
      "1\n",
      "4\n",
      "9\n",
      "16\n",
      "25\n",
      "36\n",
      "49\n",
      "64\n",
      "81\n",
      "100\n"
     ]
    }
   ],
   "source": [
    "def sqNum(ll,ul,up=1):          ## printing square numbers from 1 to 10\n",
    "    while ll<ul+1:\n",
    "        yield ll**2\n",
    "        ll+=up\n",
    "sno=sqNum(1,10)\n",
    "for i in sno:\n",
    "    print(i)"
   ]
  },
  {
   "cell_type": "code",
   "execution_count": 8,
   "metadata": {},
   "outputs": [
    {
     "name": "stdout",
     "output_type": "stream",
     "text": [
      "1\n",
      "8\n",
      "27\n",
      "64\n",
      "125\n",
      "216\n",
      "343\n",
      "512\n",
      "729\n",
      "1000\n"
     ]
    }
   ],
   "source": [
    "def sqNum(ll,ul,up=1):          ## printing square numbers from 1 to 10\n",
    "    while ll<ul+1:\n",
    "        yield ll**3\n",
    "        ll+=up\n",
    "sno=sqNum(1,10)\n",
    "for i in sno:\n",
    "    print(i)"
   ]
  },
  {
   "cell_type": "markdown",
   "metadata": {},
   "source": [
    "## iterators\n",
    "--> "
   ]
  },
  {
   "cell_type": "code",
   "execution_count": 2,
   "metadata": {},
   "outputs": [
    {
     "name": "stdout",
     "output_type": "stream",
     "text": [
      "2\n",
      "3\n",
      "5\n",
      "8\n",
      "12\n",
      "17\n",
      "23\n",
      "30\n",
      "38\n",
      "47\n"
     ]
    }
   ],
   "source": [
    "def genFibo(fv,sv,n):\n",
    "    i=1\n",
    "    while i<n+1:\n",
    "        yield fv\n",
    "        fv+=i\n",
    "        i+=1\n",
    "obj=genFibo(2,3,10)\n",
    "for i in obj:\n",
    "    print(i)"
   ]
  },
  {
   "cell_type": "code",
   "execution_count": 7,
   "metadata": {},
   "outputs": [
    {
     "name": "stdout",
     "output_type": "stream",
     "text": [
      "34\n"
     ]
    }
   ],
   "source": [
    "def genFibo(fv,sv,n,n1):\n",
    "    i=1\n",
    "    while i<n+1:\n",
    "        if i==n1:\n",
    "            print(fv)\n",
    "        tn=fv+sv\n",
    "        fv,sv=sv,tn\n",
    "        i+=1\n",
    "obj=genFibo(2,3,10,7)\n",
    "# for i in obj:\n",
    "#     print(i)"
   ]
  },
  {
   "cell_type": "code",
   "execution_count": null,
   "metadata": {},
   "outputs": [],
   "source": [
    "def fibo(fv,sv,n):\n",
    "    fv=int(input())\n",
    "    sv=int"
   ]
  }
 ],
 "metadata": {
  "kernelspec": {
   "display_name": "Python 3",
   "language": "python",
   "name": "python3"
  },
  "language_info": {
   "codemirror_mode": {
    "name": "ipython",
    "version": 3
   },
   "file_extension": ".py",
   "mimetype": "text/x-python",
   "name": "python",
   "nbconvert_exporter": "python",
   "pygments_lexer": "ipython3",
   "version": "3.10.8"
  }
 },
 "nbformat": 4,
 "nbformat_minor": 2
}
