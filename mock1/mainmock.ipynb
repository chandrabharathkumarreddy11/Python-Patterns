{
 "cells": [
  {
   "cell_type": "code",
   "execution_count": 4,
   "metadata": {},
   "outputs": [
    {
     "name": "stdout",
     "output_type": "stream",
     "text": [
      "Ava bal: 101000\n",
      "successf\n",
      "Current available bal: 100500\n"
     ]
    }
   ],
   "source": [
    "## Abstarct\n",
    "from abc import ABC, abstractmethod\n",
    "class ATM(ABC):\n",
    "\n",
    "    @abstractmethod\n",
    "    def withdraw(self):\n",
    "        pass\n",
    "    @abstractmethod\n",
    "    def deposit(self):\n",
    "        pass\n",
    "\n",
    "class User(ATM):\n",
    "\n",
    "    def __init__ (self,bal=0):\n",
    "        self.bal=bal\n",
    "        \n",
    "    def withdraw(self,amount):\n",
    "        if amount<=self.bal:\n",
    "            self.bal-=amount\n",
    "            print('successf')\n",
    "            print('Current available bal:',self.bal)\n",
    "        else:\n",
    "            print('Insuffiecient bal:',self.bal)\n",
    "\n",
    "    def deposit(self,amount):\n",
    "        if amount>1:\n",
    "            self.bal+=amount\n",
    "            print('Ava bal:', self.bal)\n",
    "\n",
    "        else:\n",
    "            print('amount should be greater than 1')\n",
    "\n",
    "obj=User(100000)\n",
    "obj.deposit(1000)\n",
    "obj.withdraw(500)\n",
    "\n",
    "\n",
    "        "
   ]
  },
  {
   "cell_type": "code",
   "execution_count": 5,
   "metadata": {},
   "outputs": [
    {
     "name": "stdout",
     "output_type": "stream",
     "text": [
      "student name: bharath\n",
      "student rool no is: 225\n"
     ]
    }
   ],
   "source": [
    "class Student():\n",
    "    def __init__(self,name,rollno):\n",
    "        self.name=name\n",
    "        self.rollno=rollno\n",
    "\n",
    "    def display(self):\n",
    "        print('student name:',self.name)\n",
    "        print('student rool no is:',self.rollno)\n",
    "\n",
    "s1=Student('bharath','225')\n",
    "s1.display()"
   ]
  },
  {
   "cell_type": "code",
   "execution_count": 9,
   "metadata": {},
   "outputs": [
    {
     "name": "stdout",
     "output_type": "stream",
     "text": [
      "Vehicle is for the transport purpose\n",
      "its speed is 100km/hr\n"
     ]
    }
   ],
   "source": [
    "## Inheritance\n",
    "\n",
    "class Vehicle():\n",
    "    def __init__(self,color,com):\n",
    "        self.color=color\n",
    "        self.company=com\n",
    "\n",
    "    def operation(self):\n",
    "        print('Vehicle is for the transport purpose')\n",
    "\n",
    "class Bike(Vehicle):\n",
    "    def __init__(self,color,com,num):\n",
    "        super().__init__(color,com)\n",
    "        self.num=num\n",
    "\n",
    "    def operation(self):\n",
    "        super().operation()\n",
    "        print('its speed is 100km/hr')\n",
    "obj=Bike('red','tvs','1234')\n",
    "obj.operation()"
   ]
  },
  {
   "cell_type": "code",
   "execution_count": 12,
   "metadata": {},
   "outputs": [
    {
     "name": "stdout",
     "output_type": "stream",
     "text": [
      "Start the car\n",
      "Stop the Car\n",
      "Vehicle is for the transport purpose\n"
     ]
    },
    {
     "data": {
      "text/plain": [
       "'s'"
      ]
     },
     "execution_count": 12,
     "metadata": {},
     "output_type": "execute_result"
    }
   ],
   "source": [
    "## one parent - two children\n",
    "class Vehicle():\n",
    "    def __init__(self,color,com):\n",
    "        self.color=color\n",
    "        self.company=com\n",
    "\n",
    "    def operation(self):\n",
    "        print('Vehicle is for the transport purpose')\n",
    "\n",
    "class Bike(Vehicle):\n",
    "    def __init__(self,color,com,num):\n",
    "        super().__init__(color,com)\n",
    "        self.num=num\n",
    "\n",
    "    def operation(self):\n",
    "        super().operation()\n",
    "        print('its speed is 100km/hr')\n",
    "\n",
    "class Car(Vehicle):\n",
    "    def __init__(self, color, com,np,model):\n",
    "        super().__init__(color, com)\n",
    "        self.numplate=np\n",
    "        self.model=model\n",
    "    def operation(self):\n",
    "        print('Start the car')\n",
    "        print('Stop the Car')\n",
    "        return super().operation()\n",
    "obj=Car('blue','audi','1234','s')\n",
    "obj.operation()\n",
    "obj.numplate\n",
    "obj.model"
   ]
  },
  {
   "cell_type": "code",
   "execution_count": 4,
   "metadata": {},
   "outputs": [
    {
     "name": "stdout",
     "output_type": "stream",
     "text": [
      "Booking successfully\n",
      "Booking successfully\n"
     ]
    },
    {
     "data": {
      "text/plain": [
       "'Remain tickets 50'"
      ]
     },
     "execution_count": 4,
     "metadata": {},
     "output_type": "execute_result"
    }
   ],
   "source": [
    "def Singleton(arg):\n",
    "    L=[]\n",
    "    def inner():\n",
    "        if not L:\n",
    "            L.append(arg())\n",
    "        return L[0]\n",
    "    return inner\n",
    "\n",
    "@Singleton\n",
    "class Theatre():\n",
    "    def __init__(self):\n",
    "        self.tickets=200\n",
    "    def Booking(self,nt):\n",
    "        if nt>self.tickets:\n",
    "            return f'Insufficient tickets {self.tickets}'\n",
    "        else:\n",
    "            self.tickets-=nt\n",
    "            print('Booking successfully')\n",
    "            return f'Remain tickets {self.tickets}'\n",
    "obj=Theatre()\n",
    "obj.Booking(100)\n",
    "obj.Booking(50)"
   ]
  },
  {
   "cell_type": "code",
   "execution_count": 3,
   "metadata": {},
   "outputs": [
    {
     "name": "stdout",
     "output_type": "stream",
     "text": [
      "[Errno 2] No such file or directory: 'chandra.txt'\n",
      "file operation completed\n"
     ]
    }
   ],
   "source": [
    "c=0\n",
    "n=0\n",
    "try:\n",
    "    obj=open('chandra.txt','r')\n",
    "except Exception as e:\n",
    "    print(e)\n",
    "    c+=1\n",
    "else:\n",
    "    if c==1:\n",
    "        print('file is not found')\n",
    "    else:\n",
    "        print(obj.read())\n",
    "        n+=1\n",
    "finally:\n",
    "    if n==1:\n",
    "        obj.close()\n",
    "    print('file operation completed')"
   ]
  },
  {
   "cell_type": "code",
   "execution_count": 13,
   "metadata": {},
   "outputs": [
    {
     "name": "stdout",
     "output_type": "stream",
     "text": [
      "Remaining Balance is 9500\n",
      "Available bal 10000\n"
     ]
    }
   ],
   "source": [
    "from abc import ABC,abstractmethod\n",
    "class ATM(ABC):\n",
    "    @abstractmethod\n",
    "    def withdraw(self):\n",
    "        pass\n",
    "    @abstractmethod\n",
    "    def deposit(self):\n",
    "        pass\n",
    "    def hai(self):\n",
    "        print('Your Welcome')\n",
    "\n",
    "class User(ATM):\n",
    "    def __init__(self,amount):\n",
    "        self.amount=amount\n",
    "    def withdraw(self,a):\n",
    "        if self.amount>=a:\n",
    "            self.amount-=a\n",
    "            print('Remaining Balance is',self.amount)\n",
    "        else:\n",
    "            return f'Insufficient Balance:{self.amount}'\n",
    "    def deposit(self,am):\n",
    "        if am>0:\n",
    "            self.amount+=am\n",
    "            print('Available bal',self.amount)\n",
    "        else:\n",
    "            return 'PLEASE ENTER AMOUNT GRETAER THAN 0'\n",
    "user=User(10000)\n",
    "user.withdraw(500)\n",
    "user.deposit(500)"
   ]
  },
  {
   "cell_type": "code",
   "execution_count": null,
   "metadata": {},
   "outputs": [
    {
     "data": {
      "text/plain": [
       "'Incorrect Pw'"
      ]
     },
     "execution_count": 20,
     "metadata": {},
     "output_type": "execute_result"
    }
   ],
   "source": [
    "from abc import ABC,abstractmethod\n",
    "\n",
    "class Onlineapp(ABC):\n",
    "    @abstractmethod\n",
    "    def balanceEnquiry(self):\n",
    "        pass\n",
    "class Paytm(Onlineapp):\n",
    "    def __init__(self,amount,pw):\n",
    "        self.__amount=amount\n",
    "        self.__password=pw\n",
    "    def balanceEnquiry(self,p):\n",
    "        if self.__password==p:\n",
    "            print('Current Balance is',self.__amount)\n",
    "        else:\n",
    "            return 'Incorrect Pw'\n",
    "user1=Paytm(10000,1234)\n",
    "user1.balanceEnquiry(18234)"
   ]
  },
  {
   "cell_type": "code",
   "execution_count": 23,
   "metadata": {},
   "outputs": [
    {
     "name": "stdout",
     "output_type": "stream",
     "text": [
      "Bank Name SBI\n",
      "Bank loctaion Kamalapuram\n",
      "Bank ifsc 1234\n"
     ]
    }
   ],
   "source": [
    "class Bank():\n",
    "    def __init__(self,n,l,i):\n",
    "        self.Bank_Name=n\n",
    "        self.Bank_Loc=l\n",
    "        self.bank_ifsc=i\n",
    "    def bankINfo(self):\n",
    "        print('Bank Name',self.Bank_Name)\n",
    "        print('Bank loctaion',self.Bank_Loc)\n",
    "        print('Bank ifsc',self.bank_ifsc)\n",
    "        #yield f'{self.Bank_Loc}'\n",
    "obj=Bank('SBI','Kamalapuram','1234')\n",
    "obj.bankINfo()"
   ]
  },
  {
   "cell_type": "code",
   "execution_count": null,
   "metadata": {},
   "outputs": [
    {
     "name": "stdout",
     "output_type": "stream",
     "text": [
      "Car Retails 3986384\n",
      "Car is name is bmw\n",
      "model no bj7862\n"
     ]
    }
   ],
   "source": [
    "class vehicle:\n",
    "    def start(self):\n",
    "        print('Starting the vehicle')\n",
    "    def accelerate(self):\n",
    "        print('Accelerate the vehicle')\n",
    "    def stop(self):\n",
    "        print('Stop the car')\n",
    "class Car(vehicle):\n",
    "    def __init__(self,n,m):\n",
    "        self.carname=n\n",
    "        self.modelno=m\n",
    "    def accelerate(self):\n",
    "        return super().accelerate()\n",
    "    def car_details(self):\n",
    "        print('Car is name is',self.carname)\n",
    "        print('model no',self.modelno)\n",
    "class SuperCar(Car):\n",
    "    def __init__(self,n,m,p):\n",
    "         super().__init__(n,m)\n",
    "         self.price=p\n",
    "    def car_details1(self):\n",
    "        print('Car Retails',self.price)\n",
    "        return super().car_details()\n",
    "obj=SuperCar('bmw','bj7862','3986384')\n",
    "obj.car_details1()"
   ]
  },
  {
   "cell_type": "code",
   "execution_count": null,
   "metadata": {},
   "outputs": [],
   "source": [
    "aaabbbbccab\n",
    "\n",
    "\n",
    "a ==a\n",
    "c+=1"
   ]
  }
 ],
 "metadata": {
  "kernelspec": {
   "display_name": "Python 3",
   "language": "python",
   "name": "python3"
  },
  "language_info": {
   "codemirror_mode": {
    "name": "ipython",
    "version": 3
   },
   "file_extension": ".py",
   "mimetype": "text/x-python",
   "name": "python",
   "nbconvert_exporter": "python",
   "pygments_lexer": "ipython3",
   "version": "3.10.8"
  }
 },
 "nbformat": 4,
 "nbformat_minor": 2
}
