{
 "cells": [
  {
   "cell_type": "markdown",
   "metadata": {},
   "source": [
    "PANDAS:\n",
    "i.  --> High performance Data Analysis Tool\n",
    "ii. --> working with large dataset\n",
    "iii --> supports (or) load files with different formats\n",
    "iv. --> More flexible\n",
    "v.  --> Represents in Tabular way(Rows and columns)\n",
    "vi. --> working on missing data\n",
    "vii.--> indexing-slicing-subsetting the large data sets\n",
    "viii--> Merge and join two different datasets easily\n",
    "ix  --> Reshape datasets\n",
    "\n",
    "\n",
    "(i) this happens using three datasets:\n",
    "   (1) Series       --> one Dimensional      [list]\n",
    "   ## Syntax: pd.Series(data,index)  \n",
    "   (2) DataFrame    --> two dimensional      [list/dictionary/series/another Dataframe]\n",
    "   ## Syntax: pd.DataFrame(data)\n",
    "   (3) Panel        --> Multi-dimensional    [data,col(major axis),rows(minoraxis)]\n",
    "   ## Syntax: pd.Panel(data,major axis,minor axis,dtype)"
   ]
  },
  {
   "cell_type": "markdown",
   "metadata": {},
   "source": [
    "# Series example"
   ]
  },
  {
   "cell_type": "code",
   "execution_count": 2,
   "metadata": {},
   "outputs": [
    {
     "data": {
      "text/plain": [
       "0     1\n",
       "1     2\n",
       "2     3\n",
       "3    54\n",
       "4    67\n",
       "dtype: int64"
      ]
     },
     "execution_count": 2,
     "metadata": {},
     "output_type": "execute_result"
    }
   ],
   "source": [
    "import pandas as pd\n",
    "l=[1,2,3,54,67]\n",
    "pd.Series(l)\n",
    "\n",
    "## we can change the index values\n",
    "#pd.Series(l,index=['i','ii','iii','iv','v'])"
   ]
  },
  {
   "cell_type": "markdown",
   "metadata": {},
   "source": [
    "## DataFrame Example"
   ]
  },
  {
   "cell_type": "code",
   "execution_count": 8,
   "metadata": {},
   "outputs": [
    {
     "data": {
      "text/html": [
       "<div>\n",
       "<style scoped>\n",
       "    .dataframe tbody tr th:only-of-type {\n",
       "        vertical-align: middle;\n",
       "    }\n",
       "\n",
       "    .dataframe tbody tr th {\n",
       "        vertical-align: top;\n",
       "    }\n",
       "\n",
       "    .dataframe thead th {\n",
       "        text-align: right;\n",
       "    }\n",
       "</style>\n",
       "<table border=\"1\" class=\"dataframe\">\n",
       "  <thead>\n",
       "    <tr style=\"text-align: right;\">\n",
       "      <th></th>\n",
       "      <th>name</th>\n",
       "      <th>Marks</th>\n",
       "    </tr>\n",
       "  </thead>\n",
       "  <tbody>\n",
       "    <tr>\n",
       "      <th>0</th>\n",
       "      <td>Bharath</td>\n",
       "      <td>89</td>\n",
       "    </tr>\n",
       "    <tr>\n",
       "      <th>1</th>\n",
       "      <td>Chandra</td>\n",
       "      <td>94</td>\n",
       "    </tr>\n",
       "    <tr>\n",
       "      <th>2</th>\n",
       "      <td>Kumar</td>\n",
       "      <td>94</td>\n",
       "    </tr>\n",
       "  </tbody>\n",
       "</table>\n",
       "</div>"
      ],
      "text/plain": [
       "      name  Marks\n",
       "0  Bharath     89\n",
       "1  Chandra     94\n",
       "2    Kumar     94"
      ]
     },
     "execution_count": 8,
     "metadata": {},
     "output_type": "execute_result"
    }
   ],
   "source": [
    "d={'name':['Bharath','Chandra','Kumar'],'Marks':[89,94,94]}\n",
    "pd.DataFrame(d)"
   ]
  },
  {
   "cell_type": "code",
   "execution_count": 9,
   "metadata": {},
   "outputs": [
    {
     "name": "stdout",
     "output_type": "stream",
     "text": [
      "b    1.0\n",
      "c    2.0\n",
      "d    NaN\n",
      "a    0.0\n",
      "dtype: float64\n"
     ]
    }
   ],
   "source": [
    "#12-09-24          \"\"\"Python pandas - Series\"\"\"\n",
    "\n",
    "#create an empty series\n",
    "'''import pandas as pd\n",
    "s=pd.Series()\n",
    "print(s)\n",
    "'''\n",
    "# Create a Series from ndarray\n",
    "import pandas as pd\n",
    "import numpy as np\n",
    "#data=np.array(['a','b','c','d'])\n",
    "# user defining the index value\n",
    "#s=pd.Series(data,index=[101,102,103,104])\n",
    "#print(s)\n",
    "\n",
    "#Create A series from dict\n",
    "data={'a':0.,'b':1.,'c':2.}\n",
    "#s=pd.Series(data)\n",
    "s = pd.Series(data,index=['b','c','d','a'])  ## index order is persisted and the missing element is filled with NaN\n",
    "print(s)\n"
   ]
  },
  {
   "cell_type": "code",
   "execution_count": 14,
   "metadata": {},
   "outputs": [
    {
     "name": "stdout",
     "output_type": "stream",
     "text": [
      "1\n",
      "a    1\n",
      "b    2\n",
      "c    3\n",
      "dtype: int64\n",
      "c    3\n",
      "d    4\n",
      "e    5\n",
      "dtype: int64\n"
     ]
    }
   ],
   "source": [
    "## Create Series from scalar\n",
    "'''s=pd.Series(5,index=[0,1,2,3])\n",
    "print(s) '''\n",
    "\n",
    "#Accessing Data from Series with Position\n",
    "#Data in the series can be accessed similar to that in an ndarray.\n",
    "s=pd.Series([1,2,3,4,5],index=['a','b','c','d','e'])\n",
    "\n",
    "#retrive the first element\n",
    "print(s[0])\n",
    "#retrive the first 3 elements\n",
    "print(s[:3])\n",
    "#retrive the last 3 elements\n",
    "print(s[-3:])"
   ]
  },
  {
   "cell_type": "code",
   "execution_count": 23,
   "metadata": {},
   "outputs": [
    {
     "name": "stdout",
     "output_type": "stream",
     "text": [
      "a    1\n",
      "c    3\n",
      "d    4\n",
      "dtype: int64\n"
     ]
    }
   ],
   "source": [
    "#### Retrieve Data using label(index)\n",
    "s=pd.Series([1,2,3,4,5],index=['a','b','c','d','e'])\n",
    "\n",
    "#retrieve a single element\n",
    "#print(s['a'])\n",
    "#multiple elementns\n",
    "print (s[['a','c','d']])  ## double brackets\n",
    "\n",
    "'''label not contained, an exception is raised'''\n",
    "#retrieve multiple elements\n",
    "#print(s['f'])    ### Keyerror   "
   ]
  },
  {
   "cell_type": "markdown",
   "metadata": {},
   "source": [
    "Pandas"
   ]
  },
  {
   "cell_type": "markdown",
   "metadata": {},
   "source": [
    "## Pandas-DataFrame And Series\n",
    "--> Pandas is a powerful data manipulation library in Python, widely used for data analysis and data cleaning.\n",
    "--> It provides two primary data structures: Series and DataFrame. \n",
    "## Series --> A series is a one-dimensional array-like object.\n",
    "## DataFrame --> A DataFrame is a two-dimensional,size-mutable, and potentially heterogeneous tabluar data structure with labeled axes(rows and columns)."
   ]
  },
  {
   "cell_type": "code",
   "execution_count": 1,
   "metadata": {},
   "outputs": [],
   "source": [
    "import pandas as pd"
   ]
  },
  {
   "cell_type": "code",
   "execution_count": 4,
   "metadata": {},
   "outputs": [
    {
     "name": "stdout",
     "output_type": "stream",
     "text": [
      "Series \n",
      " 0    1\n",
      "1    2\n",
      "2    3\n",
      "3    4\n",
      "4    5\n",
      "dtype: int64\n",
      "<class 'pandas.core.series.Series'>\n"
     ]
    }
   ],
   "source": [
    "#Series\n",
    "#A series is a one-dimensional array-like object that can hold any data type. It is similar to a column in a table.\n",
    "\n",
    "import pandas as pd\n",
    "data=[1,2,3,4,5]\n",
    "series=pd.Series(data)    ## Series is in-bulit function\n",
    "print(\"Series \\n\",series)   ## print along with their index position and elements\n",
    "print(type(series))"
   ]
  },
  {
   "cell_type": "code",
   "execution_count": 5,
   "metadata": {},
   "outputs": [
    {
     "name": "stdout",
     "output_type": "stream",
     "text": [
      "a    1\n",
      "b    2\n",
      "c    3\n",
      "dtype: int64\n"
     ]
    }
   ],
   "source": [
    "## Create a Series from dictionary\n",
    "data={'a':1,'b':2,'c':3}\n",
    "series=pd.Series(data)\n",
    "print(series)            ## it consider a,b,c as index positions of 1,2,3."
   ]
  },
  {
   "cell_type": "code",
   "execution_count": 6,
   "metadata": {},
   "outputs": [
    {
     "data": {
      "text/plain": [
       "a    10\n",
       "b    20\n",
       "c    30\n",
       "dtype: int64"
      ]
     },
     "execution_count": 6,
     "metadata": {},
     "output_type": "execute_result"
    }
   ],
   "source": [
    "data=[10,20,30]\n",
    "index=['a','b','c']\n",
    "pd.Series(data,index=index)"
   ]
  },
  {
   "cell_type": "code",
   "execution_count": 8,
   "metadata": {},
   "outputs": [
    {
     "name": "stdout",
     "output_type": "stream",
     "text": [
      "      Name  Age       City\n",
      "0  bharath   10  Bangalore\n",
      "1   jhonny   24   New York\n",
      "2     jack   89  Hyderabad\n",
      "<class 'pandas.core.frame.DataFrame'>\n"
     ]
    }
   ],
   "source": [
    "##Dataframe\n",
    "## create a Dataframe from a dictionary of list\n",
    "\n",
    "data={'Name':['bharath','jhonny','jack'],\n",
    "      'Age':[10,24,89],\n",
    "      'City':['Bangalore','New York','Hyderabad']\n",
    "      }\n",
    "df=pd.DataFrame(data)\n",
    "print(df)\n",
    "print(type(df))"
   ]
  },
  {
   "cell_type": "code",
   "execution_count": 9,
   "metadata": {},
   "outputs": [
    {
     "data": {
      "text/plain": [
       "array([['bharath', 10, 'Bangalore'],\n",
       "       ['jhonny', 24, 'New York'],\n",
       "       ['jack', 89, 'Hyderabad']], dtype=object)"
      ]
     },
     "execution_count": 9,
     "metadata": {},
     "output_type": "execute_result"
    }
   ],
   "source": [
    "## Accessing inside a array\n",
    "import numpy as np\n",
    "np.array(df)\n"
   ]
  },
  {
   "cell_type": "code",
   "execution_count": null,
   "metadata": {},
   "outputs": [],
   "source": []
  },
  {
   "cell_type": "code",
   "execution_count": null,
   "metadata": {},
   "outputs": [],
   "source": []
  }
 ],
 "metadata": {
  "kernelspec": {
   "display_name": "Python 3",
   "language": "python",
   "name": "python3"
  },
  "language_info": {
   "codemirror_mode": {
    "name": "ipython",
    "version": 3
   },
   "file_extension": ".py",
   "mimetype": "text/x-python",
   "name": "python",
   "nbconvert_exporter": "python",
   "pygments_lexer": "ipython3",
   "version": "3.10.8"
  }
 },
 "nbformat": 4,
 "nbformat_minor": 2
}
