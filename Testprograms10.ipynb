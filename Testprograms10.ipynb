{
 "cells": [
  {
   "cell_type": "code",
   "execution_count": 5,
   "metadata": {},
   "outputs": [
    {
     "name": "stdout",
     "output_type": "stream",
     "text": [
      "Armstrong Number\n",
      "Not Armstrong Number\n"
     ]
    }
   ],
   "source": [
    "#1 Write a Function to check given number is Armstrong Number or Not?\n",
    "def isArmstrong(n):\n",
    "    t=n\n",
    "    s=0\n",
    "    l=len(str(n))\n",
    "    while n>0:\n",
    "        r=n%10\n",
    "        p=pow(r,l)\n",
    "        s=s+p\n",
    "        n//=10\n",
    "    if t==s:\n",
    "        print(\"Armstrong Number\")\n",
    "    else:\n",
    "        print(\"Not Armstrong Number\")\n",
    "isArmstrong(153)\n",
    "isArmstrong(135)"
   ]
  },
  {
   "cell_type": "code",
   "execution_count": 2,
   "metadata": {},
   "outputs": [
    {
     "name": "stdout",
     "output_type": "stream",
     "text": [
      "[503, 509, 521, 523, 541, 547, 557, 563, 569, 571, 577, 587, 593, 599, 601, 607, 613, 617, 619, 631, 641, 643, 647, 653, 659, 661, 673, 677, 683, 691, 701, 709, 719, 727, 733, 739, 743, 751, 757, 761, 769, 773, 787, 797, 809, 811, 821, 823, 827, 829, 839, 853, 857, 859, 863, 877, 881, 883, 887, 907, 911, 919, 929, 937, 941, 947, 953, 967, 971, 977, 983, 991, 997]\n"
     ]
    }
   ],
   "source": [
    "#2 Using Filter Function print prime no's b/w 500 to 1000\n",
    "#method-1 (in one-line)\n",
    "print(list(filter(lambda x: all(x % i != 0 for i in range(2, int(x**0.5) + 1)), range(500, 1001))))\n",
    "\n",
    "#method-2 (using prime fun)\n",
    "# def isPrime(n):\n",
    "#     if n<=1:\n",
    "#         return False\n",
    "#     for i in range(2,int(n**0.5)+1):\n",
    "#         if n%i==0:\n",
    "#             return False\n",
    "#     else:\n",
    "#         return True\n",
    "# #Use filter to get prime no's b/w 500 and 1000\n",
    "# n=list(filter(isPrime,range(500,1001)))\n",
    "# print(n)\n",
    "# print(len(n))    # 73 prime no's present b/w 500 to 1000"
   ]
  },
  {
   "cell_type": "code",
   "execution_count": 18,
   "metadata": {},
   "outputs": [
    {
     "name": "stdout",
     "output_type": "stream",
     "text": [
      "Given Num is Palindrome\n"
     ]
    }
   ],
   "source": [
    "#3 W.a.P to check given number is Palindrome or Not\n",
    "n=int(input(\"Enter a num: \"))\n",
    "temp=n\n",
    "rev=0\n",
    "while n>0:\n",
    "    r=n%10\n",
    "    rev=rev*10+r\n",
    "    n//=10\n",
    "if temp==rev:\n",
    "    print(\"Given Num is Palindrome\")\n",
    "else:\n",
    "    print(\"Not a Palindrome Number\")"
   ]
  },
  {
   "cell_type": "markdown",
   "metadata": {},
   "source": [
    "What is Reduce function ? with one example\n",
    "## Reduce Function:\n",
    "The reduce(fun, seq) function in Python applies a function you provide to all elements in a sequence, reducing the sequence to a single value. \n",
    "-->  It's found in the \"functools\" module.\n",
    "\n",
    "## Working :  \n",
    " \n",
    "--> At first step, first two elements of sequence are picked and the result is obtained.\n",
    "--> Next step is to apply the same function to the previously attained result and the number just succeeding the second element and the result is again stored.\n",
    "--> This process continues till no more elements are left in the container.\n",
    "--> The final returned result is returned and printed on console."
   ]
  },
  {
   "cell_type": "code",
   "execution_count": 20,
   "metadata": {},
   "outputs": [
    {
     "name": "stdout",
     "output_type": "stream",
     "text": [
      "15\n",
      "5\n"
     ]
    }
   ],
   "source": [
    "#4 \n",
    "\n",
    "#Example 1\n",
    "from functools import reduce\n",
    "result=reduce(lambda x,y:x+y, [1,2,3,4,5])\n",
    "print(result)\n",
    "\n",
    "#iterations:\n",
    "''' \n",
    "s-1: 1,2=1+2(3)\n",
    "s-2: 3,3=3+3(6)\n",
    "s-3: 6,4=6+4(10)\n",
    "s-3: 10,5=10+5(15)\n",
    "s-4: return 15 as output\n",
    "'''\n",
    "\n",
    "#Example 2\n",
    "from functools import reduce\n",
    "result=reduce(lambda x,y:x if x>y else y ,[1,2,3,4,5])\n",
    "print(result)"
   ]
  },
  {
   "cell_type": "code",
   "execution_count": 24,
   "metadata": {},
   "outputs": [
    {
     "name": "stdout",
     "output_type": "stream",
     "text": [
      "1 \n",
      "1 2 \n",
      "1 2 3 \n",
      "1 2 3 4 \n",
      "1 2 3 4 5 \n"
     ]
    }
   ],
   "source": [
    "#5 Pattern\n",
    "n=int(input())\n",
    "for i in range(1,n+1):\n",
    "    for j in range(1,i+1):\n",
    "        print(j, end=\" \")\n",
    "    print()"
   ]
  },
  {
   "cell_type": "code",
   "execution_count": 7,
   "metadata": {},
   "outputs": [
    {
     "name": "stdout",
     "output_type": "stream",
     "text": [
      "1 2 3 4 5 6 7 \n",
      "  1 2 3 4 5 \n",
      "    1 2 3 \n",
      "      1 \n"
     ]
    }
   ],
   "source": [
    "#6\n",
    "n=int(input())\n",
    "spaces=0\n",
    "stars=(2*n)-1\n",
    "for row in range(1,n+1):\n",
    "    for sp in range(1,spaces+1):\n",
    "        print(\" \",end=\" \")\n",
    "    for col in range(1,stars+1):\n",
    "        print(col,end=\" \")\n",
    "    print()\n",
    "    stars-=2\n",
    "    spaces+=1"
   ]
  },
  {
   "cell_type": "code",
   "execution_count": 20,
   "metadata": {},
   "outputs": [
    {
     "name": "stdout",
     "output_type": "stream",
     "text": [
      "120\n"
     ]
    }
   ],
   "source": [
    "n=5\n",
    "s=0\n",
    "fact=1\n",
    "for i in range(1,n+1):\n",
    "    fact=fact*i\n",
    "s=fact+s\n",
    "print(s)"
   ]
  },
  {
   "cell_type": "code",
   "execution_count": 35,
   "metadata": {},
   "outputs": [
    {
     "data": {
      "text/plain": [
       "True"
      ]
     },
     "execution_count": 35,
     "metadata": {},
     "output_type": "execute_result"
    }
   ],
   "source": [
    "#7 W.a.Function to check given number is Strong or not\n",
    "def isSpecial(s):\n",
    "    t=s\n",
    "    summ=0\n",
    "    while s>0:\n",
    "        fact=1\n",
    "        r=s%10\n",
    "        for i in range(1,r+1):\n",
    "            fact=fact*i\n",
    "        summ=summ+fact\n",
    "        s//=10\n",
    "    if t==summ:\n",
    "        #print('Special Num')\n",
    "        return True\n",
    "    else:\n",
    "        #print('Not sno')\n",
    "        return False \n",
    "n=int(input())   ## User input\n",
    "isSpecial(n)"
   ]
  },
  {
   "cell_type": "code",
   "execution_count": 1,
   "metadata": {},
   "outputs": [
    {
     "name": "stdout",
     "output_type": "stream",
     "text": [
      "ChandraBharath\n"
     ]
    }
   ],
   "source": [
    "#8 Take Two strings concatenate two strings by using lambda functions\n",
    "from functools import reduce\n",
    "print(reduce(lambda x,y:x+y ,('Chandra','Bharath')))"
   ]
  },
  {
   "cell_type": "code",
   "execution_count": 80,
   "metadata": {},
   "outputs": [
    {
     "name": "stdout",
     "output_type": "stream",
     "text": [
      "[5, 6, 7, 8]\n"
     ]
    }
   ],
   "source": [
    "#9 \n",
    "#Method-1\n",
    "\n",
    "#print(list(map(int,input().split())))\n",
    "\n",
    "#Method-2\n",
    "k=int(input())\n",
    "l=[]\n",
    "for i in range(k):\n",
    "    k1=int(input(\"Enter Element\"))\n",
    "    l.append(k1)\n",
    "print(l)"
   ]
  },
  {
   "cell_type": "code",
   "execution_count": 53,
   "metadata": {},
   "outputs": [
    {
     "name": "stdout",
     "output_type": "stream",
     "text": [
      "[3, 2, 7]\n"
     ]
    }
   ],
   "source": [
    "#10 Take ur Mobile No as input print prime no's from it\n",
    "def isPrime(n):\n",
    "    if n<=1:\n",
    "        return False\n",
    "    else:\n",
    "        for i in range(2,n//2+1):\n",
    "            if n%i==0:\n",
    "                return False\n",
    "        else:\n",
    "            return True\n",
    "n=9392671496\n",
    "s=str(n)\n",
    "L=[]\n",
    "l=len(s)\n",
    "for i in range(l):\n",
    "    L.append(int(s[i]))\n",
    "k=list(filter(isPrime,L))\n",
    "print(k)\n",
    "#print(list(filter(lambda x: all(x%i!=0 for i in range(2,int(x**0.5)+1)),[9,3,9,2,6,7,1,4,9,6])))\n"
   ]
  },
  {
   "cell_type": "code",
   "execution_count": 8,
   "metadata": {},
   "outputs": [
    {
     "name": "stdout",
     "output_type": "stream",
     "text": [
      "[1, 2, 3, 2, 1, 8, 7, 97, 0]\n"
     ]
    }
   ],
   "source": [
    "from functools import reduce\n",
    "L=[[1,2],[3,2,1],[8,7],[97,0]]\n",
    "print(reduce(lambda x,y:x+y,L))e"
   ]
  },
  {
   "cell_type": "code",
   "execution_count": 7,
   "metadata": {},
   "outputs": [
    {
     "name": "stdout",
     "output_type": "stream",
     "text": [
      "{'a': ['apple', 'among'], 'm': ['man', 'mom'], 'k': ['kalyans', 'karnatak']}\n"
     ]
    }
   ],
   "source": [
    "s=['apple','among','man','mom','kalyans','karnatak']\n",
    "d={}\n",
    "for i in s:\n",
    "    if i[0] not in d:\n",
    "        d[i[0]]=[]\n",
    "    d[i[0]].append(i)\n",
    "print(d)"
   ]
  },
  {
   "cell_type": "code",
   "execution_count": 1,
   "metadata": {},
   "outputs": [
    {
     "name": "stdout",
     "output_type": "stream",
     "text": [
      "1 2 3 4 5 \n",
      "10 9 8 7 6 \n",
      "11 12 13 14 15 \n",
      "20 19 18 17 16 \n",
      "21 22 23 24 25 \n"
     ]
    }
   ],
   "source": [
    "n=int(input())\n",
    "for i in range(1,n+1):\n",
    "    dummy=(n*(i-1))+1\n",
    "    k=n*i\n",
    "    for j in range(1,n+1):\n",
    "        if i%2!=0:\n",
    "            print(dummy,end=\" \")\n",
    "            dummy+=1\n",
    "        else:\n",
    "            print(k,end=\" \")\n",
    "            k-=1\n",
    "    print()"
   ]
  },
  {
   "cell_type": "code",
   "execution_count": null,
   "metadata": {},
   "outputs": [],
   "source": []
  }
 ],
 "metadata": {
  "kernelspec": {
   "display_name": "Python 3",
   "language": "python",
   "name": "python3"
  },
  "language_info": {
   "codemirror_mode": {
    "name": "ipython",
    "version": 3
   },
   "file_extension": ".py",
   "mimetype": "text/x-python",
   "name": "python",
   "nbconvert_exporter": "python",
   "pygments_lexer": "ipython3",
   "version": "3.10.8"
  }
 },
 "nbformat": 4,
 "nbformat_minor": 2
}
