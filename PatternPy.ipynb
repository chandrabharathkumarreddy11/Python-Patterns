{
 "cells": [
  {
   "cell_type": "code",
   "execution_count": 1,
   "metadata": {},
   "outputs": [
    {
     "name": "stdout",
     "output_type": "stream",
     "text": [
      "* \n",
      "* * \n",
      "* * * \n",
      "* * * * \n",
      "* * * * * \n"
     ]
    }
   ],
   "source": [
    "#1\n",
    "n=int(input())\n",
    "for i in range(1,n+1):\n",
    "    for j in range(1,i+1):\n",
    "        print('*',end=\" \")\n",
    "    print()"
   ]
  },
  {
   "cell_type": "code",
   "execution_count": 2,
   "metadata": {},
   "outputs": [
    {
     "name": "stdout",
     "output_type": "stream",
     "text": [
      "1 \n",
      "2 2 \n",
      "3 3 3 \n",
      "4 4 4 4 \n",
      "5 5 5 5 5 \n"
     ]
    }
   ],
   "source": [
    "#2\n",
    "n=int(input())\n",
    "for i in range(1,n+1):\n",
    "    for j in range(1,i+1):\n",
    "        print(i,end=\" \")\n",
    "    print()"
   ]
  },
  {
   "cell_type": "code",
   "execution_count": 12,
   "metadata": {},
   "outputs": [
    {
     "name": "stdout",
     "output_type": "stream",
     "text": [
      "1 2 3 4 5 \n",
      "10 9 8 7 6 \n",
      "11 12 13 14 15 \n",
      "20 19 18 17 16 \n",
      "21 22 23 24 25 \n"
     ]
    }
   ],
   "source": [
    "## snake \n",
    "n=5\n",
    "for i in range(1,n+1):\n",
    "    dummy=((i-1)*n)+1\n",
    "    k=n*i\n",
    "    for j in range(1,n+1):\n",
    "        if i%2==1:\n",
    "            print(dummy,end=' ')\n",
    "            dummy+=1\n",
    "        else:\n",
    "            print(k,end=' ')\n",
    "            k-=1 \n",
    "    print()"
   ]
  },
  {
   "cell_type": "code",
   "execution_count": 6,
   "metadata": {},
   "outputs": [
    {
     "name": "stdout",
     "output_type": "stream",
     "text": [
      "A \n",
      "B B \n",
      "C C C \n",
      "D D D D \n",
      "E E E E E \n"
     ]
    }
   ],
   "source": [
    "n=int(input())\n",
    "for i in range(1,n+1):\n",
    "    for j in range(1,i+1):\n",
    "        print(chr(i+64),end=\" \")\n",
    "    print()"
   ]
  },
  {
   "cell_type": "code",
   "execution_count": 7,
   "metadata": {},
   "outputs": [
    {
     "name": "stdout",
     "output_type": "stream",
     "text": [
      "    * \n",
      "    *     \n",
      "    *         \n"
     ]
    }
   ],
   "source": [
    "# Hollow Diamond pattern\n",
    "\n",
    "# Reading number of row\n",
    "# row = int(input('Enter number of row: '))\n",
    "\n",
    "# # Upper part of hollow diamond\n",
    "# for i in range(1, row+1):\n",
    "#     for j in range(1,row-i+1):\n",
    "#         print(\" \", end=\"\")\n",
    "#     for j in range(1, 2*i):\n",
    "#         if j==1 or j==2*i-1:\n",
    "#             print(\"*\", end=\"\")\n",
    "#         else:\n",
    "#             print(\" \", end=\"\")\n",
    "#     print()\n",
    "\n",
    "# # Lower part of hollow diamond\n",
    "# for i in range(row-1,0, -1):\n",
    "#     for j in range(1,row-i+1):\n",
    "#         print(\" \", end=\"\")\n",
    "#     for j in range(1, 2*i):\n",
    "#         if j==1 or j==2*i-1:\n",
    "#             print(\"*\", end=\"\")\n",
    "#         else:\n",
    "#             print(\" \", end=\"\")\n",
    "#     print()\n",
    "\n",
    "\n",
    "n=int(input())\n",
    "spaces=n//2+1\n",
    "stars=1\n",
    "for i in range(1,n+1):\n",
    "    for sp in range(1,spaces+1):\n",
    "        print(' ',end=' ')\n",
    "    for st in range(1,2*i):\n",
    "        if st==1 or st==3*i-2:\n",
    "            print('*',end=' ')\n",
    "        else:\n",
    "            print(' ',end=' ')\n",
    "    print()\n"
   ]
  },
  {
   "cell_type": "code",
   "execution_count": 2,
   "metadata": {},
   "outputs": [
    {
     "name": "stdout",
     "output_type": "stream",
     "text": [
      "        1 \n",
      "      2 3 2 \n",
      "    3 4 5 4 3 \n",
      "  4 5 6 7 6 5 4 \n",
      "5 6 7 8 9 8 7 6 5 \n"
     ]
    }
   ],
   "source": [
    "rows = int(input(\"Enter number of rows: \"))\n",
    "\n",
    "k = 0\n",
    "count=0\n",
    "count1=0\n",
    "\n",
    "for i in range(1, rows+1):\n",
    "    for space in range(1, (rows-i)+1):\n",
    "        print(\"  \", end=\"\")\n",
    "        count+=1\n",
    "    \n",
    "    while k!=((2*i)-1):\n",
    "        if count<=rows-1:\n",
    "            print(i+k, end=\" \")\n",
    "            count+=1\n",
    "        else:\n",
    "            count1+=1\n",
    "            print(i+k-(2*count1), end=\" \")\n",
    "        k += 1\n",
    "    \n",
    "    count1 = count = k = 0\n",
    "    print()"
   ]
  },
  {
   "cell_type": "code",
   "execution_count": 7,
   "metadata": {},
   "outputs": [
    {
     "name": "stdout",
     "output_type": "stream",
     "text": [
      "1 \n",
      "2 6 \n",
      "3 7 10 \n",
      "4 8 11 13 \n",
      "5 9 12 14 15 \n"
     ]
    }
   ],
   "source": [
    "num=int(input()) \n",
    "for i in range(num):\n",
    "    dummy=i+1\n",
    "    d=num-1\n",
    "    for j in range(i+1):\n",
    "        print(dummy,end=' ')\n",
    "        dummy+=d\n",
    "        d=d-1\n",
    "\n",
    "    print()"
   ]
  },
  {
   "cell_type": "markdown",
   "metadata": {},
   "source": [
    "## Practice Patterns "
   ]
  },
  {
   "cell_type": "code",
   "execution_count": null,
   "metadata": {},
   "outputs": [
    {
     "name": "stdout",
     "output_type": "stream",
     "text": [
      "      1 \n",
      "     1 1 \n",
      "    1 2 1 \n",
      "   1 3 3 1 \n",
      "  1 4 6 4 1 \n"
     ]
    }
   ],
   "source": [
    "# Print Pascal's Triangle in Python\n",
    "from math import factorial\n",
    "# input n\n",
    "n = 5\n",
    "for i in range(n):\n",
    "    for j in range(n-i+1):\n",
    "\n",
    "        # for left spacing\n",
    "        print(end=\" \")\n",
    "\n",
    "    for j in range(i+1):\n",
    "\n",
    "        # nCr = n!/((n-r)!*r!)\n",
    "        print(factorial(i)//(factorial(j)*factorial(i-j)), end=\" \")\n",
    "\n",
    "    # for new line\n",
    "    print()"
   ]
  },
  {
   "cell_type": "code",
   "execution_count": 2,
   "metadata": {},
   "outputs": [
    {
     "name": "stdout",
     "output_type": "stream",
     "text": [
      "* * * * * * * \n",
      "  * * * * * \n",
      "    * * * \n",
      "      * \n"
     ]
    }
   ],
   "source": [
    "## 1\n",
    "n=int(input())\n",
    "spaces=0\n",
    "stars=(2*n)-1\n",
    "for i in range(1,n+1):\n",
    "    for sp in range(1,spaces+1):\n",
    "        print(\" \",end=\" \")\n",
    "    for st in range(1,stars+1):\n",
    "        print('*',end=\" \")\n",
    "    print()\n",
    "    spaces+=1\n",
    "    stars-=2"
   ]
  },
  {
   "cell_type": "code",
   "execution_count": 12,
   "metadata": {},
   "outputs": [
    {
     "name": "stdout",
     "output_type": "stream",
     "text": [
      "7 6 5 4 3 2 1 \n",
      "  5 4 3 2 1 \n",
      "    3 2 1 \n",
      "      1 \n"
     ]
    }
   ],
   "source": [
    "## 2\n",
    "n=int(input())\n",
    "spaces=0\n",
    "stars=(2*n)-1\n",
    "for i in range(1,n+1):\n",
    "    for sp in range(1,spaces+1):\n",
    "        print(\" \",end=\" \")\n",
    "    for st in range(stars,0,-1):\n",
    "        print(st,end=\" \")\n",
    "    print()\n",
    "    spaces+=1\n",
    "    stars-=2"
   ]
  },
  {
   "cell_type": "code",
   "execution_count": 14,
   "metadata": {},
   "outputs": [
    {
     "name": "stdout",
     "output_type": "stream",
     "text": [
      "      1 \n",
      "    1 2 3 \n",
      "  1 2 3 4 5 \n",
      "1 2 3 4 5 6 7 \n"
     ]
    }
   ],
   "source": [
    "## 3\n",
    "n=int(input())\n",
    "spaces=n-1\n",
    "stars=1\n",
    "for i in range(1,n+1):\n",
    "    for sp in range(1,spaces+1):\n",
    "        print(\" \",end=\" \")\n",
    "    for st in range(1,stars+1):\n",
    "        print(st,end=\" \")\n",
    "    print()\n",
    "    spaces-=1\n",
    "    stars+=2"
   ]
  },
  {
   "cell_type": "code",
   "execution_count": 3,
   "metadata": {},
   "outputs": [
    {
     "name": "stdout",
     "output_type": "stream",
     "text": [
      "      * \n",
      "    * * * \n",
      "  * * * * * \n",
      "* * * * * * * \n",
      "  * * * * * \n",
      "    * * * \n",
      "      * \n"
     ]
    }
   ],
   "source": [
    "## 4\n",
    "n=int(input())\n",
    "spaces=n//2\n",
    "stars=1\n",
    "for row in range(1,n+1):\n",
    "    for sp in range(1,spaces+1):\n",
    "        print(\" \",end=\" \")\n",
    "    for st in range(1,stars+1):\n",
    "        print(\"*\",end=\" \")\n",
    "    print()\n",
    "    if row<=n//2:\n",
    "        stars+=2\n",
    "        spaces-=1\n",
    "    else:\n",
    "        stars-=2\n",
    "        spaces+=1"
   ]
  },
  {
   "cell_type": "code",
   "execution_count": 21,
   "metadata": {},
   "outputs": [
    {
     "name": "stdout",
     "output_type": "stream",
     "text": [
      "      1 \n",
      "    1 2 3 \n",
      "  1 2 3 4 5 \n",
      "1 2 3 4 5 6 7 \n",
      "  1 2 3 4 5 \n",
      "    1 2 3 \n",
      "      1 \n"
     ]
    }
   ],
   "source": [
    "## 5\n",
    "n=int(input())\n",
    "spaces=n//2\n",
    "stars=1\n",
    "for row in range(1,n+1):\n",
    "    for sp in range(1,spaces+1):\n",
    "        print(\" \",end=\" \")\n",
    "    for st in range(1,stars+1):\n",
    "        print(st,end=\" \")\n",
    "    print()\n",
    "    if row<=n//2:\n",
    "        stars+=2\n",
    "        spaces-=1\n",
    "    else:\n",
    "        stars-=2\n",
    "        spaces+=1"
   ]
  },
  {
   "cell_type": "code",
   "execution_count": 35,
   "metadata": {},
   "outputs": [
    {
     "name": "stdout",
     "output_type": "stream",
     "text": [
      "        5 \n",
      "      5 4 \n",
      "    5 4 3 \n",
      "  5 4 3 2 \n",
      "5 4 3 2 1 \n"
     ]
    }
   ],
   "source": [
    "## 6\n",
    "n=5\n",
    "spaces=n-1\n",
    "for i in range(1,n+1):\n",
    "    dummy=n\n",
    "    for sp in range(1,spaces+1):\n",
    "        print(\" \",end=\" \")\n",
    "    for st in range(1,i+1):\n",
    "        print(dummy,end=\" \")\n",
    "        dummy-=1\n",
    "    print()\n",
    "    spaces-=1"
   ]
  },
  {
   "cell_type": "code",
   "execution_count": 53,
   "metadata": {},
   "outputs": [
    {
     "name": "stdout",
     "output_type": "stream",
     "text": [
      "        5 \n",
      "      4 5 \n",
      "    3 4 5 \n",
      "  2 3 4 5 \n",
      "1 2 3 4 5 \n"
     ]
    }
   ],
   "source": [
    "## 7\n",
    "num=5\n",
    "spaces=num-1\n",
    "stars=n\n",
    "for i in range(num,0,-1):\n",
    "    for sp in range(1,spaces+1):\n",
    "        print(\" \",end=\" \")\n",
    "    for st in range(i,stars+1):\n",
    "        print(st,end=\" \")\n",
    "    print()\n",
    "    spaces-=1"
   ]
  },
  {
   "cell_type": "code",
   "execution_count": 11,
   "metadata": {},
   "outputs": [
    {
     "name": "stdout",
     "output_type": "stream",
     "text": [
      "5 4 3 2 1 \n",
      "  4 3 2 1 \n",
      "    3 2 1 \n",
      "      2 1 \n",
      "        1 \n"
     ]
    }
   ],
   "source": [
    "## 8\n",
    "n=5\n",
    "spaces=0\n",
    "for i in range(5,0,-1):\n",
    "    for sp in range(1,spaces+1):\n",
    "        print(' ',end=\" \")\n",
    "    for st in range(i,0,-1):\n",
    "        print(st,end=\" \")\n",
    "    print()\n",
    "    spaces+=1    "
   ]
  },
  {
   "cell_type": "code",
   "execution_count": 15,
   "metadata": {},
   "outputs": [
    {
     "name": "stdout",
     "output_type": "stream",
     "text": [
      "        1 \n",
      "      2 1 \n",
      "    3 2 1 \n",
      "  4 3 2 1 \n",
      "5 4 3 2 1 \n"
     ]
    }
   ],
   "source": [
    "## 9\n",
    "num=5\n",
    "spaces=num-1\n",
    "# stars=1\n",
    "# dummy=1\n",
    "for i in range(1,n+1):\n",
    "    for j in range(1,spaces+1):\n",
    "        print(' ',end=' ')\n",
    "    for k in range(i,0,-1):\n",
    "        print(k,end=\" \")\n",
    "    print()\n",
    "    spaces-=1\n",
    "\n"
   ]
  },
  {
   "cell_type": "code",
   "execution_count": 17,
   "metadata": {},
   "outputs": [
    {
     "name": "stdout",
     "output_type": "stream",
     "text": [
      "        1 \n",
      "      2 2 \n",
      "    3 3 3 \n",
      "  4 4 4 4 \n",
      "5 5 5 5 5 \n"
     ]
    }
   ],
   "source": [
    "##10\n",
    "num=5\n",
    "spaces=num-1\n",
    "dummy=1\n",
    "for i in range(1,n+1):\n",
    "    for j in range(1,spaces+1):\n",
    "        print(' ',end=' ')\n",
    "    for k in range(i,0,-1):\n",
    "        print(i,end=\" \")\n",
    "    print()\n",
    "    spaces-=1\n",
    "    \n"
   ]
  },
  {
   "cell_type": "code",
   "execution_count": 19,
   "metadata": {},
   "outputs": [
    {
     "name": "stdout",
     "output_type": "stream",
     "text": [
      "1 2 3 4 5 \n",
      "  1 2 3 4 \n",
      "    1 2 3 \n",
      "      1 2 \n",
      "        1 \n"
     ]
    }
   ],
   "source": [
    "## 11\n",
    "n=5\n",
    "spaces=0\n",
    "stars=n\n",
    "for i in range(1,n+1):\n",
    "    for sp in range(1,spaces+1):\n",
    "        print(' ',end=' ')\n",
    "    for k in range(1,stars+1):\n",
    "        print(k,end=\" \")\n",
    "    print()\n",
    "    stars-=1\n",
    "    spaces+=1"
   ]
  },
  {
   "cell_type": "code",
   "execution_count": 21,
   "metadata": {},
   "outputs": [
    {
     "name": "stdout",
     "output_type": "stream",
     "text": [
      "        1 \n",
      "      1 2 \n",
      "    1 2 3 \n",
      "  1 2 3 4 \n",
      "1 2 3 4 5 \n"
     ]
    }
   ],
   "source": [
    "## 12\n",
    "n=5\n",
    "spaces=n-1\n",
    "stars=1\n",
    "for i in range(1,n+1):\n",
    "    for sp in range(1,spaces+1):\n",
    "        print(' ',end=' ')\n",
    "    for st in range(1,stars+1):\n",
    "        print(st,end=\" \")\n",
    "    print()\n",
    "    stars+=1\n",
    "    spaces-=1"
   ]
  },
  {
   "cell_type": "code",
   "execution_count": 22,
   "metadata": {},
   "outputs": [
    {
     "name": "stdout",
     "output_type": "stream",
     "text": [
      "5 \n",
      "4 5 \n",
      "3 4 5 \n",
      "2 3 4 5 \n",
      "1 2 3 4 5 \n"
     ]
    }
   ],
   "source": [
    "## 13\n",
    "n=int(input())\n",
    "for i in range(n,0,-1):\n",
    "    for j in range(i,n+1):\n",
    "        print(j,end=' ')\n",
    "    print()"
   ]
  },
  {
   "cell_type": "code",
   "execution_count": 23,
   "metadata": {},
   "outputs": [
    {
     "name": "stdout",
     "output_type": "stream",
     "text": [
      "1 \n",
      "2 1 \n",
      "3 2 1 \n",
      "4 3 2 1 \n",
      "5 4 3 2 1 \n"
     ]
    }
   ],
   "source": [
    "## 14\n",
    "num=5\n",
    "stars=1\n",
    "for i in range(1,n+1):\n",
    "    for st in range(i,0,-1):\n",
    "        print(st,end=\" \")\n",
    "    print()"
   ]
  },
  {
   "cell_type": "code",
   "execution_count": 30,
   "metadata": {},
   "outputs": [
    {
     "name": "stdout",
     "output_type": "stream",
     "text": [
      "5 \n",
      "5 4 \n",
      "5 4 3 \n",
      "5 4 3 2 \n",
      "5 4 3 2 1 \n"
     ]
    }
   ],
   "source": [
    "## 15\n",
    "num=5\n",
    "stars=num-1\n",
    "for i in range(1,n+1):\n",
    "    for j in range(num,stars,-1):\n",
    "        print(j,end=' ')\n",
    "    print()\n",
    "    stars-=1"
   ]
  },
  {
   "cell_type": "code",
   "execution_count": 31,
   "metadata": {},
   "outputs": [
    {
     "name": "stdout",
     "output_type": "stream",
     "text": [
      "1 2 3 4 5 \n",
      "1 2 3 4 \n",
      "1 2 3 \n",
      "1 2 \n",
      "1 \n"
     ]
    }
   ],
   "source": [
    "## 16 \n",
    "n=int(input())\n",
    "stars=n\n",
    "for i in range(1,n+1):\n",
    "    for j in range(1,stars+1):\n",
    "        print(j,end=' ')\n",
    "    print()\n",
    "    stars-=1"
   ]
  },
  {
   "cell_type": "code",
   "execution_count": 32,
   "metadata": {},
   "outputs": [
    {
     "name": "stdout",
     "output_type": "stream",
     "text": [
      "1 \n",
      "1 2 \n",
      "1 2 3 \n",
      "1 2 3 4 \n",
      "1 2 3 4 5 \n"
     ]
    }
   ],
   "source": [
    "## 17\n",
    "n=int(input())\n",
    "for i in range(1,n+1):\n",
    "    for j in range(1,i+1):\n",
    "        print(j,end=\" \")\n",
    "    print()"
   ]
  },
  {
   "cell_type": "code",
   "execution_count": 33,
   "metadata": {},
   "outputs": [
    {
     "name": "stdout",
     "output_type": "stream",
     "text": [
      "1 2 3 4 5 \n",
      "  1 2 3 \n",
      "    1 \n"
     ]
    }
   ],
   "source": [
    "## 18\n",
    "n=3\n",
    "spaces=0\n",
    "stars=(n*2)-1\n",
    "for i in range(1,n+1):\n",
    "    for sp in range(1,spaces+1):\n",
    "        print(' ',end=' ')\n",
    "    for st in range(1,stars+1):\n",
    "        print(st,end=\" \")\n",
    "    print()\n",
    "    stars-=2\n",
    "    spaces+=1\n"
   ]
  },
  {
   "cell_type": "code",
   "execution_count": 37,
   "metadata": {},
   "outputs": [
    {
     "name": "stdout",
     "output_type": "stream",
     "text": [
      "4 4 4 4 4 4 4 \n",
      "  3 3 3 3 3 \n",
      "    2 2 2 \n",
      "      1 \n"
     ]
    }
   ],
   "source": [
    "## 19\n",
    "n=4\n",
    "spaces=0\n",
    "stars=(n*2)-1\n",
    "for i in range(n,0,-1):\n",
    "    for sp in range(1,spaces+1):\n",
    "        print(' ',end=' ')\n",
    "    for st in range(1,stars+1):\n",
    "        print(i,end=\" \")\n",
    "    print()\n",
    "    stars-=2\n",
    "    spaces+=1\n"
   ]
  },
  {
   "cell_type": "code",
   "execution_count": 7,
   "metadata": {},
   "outputs": [
    {
     "name": "stdout",
     "output_type": "stream",
     "text": [
      "      1 \n",
      "    2 2 2 \n",
      "  3 3 3 3 3 \n",
      "4 4 4 4 4 4 4 \n"
     ]
    }
   ],
   "source": [
    "## 20\n",
    "n=4\n",
    "spaces=n-1\n",
    "stars=1\n",
    "for i in range(1,n+1):\n",
    "    for j in range(1,spaces+1):\n",
    "        print(' ',end=' ')\n",
    "    for k in range(1,stars+1):\n",
    "        print(i,end=' ')\n",
    "    print()\n",
    "    stars+=2\n",
    "    spaces-=1\n"
   ]
  },
  {
   "cell_type": "code",
   "execution_count": 8,
   "metadata": {},
   "outputs": [
    {
     "name": "stdout",
     "output_type": "stream",
     "text": [
      "1 \n",
      "3 3 \n",
      "5 5 5 \n",
      "7 7 7 7 \n"
     ]
    }
   ],
   "source": [
    "## 21\n",
    "n=4\n",
    "stars=1\n",
    "for i in range(1,n+1):\n",
    "    for j in range(1,i+1):\n",
    "        print(stars,end=' ')\n",
    "    print()\n",
    "    stars+=2\n"
   ]
  },
  {
   "cell_type": "code",
   "execution_count": 10,
   "metadata": {},
   "outputs": [
    {
     "name": "stdout",
     "output_type": "stream",
     "text": [
      "1 1 1 1 1 \n",
      "2 2 2 2 \n",
      "3 3 3 \n",
      "4 4 \n",
      "5 \n"
     ]
    }
   ],
   "source": [
    "## 22\n",
    "n=5\n",
    "for i in range(1,n+1):\n",
    "    for j in range(i,n+1):\n",
    "        print(i,end=' ')\n",
    "    print()"
   ]
  },
  {
   "cell_type": "code",
   "execution_count": 14,
   "metadata": {},
   "outputs": [
    {
     "name": "stdout",
     "output_type": "stream",
     "text": [
      "5 \n",
      "4 4 \n",
      "3 3 3 \n",
      "2 2 2 2 \n",
      "1 1 1 1 1 \n"
     ]
    }
   ],
   "source": [
    "## 23\n",
    "n=5\n",
    "stars=1\n",
    "for i in range(n,0,-1):\n",
    "    for j in range(1,stars+1):\n",
    "        print(i,end=' ')\n",
    "    print()\n",
    "    stars+=1"
   ]
  },
  {
   "cell_type": "code",
   "execution_count": 16,
   "metadata": {},
   "outputs": [
    {
     "name": "stdout",
     "output_type": "stream",
     "text": [
      "6 6 6 6 6 6 \n",
      "5 5 5 5 5 \n",
      "4 4 4 4 \n",
      "3 3 3 \n",
      "2 2 \n",
      "1 \n"
     ]
    }
   ],
   "source": [
    "## 24\n",
    "n=6\n",
    "stars=n\n",
    "for i in range(n,0,-1):\n",
    "    for j in range(1,stars+1):\n",
    "        print(i,end=' ')\n",
    "    print()\n",
    "    stars-=1\n"
   ]
  },
  {
   "cell_type": "code",
   "execution_count": 17,
   "metadata": {},
   "outputs": [
    {
     "name": "stdout",
     "output_type": "stream",
     "text": [
      "1 \n",
      "2 2 \n",
      "3 3 3 \n",
      "4 4 4 4 \n",
      "5 5 5 5 5 \n"
     ]
    }
   ],
   "source": [
    "## 25\n",
    "n=5\n",
    "for i in range(1,n+1):\n",
    "    for j in range(1,i+1):\n",
    "        print(i,end=' ')\n",
    "    print()\n",
    "    "
   ]
  },
  {
   "cell_type": "code",
   "execution_count": 18,
   "metadata": {},
   "outputs": [
    {
     "name": "stdout",
     "output_type": "stream",
     "text": [
      "1 1 1 1 1 \n",
      "2 2 2 2 2 \n",
      "3 3 3 3 3 \n",
      "4 4 4 4 4 \n",
      "5 5 5 5 5 \n"
     ]
    }
   ],
   "source": [
    "## 26\n",
    "n=5\n",
    "for i in range(1,n+1):\n",
    "    for j in range(1,n+1):\n",
    "        print(i,end=' ')\n",
    "    print()"
   ]
  },
  {
   "cell_type": "code",
   "execution_count": 19,
   "metadata": {},
   "outputs": [
    {
     "name": "stdout",
     "output_type": "stream",
     "text": [
      "      * \n",
      "    * * * \n",
      "  * * * * * \n",
      "* * * * * * * \n"
     ]
    }
   ],
   "source": [
    "## 27\n",
    "n=4\n",
    "spaces=n-1\n",
    "stars=1\n",
    "for i in range(1,n+1):\n",
    "    for j in range(1,spaces+1):\n",
    "        print(' ',end=' ')\n",
    "    for st in range(1,stars+1):\n",
    "        print('*',end=' ')\n",
    "    print()\n",
    "    spaces-=1\n",
    "    stars+=2"
   ]
  },
  {
   "cell_type": "code",
   "execution_count": 20,
   "metadata": {},
   "outputs": [
    {
     "name": "stdout",
     "output_type": "stream",
     "text": [
      "        * \n",
      "      * * \n",
      "    * * * \n",
      "  * * * * \n",
      "* * * * * \n"
     ]
    }
   ],
   "source": [
    "## 28\n",
    "n=5\n",
    "spaces=n-1\n",
    "stars=1\n",
    "for i in range(1,n+1):\n",
    "    for j in range(1,spaces+1):\n",
    "        print(' ',end=' ')\n",
    "    for k in range(1,stars+1):\n",
    "        print('*',end=' ')\n",
    "    print()\n",
    "    stars+=1\n",
    "    spaces-=1\n"
   ]
  },
  {
   "cell_type": "code",
   "execution_count": 26,
   "metadata": {},
   "outputs": [
    {
     "name": "stdout",
     "output_type": "stream",
     "text": [
      "* * * * * \n",
      "* * * * \n",
      "* * * \n",
      "* * \n",
      "* \n"
     ]
    }
   ],
   "source": [
    "## 29\n",
    "\n",
    "n=5\n",
    "for i in range(n,0,-1):\n",
    "    print('* '*i)\n",
    "# stars=n\n",
    "# for i in range(1,n+1):\n",
    "#     for k in range(1,stars+1):\n",
    "#         print('*',end=' ')\n",
    "#     print()\n",
    "#     stars-=1\n",
    "    "
   ]
  },
  {
   "cell_type": "code",
   "execution_count": 27,
   "metadata": {},
   "outputs": [
    {
     "name": "stdout",
     "output_type": "stream",
     "text": [
      "* \n",
      "* * \n",
      "* * * \n",
      "* * * * \n",
      "* * * * * \n"
     ]
    }
   ],
   "source": [
    "## 30\n",
    "n=5\n",
    "for i in range(1,n+1):\n",
    "    print('* '*i)"
   ]
  },
  {
   "cell_type": "code",
   "execution_count": 28,
   "metadata": {},
   "outputs": [
    {
     "name": "stdout",
     "output_type": "stream",
     "text": [
      "* * * * \n",
      "* * * * \n",
      "* * * * \n",
      "* * * * \n"
     ]
    }
   ],
   "source": [
    "## 31\n",
    "n=4\n",
    "for i in range(1,n+1):\n",
    "    for j in range(1,n+1):\n",
    "        print('*',end=' ')\n",
    "    print()"
   ]
  },
  {
   "cell_type": "code",
   "execution_count": 1,
   "metadata": {},
   "outputs": [
    {
     "name": "stdout",
     "output_type": "stream",
     "text": [
      "        1 \n",
      "      2 4 2 \n",
      "    3 5 7 5 3 \n",
      "  4 6 8 10 8 6 4 \n",
      "5 7 9 11 13 11 9 7 5 \n"
     ]
    }
   ],
   "source": [
    "## 32\n",
    "n = int(input())\n",
    "spaces = n - 1\n",
    "\n",
    "for i in range(1, n + 1):\n",
    "    # Print leading spaces\n",
    "    for j in range(spaces):\n",
    "        print(' ', end=' ')\n",
    "    \n",
    "    # Print increasing part of the row\n",
    "    num = i\n",
    "    for j in range(i):\n",
    "        print(num, end=' ')\n",
    "        num += 2\n",
    "    \n",
    "    # Print decreasing part of the row (mirroring the increasing part)\n",
    "    num -= 4\n",
    "    for j in range(i - 1):\n",
    "        print(num, end=' ')\n",
    "        num -= 2    \n",
    "    \n",
    "    # Move to the next row\n",
    "    print()\n",
    "    spaces -= 1\n"
   ]
  },
  {
   "cell_type": "code",
   "execution_count": null,
   "metadata": {},
   "outputs": [
    {
     "name": "stdout",
     "output_type": "stream",
     "text": [
      "        1 \n",
      "      2 4 2 \n",
      "    3 5 7 5 3 \n",
      "  4 6 8 10 8 6 4 \n",
      "5 7 9 11 13 11 9 7 5 \n"
     ]
    }
   ],
   "source": [
    "n=int(input())\n",
    "spaces=n-1\n",
    "for i in range(1,n+1):\n",
    "    for j in range(1,spaces+1):\n",
    "        print(' ',end=' ')\n",
    "    num=i\n",
    "    for j in range(i):\n",
    "        print(num,end=' ')\n",
    "        num+=1\n",
    "    num-=2\n",
    "    for j in range(i - 1):\n",
    "        print(num,end=' ')\n",
    "        num-=1\n",
    "    print()\n",
    "    spaces-=1"
   ]
  },
  {
   "cell_type": "code",
   "execution_count": 17,
   "metadata": {},
   "outputs": [
    {
     "name": "stdout",
     "output_type": "stream",
     "text": [
      "       1\n",
      "     2 4 2\n",
      "   3 5 7 5 3\n",
      " 4 6 8 10 8 6 4\n"
     ]
    }
   ],
   "source": [
    "def generate_pattern(n):\n",
    "    for i in range(1, n + 1):\n",
    "        row = []\n",
    "        num = i\n",
    "        for j in range(i):\n",
    "            row.append(num)\n",
    "            num += 2  # Increment by 2 each time\n",
    "        # Append the reversed part, omitting the last element\n",
    "        row += row[-2::-1]\n",
    "        # Center-align the row by adding spaces before the numbers\n",
    "        print(\"  \" * (n - i), \" \".join(map(str, row)))\n",
    "\n",
    "# Set n as the number of rows you want to generate\n",
    "n = 4\n",
    "generate_pattern(n)"
   ]
  },
  {
   "cell_type": "code",
   "execution_count": 14,
   "metadata": {},
   "outputs": [
    {
     "name": "stdout",
     "output_type": "stream",
     "text": [
      "\n",
      "p \n",
      "p y \n",
      "p y t \n",
      "p y t h \n",
      "p y t h o \n",
      "p y t h o n \n"
     ]
    }
   ],
   "source": [
    "#33\n",
    "s=input('enter :')\n",
    "l=len(s)\n",
    "for i in range(l+1):\n",
    "    for j in range(i):\n",
    "        print(s[j],end=' ')\n",
    "    print()"
   ]
  },
  {
   "cell_type": "code",
   "execution_count": 10,
   "metadata": {},
   "outputs": [
    {
     "name": "stdout",
     "output_type": "stream",
     "text": [
      "p \n",
      "y y \n",
      "t t t \n",
      "h h h h \n",
      "o o o o o \n",
      "n n n n n n \n"
     ]
    }
   ],
   "source": [
    "#34\n",
    "s=input('enter :')\n",
    "l=len(s)\n",
    "for i in range(l):\n",
    "    for j in range(i+1):\n",
    "        print(s[i],end=' ')\n",
    "    print()"
   ]
  }
 ],
 "metadata": {
  "kernelspec": {
   "display_name": "Python 3",
   "language": "python",
   "name": "python3"
  },
  "language_info": {
   "codemirror_mode": {
    "name": "ipython",
    "version": 3
   },
   "file_extension": ".py",
   "mimetype": "text/x-python",
   "name": "python",
   "nbconvert_exporter": "python",
   "pygments_lexer": "ipython3",
   "version": "3.13.0"
  }
 },
 "nbformat": 4,
 "nbformat_minor": 2
}
