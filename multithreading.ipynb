{
 "cells": [
  {
   "cell_type": "code",
   "execution_count": 1,
   "metadata": {},
   "outputs": [
    {
     "name": "stdout",
     "output_type": "stream",
     "text": [
      "Square Numbers: \n",
      "Square : 1\n",
      "Square : 4\n",
      "Square : 9\n",
      "Square : 16\n",
      "Square : 25\n",
      "cube Numbers: \n",
      "cube : 1\n",
      "cube : 8\n",
      "cube : 27\n",
      "cube : 64\n",
      "cube : 125\n",
      "Time taken to run the program:  20.080037117004395\n"
     ]
    }
   ],
   "source": [
    "## program run one after another (not simultaneous)\n",
    "import time\n",
    "def square_num(l):\n",
    "    print(\"Square Numbers: \")\n",
    "    for number in l:\n",
    "        time.sleep(2)\n",
    "        print(\"Square :\" , number**2)\n",
    "\n",
    "def cube_num(l):\n",
    "    print(\"cube Numbers: \")\n",
    "    for number in l:\n",
    "        time.sleep(2)\n",
    "        print(\"cube :\" , number**3)\n",
    "i_t=time.time()\n",
    "l=[1,2,3,4,5]\n",
    "square_num(l)\n",
    "cube_num(l)\n",
    "print('Time taken to run the program: ',time.time()-i_t)"
   ]
  },
  {
   "cell_type": "code",
   "execution_count": 12,
   "metadata": {},
   "outputs": [
    {
     "name": "stdout",
     "output_type": "stream",
     "text": [
      "Square Numbers: cube Numbers: \n",
      "\n",
      "Square : 1\n",
      "cube : 1\n",
      "Square : 4\n",
      "cube : 8\n",
      "Square : 9\n",
      "cube : 27\n",
      "Square : 16\n",
      "cube : 64\n",
      "Square : 25\n",
      "cube : 125\n",
      "Time taken : 1.0530309677124023\n"
     ]
    }
   ],
   "source": [
    "import threading\n",
    "import time\n",
    "\n",
    "def square_num(l):\n",
    "    print(\"Square Numbers: \") \n",
    "    for number in l:\n",
    "        time.sleep(0.2)\n",
    "        print(\"Square :\" , number**2)\n",
    "\n",
    "def cube_num(l):\n",
    "    print(\"cube Numbers: \")\n",
    "    for number in l:\n",
    "        time.sleep(0.2)\n",
    "        print(\"cube :\" , number**3)\n",
    "\n",
    "initial_time=time.time()\n",
    "l=[1,2,3,4,5]\n",
    "t1=threading.Thread(target=square_num,args=(l,))\n",
    "t2=threading.Thread(target=cube_num,args=(l,))\n",
    "\n",
    "t1.start()\n",
    "t2.start()\n",
    "\n",
    "t1.join()   ## join Makes the main thread wait for other threads to complete.\n",
    "t2.join()\n",
    "\n",
    "#square_num(l)\n",
    "#cube_num(l)\n",
    "print('Time taken :',time.time()-initial_time)"
   ]
  },
  {
   "cell_type": "code",
   "execution_count": 2,
   "metadata": {},
   "outputs": [
    {
     "name": "stdout",
     "output_type": "stream",
     "text": [
      "60\n",
      "\n",
      "1\n",
      "7\n",
      "2\n",
      "8\n",
      "3\n",
      "9\n",
      "4\n",
      "Time Taken: 1.024653673171997\n"
     ]
    }
   ],
   "source": [
    "import threading\n",
    "import time\n",
    "def num1():\n",
    "    for i in range(5):\n",
    "        time.sleep(0.2)\n",
    "        print(i)\n",
    "\n",
    "def num2():\n",
    "    for i in range(6,10):\n",
    "        time.sleep(0.2)\n",
    "        print(i)\n",
    "\n",
    "intime=time.time()\n",
    "t=threading.Thread(target=num1)\n",
    "t1=threading.Thread(target=num2)\n",
    "# num1()\n",
    "# num2()\n",
    "t.start()\n",
    "t1.start()\n",
    "\n",
    "t.join()\n",
    "t1.join()\n",
    "\n",
    "print(\"Time Taken:\",time.time()-intime)"
   ]
  },
  {
   "cell_type": "code",
   "execution_count": null,
   "metadata": {},
   "outputs": [],
   "source": []
  }
 ],
 "metadata": {
  "kernelspec": {
   "display_name": "Python 3",
   "language": "python",
   "name": "python3"
  },
  "language_info": {
   "codemirror_mode": {
    "name": "ipython",
    "version": 3
   },
   "file_extension": ".py",
   "mimetype": "text/x-python",
   "name": "python",
   "nbconvert_exporter": "python",
   "pygments_lexer": "ipython3",
   "version": "3.10.8"
  }
 },
 "nbformat": 4,
 "nbformat_minor": 2
}
