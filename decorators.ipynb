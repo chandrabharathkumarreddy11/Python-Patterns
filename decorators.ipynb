{
 "cells": [
  {
   "cell_type": "markdown",
   "metadata": {},
   "source": [
    "## Decorators:\n",
    "--> Decorators are used for adding additional features to decorated function by using decorator function without modifying the implementation of decorated function.\n",
    "(i) Decorator Function:    (Makeup-Kit)\n",
    "--> it is a function by using which we perform decoration operation\n",
    "## properties of Decorator Function\n",
    "(A)It should take only one argument\n",
    "(B)Nested Function\n",
    "(C)Function with an return Type(return inner fun address)\n",
    "\n",
    "(ii) Decorated Function:     (Girl)\n",
    "--> it is a function on which we perform decoration operation\n",
    "## properties of Decorated function\n",
    "(A) It can be any Type (no specific properties for decorated function)"
   ]
  },
  {
   "cell_type": "code",
   "execution_count": 6,
   "metadata": {},
   "outputs": [
    {
     "name": "stdout",
     "output_type": "stream",
     "text": [
      "Outer is Started\n",
      "<function hai at 0x000002CD502327A0>\n",
      "Outer is Ended\n",
      "inner is started\n",
      "Hai starts\n",
      "Hai ends\n",
      "inner is ended\n"
     ]
    }
   ],
   "source": [
    "#Example-1\n",
    "def outer(arg):\n",
    "    \"\"\"@outer--> internally interpreter call outer func by passing decorated fun address and that call assign to one variable that avriable is btg but decorated func name\n",
    "     ##Ex: S-1:hai holds decorator fun with its(hai) address, S-2:hai holds the inner func address \"\"\"\n",
    "    print(\"Outer is Started\")\n",
    "    print(arg)\n",
    "    def inner():\n",
    "        print(\"inner is started\")\n",
    "        arg()\n",
    "        print(\"inner is ended\")\n",
    "    print(\"Outer is Ended\")\n",
    "    return inner\n",
    "@outer  #hai=outer(hai fun address)  ##hai=inner function address \n",
    "def hai():\n",
    "    print(\"Hai starts\")\n",
    "    print(\"Hai ends\")\n",
    "hai()\n",
    "\n",
    "\n"
   ]
  },
  {
   "cell_type": "code",
   "execution_count": 11,
   "metadata": {},
   "outputs": [
    {
     "name": "stdout",
     "output_type": "stream",
     "text": [
      "Brother is Monitoring\n",
      "sister is talking\n",
      "sister talking ends\n",
      "Brother Monitoring ended\n",
      "Brother is Monitoring\n",
      "sister 2 is talking\n",
      "sister 2 talking ends\n",
      "Brother Monitoring ended\n"
     ]
    }
   ],
   "source": [
    "#Example-2\n",
    "def brother(arg):\n",
    "    def inner():\n",
    "        print(\"Brother is Monitoring\")\n",
    "        arg()\n",
    "        print(\"Brother Monitoring ended\")\n",
    "    return inner\n",
    "@brother\n",
    "def sister1():     ##sister1=brother(sis1 func address)  ##sister1=inner func address\n",
    "    print(\"sister is talking\")\n",
    "    print(\"sister talking ends\")\n",
    "sister1()\n",
    "@brother\n",
    "def sister2():     ##sister2=brother(sis2 func address)  ##sister2=inner func address\n",
    "    print(\"sister 2 is talking\")\n",
    "    print(\"sister 2 talking ends\")\n",
    "sister2()\n"
   ]
  },
  {
   "cell_type": "markdown",
   "metadata": {},
   "source": [
    "## Calculating the time taken for doing a specific task"
   ]
  },
  {
   "cell_type": "code",
   "execution_count": 29,
   "metadata": {},
   "outputs": [
    {
     "name": "stdout",
     "output_type": "stream",
     "text": [
      "1 2 3 5 8 13 21 34 55 89 \n",
      "Execution time: 3.9731900691986084 seconds\n"
     ]
    }
   ],
   "source": [
    "#chargpt\n",
    "def timeDecor(arg):\n",
    "    def inner():\n",
    "        import time\n",
    "        t1 = time.time()  # Call time.time() to get the current time\n",
    "        arg()  # Call the decorated function\n",
    "        t2 = time.time()  # Call time.time() again to get the end time\n",
    "        print(\"Execution time:\", t2 - t1, \"seconds\")  # Print the execution time\n",
    "    return inner\n",
    "\n",
    "@timeDecor\n",
    "def fibo():\n",
    "    fn = int(input(\"Enter the first number: \"))\n",
    "    sn = int(input(\"Enter the second number: \"))\n",
    "    n = int(input(\"Enter how many numbers: \"))\n",
    "    if n == 1:\n",
    "        print(fn)\n",
    "    elif n == 2:\n",
    "        print(fn, sn)\n",
    "    else:\n",
    "        print(fn, sn, end=\" \")\n",
    "        for i in range(n-2):\n",
    "            tn = fn + sn\n",
    "            print(tn, end=\" \")\n",
    "            fn, sn = sn, tn\n",
    "        print()  # To move to the next line after printing all numbers\n",
    "\n",
    "fibo()\n",
    "\n"
   ]
  },
  {
   "cell_type": "code",
   "execution_count": 30,
   "metadata": {},
   "outputs": [
    {
     "name": "stdout",
     "output_type": "stream",
     "text": [
      "1 2 3\n",
      "5\n",
      "8\n",
      "\n",
      "3.150385618209839\n"
     ]
    }
   ],
   "source": [
    "def timeDecor(arg):\n",
    "    def inner():\n",
    "        import time\n",
    "        t1=time.time()\n",
    "        arg()\n",
    "        t2=time.time()\n",
    "        print(t2-t1)\n",
    "    return inner\n",
    "@timeDecor\n",
    "def fibo():\n",
    "    fn=int(input())\n",
    "    sn=int(input())\n",
    "    n=int(input(\"enter how many no's: \"))\n",
    "    if n==1:\n",
    "        print(fn)\n",
    "    elif n==2:\n",
    "        print(fn,sn)\n",
    "    else:\n",
    "        print(fn,sn,)\n",
    "        for i in range(n-2):\n",
    "            tn=fn+sn\n",
    "            print(tn)\n",
    "            fn,sn=sn,tn\n",
    "        print()\n",
    "fibo()"
   ]
  },
  {
   "cell_type": "code",
   "execution_count": 4,
   "metadata": {},
   "outputs": [
    {
     "name": "stdout",
     "output_type": "stream",
     "text": [
      "Car required Engine Functionality\n",
      "Engine is Insatlled\n",
      "125KW\n"
     ]
    }
   ],
   "source": [
    "#########--- Aggregation------############\n",
    "## Has A relationship (car has engine)\n",
    "class Engine():\n",
    "    ''' Using another class object in current class \n",
    "    or composing a big object by combining small small objects is ntg but aggregation'''\n",
    "    def __init__(self):\n",
    "        self.power='125KW'\n",
    "    def useEngine(self):\n",
    "        print('Engine is Insatlled')\n",
    "class Car:\n",
    "    def __init__(self):\n",
    "        self.engine=Engine()\n",
    "    def useCar(self):\n",
    "        print('Car required Engine Functionality')\n",
    "        self.engine.useEngine()\n",
    "        print(self.engine.power)\n",
    "c=Car()\n",
    "c.useCar()"
   ]
  },
  {
   "cell_type": "code",
   "execution_count": null,
   "metadata": {},
   "outputs": [],
   "source": []
  }
 ],
 "metadata": {
  "kernelspec": {
   "display_name": "Python 3",
   "language": "python",
   "name": "python3"
  },
  "language_info": {
   "codemirror_mode": {
    "name": "ipython",
    "version": 3
   },
   "file_extension": ".py",
   "mimetype": "text/x-python",
   "name": "python",
   "nbconvert_exporter": "python",
   "pygments_lexer": "ipython3",
   "version": "3.10.8"
  }
 },
 "nbformat": 4,
 "nbformat_minor": 2
}
