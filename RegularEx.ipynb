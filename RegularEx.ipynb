{
 "cells": [
  {
   "cell_type": "code",
   "execution_count": 1,
   "metadata": {},
   "outputs": [],
   "source": [
    "import re"
   ]
  },
  {
   "cell_type": "code",
   "execution_count": 3,
   "metadata": {},
   "outputs": [
    {
     "data": {
      "text/plain": [
       "<re.Match object; span=(0, 1), match='h'>"
      ]
     },
     "execution_count": 3,
     "metadata": {},
     "output_type": "execute_result"
    }
   ],
   "source": [
    "S='hai python'\n",
    "re.match('h',S)"
   ]
  },
  {
   "cell_type": "code",
   "execution_count": null,
   "metadata": {},
   "outputs": [],
   "source": []
  },
  {
   "cell_type": "code",
   "execution_count": 5,
   "metadata": {},
   "outputs": [
    {
     "name": "stdout",
     "output_type": "stream",
     "text": [
      "17\n",
      "['2', '3', '4', '6', '6', '5', '9']\n"
     ]
    }
   ],
   "source": [
    "## findall\n",
    "import re\n",
    "s=0\n",
    "matcher=re.findall('[0-9]','india is my 23 country 46l i love it 659')\n",
    "for i in matcher:\n",
    "    if int(i)%2==1:\n",
    "        s+=int(i)\n",
    "print(s)\n",
    "print(matcher)"
   ]
  },
  {
   "cell_type": "code",
   "execution_count": null,
   "metadata": {},
   "outputs": [
    {
     "ename": "TypeError",
     "evalue": "int() argument must be a string, a bytes-like object or a real number, not 're.Match'",
     "output_type": "error",
     "traceback": [
      "\u001b[1;31m---------------------------------------------------------------------------\u001b[0m",
      "\u001b[1;31mTypeError\u001b[0m                                 Traceback (most recent call last)",
      "Cell \u001b[1;32mIn[6], line 7\u001b[0m\n\u001b[0;32m      4\u001b[0m matcher\u001b[38;5;241m=\u001b[39mre\u001b[38;5;241m.\u001b[39mfinditer(\u001b[38;5;124m'\u001b[39m\u001b[38;5;124m[0-9]\u001b[39m\u001b[38;5;124m'\u001b[39m,\u001b[38;5;124m'\u001b[39m\u001b[38;5;124mindia is my 23 country 46l i love it 659\u001b[39m\u001b[38;5;124m'\u001b[39m)\n\u001b[0;32m      5\u001b[0m \u001b[38;5;28;01mfor\u001b[39;00m i \u001b[38;5;129;01min\u001b[39;00m matcher:\n\u001b[0;32m      6\u001b[0m     \u001b[38;5;66;03m# k=i.group()\u001b[39;00m\n\u001b[1;32m----> 7\u001b[0m     \u001b[38;5;28;01mif\u001b[39;00m \u001b[38;5;28;43mint\u001b[39;49m\u001b[43m(\u001b[49m\u001b[43mi\u001b[49m\u001b[43m)\u001b[49m\u001b[38;5;241m%\u001b[39m\u001b[38;5;241m2\u001b[39m\u001b[38;5;241m==\u001b[39m\u001b[38;5;241m1\u001b[39m:\n\u001b[0;32m      8\u001b[0m         s\u001b[38;5;241m+\u001b[39m\u001b[38;5;241m=\u001b[39m\u001b[38;5;28mint\u001b[39m(i)\n\u001b[0;32m      9\u001b[0m \u001b[38;5;28mprint\u001b[39m(s)\n",
      "\u001b[1;31mTypeError\u001b[0m: int() argument must be a string, a bytes-like object or a real number, not 're.Match'"
     ]
    }
   ],
   "source": [
    "## finditer\n",
    "import re\n",
    "s=0\n",
    "matcher=re.finditer('[0-9]','india is my 23 country 46l i love it 659')\n",
    "for i in matcher:\n",
    "    k=i.group()\n",
    "    if int(k)%2==1:\n",
    "        s+=int(k)\n",
    "print(s)\n",
    "print(matcher)"
   ]
  },
  {
   "cell_type": "code",
   "execution_count": 7,
   "metadata": {},
   "outputs": [
    {
     "name": "stdout",
     "output_type": "stream",
     "text": [
      "axxxxhgxxxxhxxxxxxxx\n"
     ]
    }
   ],
   "source": [
    "## sub --> syntax: re.sub(pattern,replaced one,traget string)\n",
    "import re\n",
    "s=re.sub('\\d','xxxx','a6hg7h87')\n",
    "print(s)"
   ]
  },
  {
   "cell_type": "code",
   "execution_count": 3,
   "metadata": {},
   "outputs": [
    {
     "name": "stdout",
     "output_type": "stream",
     "text": [
      "('a##b##n##', 3)\n",
      "the target string: a##b##n##\n",
      "the no.of occurences: 3\n"
     ]
    }
   ],
   "source": [
    "## subn --> syntax: re.subn(pattern,replaced one,target string)\n",
    "''' output: tuple(target string, no.of occurences change)'''\n",
    "s=re.subn('\\d','##','a7b5n6')\n",
    "print(s)\n",
    "print('the target string:',s[0])\n",
    "print('the no.of occurences:',s[1])"
   ]
  },
  {
   "cell_type": "code",
   "execution_count": 8,
   "metadata": {},
   "outputs": [
    {
     "name": "stdout",
     "output_type": "stream",
     "text": [
      "['i', 'love my india']\n"
     ]
    }
   ],
   "source": [
    "## split --> splits the given string\n",
    "s=re.split('[.]','i.love my india')\n",
    "print(s)"
   ]
  },
  {
   "cell_type": "code",
   "execution_count": 15,
   "metadata": {},
   "outputs": [
    {
     "name": "stdout",
     "output_type": "stream",
     "text": [
      "Target string ends with reddy\n"
     ]
    },
    {
     "data": {
      "text/plain": [
       "\"  \\nre.IGNORECASE   --> WE DON'T BOTHER ABOUT THE CASE \\n)\\n\""
      ]
     },
     "execution_count": 15,
     "metadata": {},
     "output_type": "execute_result"
    }
   ],
   "source": [
    "## ^ -- startswith \n",
    "\n",
    "# s='bharath kumar reddy'\n",
    "# m=re.search('^bharath',s)\n",
    "# if m!=None:\n",
    "#     print('Target string starts with bharath')\n",
    "\n",
    "## $ -- endswith\n",
    "s='bharath kumar reddy'\n",
    "m=re.search('rEddy$',s,re.IGNORECASE)\n",
    "if m!=None:\n",
    "    print('Target string ends with reddy')\n",
    "\n",
    "'''  \n",
    "re.IGNORECASE   --> WE DON'T BOTHER ABOUT THE CASE \n",
    ")\n",
    "'''"
   ]
  },
  {
   "cell_type": "code",
   "execution_count": 18,
   "metadata": {},
   "outputs": [
    {
     "name": "stdout",
     "output_type": "stream",
     "text": [
      "['e', 'o', 'o']\n"
     ]
    }
   ],
   "source": [
    "## chatgpt\n",
    "## find all the vowels\n",
    "s=re.findall('[aeiouAEIOU]','hello World')\n",
    "print(s)"
   ]
  },
  {
   "cell_type": "code",
   "execution_count": 24,
   "metadata": {},
   "outputs": [
    {
     "name": "stdout",
     "output_type": "stream",
     "text": [
      "['Python', 'is', 'fun', 'Let', 's', 'code']\n"
     ]
    }
   ],
   "source": [
    "## all words\n",
    "s=re.findall(r'[a-zA-Z]+',\"Python is fun! Let's code.\")\n",
    "print(s)"
   ]
  },
  {
   "cell_type": "code",
   "execution_count": 25,
   "metadata": {},
   "outputs": [
    {
     "name": "stdout",
     "output_type": "stream",
     "text": [
      "['12345', '29']\n"
     ]
    }
   ],
   "source": [
    "## extract digits\n",
    "s=re.findall(r'[0-9]+',\"My number is 12345 and my age is 29\")\n",
    "print(s)"
   ]
  },
  {
   "cell_type": "code",
   "execution_count": 28,
   "metadata": {},
   "outputs": [
    {
     "name": "stdout",
     "output_type": "stream",
     "text": [
      "valid email\n"
     ]
    }
   ],
   "source": [
    "# Check valid email address\n",
    "s=input('Enter the string:  ')\n",
    "# b=re.findall('[a-zA-Z1-9]\\w*[.]?\\w+@gmail[.]com',s)\n",
    "b=re.findall(r'[a-zA-Z0-9._%+-]+@gmail\\.com',s)              ## chatgpt\n",
    "if b:\n",
    "    print('valid email')\n",
    "else:\n",
    "    print('pls enter valid email id')"
   ]
  },
  {
   "cell_type": "code",
   "execution_count": 35,
   "metadata": {},
   "outputs": [
    {
     "name": "stdout",
     "output_type": "stream",
     "text": [
      "['am', 'python']\n"
     ]
    }
   ],
   "source": [
    "## all lowercase words\n",
    "s=input('Enter: ')\n",
    "m=re.findall(r'[a-z]+',s)\n",
    "print(m)"
   ]
  },
  {
   "cell_type": "code",
   "execution_count": 34,
   "metadata": {},
   "outputs": [
    {
     "name": "stdout",
     "output_type": "stream",
     "text": [
      "Valid IP addresses found: ['192.168.1.1', '255.255.255.255', '10.0.0.1']\n"
     ]
    }
   ],
   "source": [
    "## intermediate Questions\n",
    "#6 \n",
    "import re\n",
    "\n",
    "# Regular expression pattern for matching IPv4 addresses\n",
    "ip_pattern = r'\\b(?:[0-9]{1,3}\\.){3}[0-9]{1,3}\\b'\n",
    "\n",
    "# Sample input string\n",
    "s = \"Some valid IPs are 192.168.1.1, 255.255.255.255, and 10.0.0.1. But 999.999.999.999 is not valid.\"\n",
    "\n",
    "# Find all matches using findall\n",
    "valid_ips = re.findall(ip_pattern, s)\n",
    "\n",
    "# Filter out any invalid IPs that exceed the range of 255\n",
    "valid_ips = [ip for ip in valid_ips if all(0 <= int(octet) <= 255 for octet in ip.split('.'))]\n",
    "\n",
    "# Print valid IP addresses\n",
    "print(\"Valid IP addresses found:\", valid_ips)\n"
   ]
  },
  {
   "cell_type": "code",
   "execution_count": 37,
   "metadata": {},
   "outputs": [
    {
     "name": "stdout",
     "output_type": "stream",
     "text": [
      "['12-05-2020', '23-11-2021', '03-01-2023']\n"
     ]
    }
   ],
   "source": [
    "## Extract Date\n",
    "p='[0-3][0-9]-[0-1][0-9]-[0-9]{4}'\n",
    "s=input('input entere')\n",
    "m=re.findall(p,s)\n",
    "print(m)"
   ]
  }
 ],
 "metadata": {
  "kernelspec": {
   "display_name": "Python 3",
   "language": "python",
   "name": "python3"
  },
  "language_info": {
   "codemirror_mode": {
    "name": "ipython",
    "version": 3
   },
   "file_extension": ".py",
   "mimetype": "text/x-python",
   "name": "python",
   "nbconvert_exporter": "python",
   "pygments_lexer": "ipython3",
   "version": "3.10.8"
  }
 },
 "nbformat": 4,
 "nbformat_minor": 2
}
