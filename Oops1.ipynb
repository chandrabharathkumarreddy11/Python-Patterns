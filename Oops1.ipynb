{
 "cells": [
  {
   "cell_type": "markdown",
   "metadata": {},
   "source": [
    "## Oops: --> It is a popular approach to solve a programming problem by creating object . It is known as Oops.\n",
    "--> Object is combination of states and behaviours"
   ]
  },
  {
   "cell_type": "markdown",
   "metadata": {},
   "source": [
    "Classification of states of an object\n",
    "1.Generic Properties (Common properties of an object)\n",
    "## example --> bank details same for everyone like bankname,bankaddress,bankifsc etc.\n",
    "2.Specfic properties (uncommom properties of an object)\n",
    "## example --> bank account holder details r vary"
   ]
  },
  {
   "cell_type": "markdown",
   "metadata": {},
   "source": [
    "Generic Properties --- defining common data"
   ]
  },
  {
   "cell_type": "code",
   "execution_count": 1,
   "metadata": {},
   "outputs": [],
   "source": [
    "\n",
    "## example for Generic Properties\n",
    "class Bank:\n",
    "    bank_name=\"sbi\"\n",
    "    bank_ifsc=\"1234\"\n",
    "    bank_address=\"kizikistan\"\n",
    "girish=Bank()\n",
    "Bharath=Bank()"
   ]
  },
  {
   "cell_type": "code",
   "execution_count": 7,
   "metadata": {},
   "outputs": [
    {
     "name": "stdout",
     "output_type": "stream",
     "text": [
      "sbi\n",
      "kizikistan\n"
     ]
    }
   ],
   "source": [
    "# Accessing Generic(Common) Properties by using class\n",
    "# Syntax: classname.classvariable\n",
    "print(Bank.bank_name)\n",
    "print(Bank.bank_address)"
   ]
  },
  {
   "cell_type": "code",
   "execution_count": 9,
   "metadata": {},
   "outputs": [
    {
     "name": "stdout",
     "output_type": "stream",
     "text": [
      "sbi\n",
      "sbi\n"
     ]
    }
   ],
   "source": [
    "# Accessing Generic(Common) Properties by using object\n",
    "# Syntax: objname.classvariable\n",
    "print(girish.bank_name)\n",
    "print(Bharath.bank_name)"
   ]
  },
  {
   "cell_type": "code",
   "execution_count": 10,
   "metadata": {},
   "outputs": [
    {
     "name": "stdout",
     "output_type": "stream",
     "text": [
      "Nellore\n",
      "Nellore\n",
      "Nellore\n"
     ]
    }
   ],
   "source": [
    "#modifying Generic properties by using class\n",
    "# Syntax: classname.classvariable=New Value\n",
    "Bank.bank_address=\"Nellore\"\n",
    "#print(Bank.bank_address)\n",
    "#print(Bharath.bank_address)\n",
    "#print(girish.bank_address)\n"
   ]
  },
  {
   "cell_type": "markdown",
   "metadata": {},
   "source": [
    "--> If we modify generic property using class then it modifies in class as well as objects\n",
    "--> If we modify generic property using object then it modifies only in particular object\n"
   ]
  },
  {
   "cell_type": "code",
   "execution_count": 11,
   "metadata": {},
   "outputs": [
    {
     "name": "stdout",
     "output_type": "stream",
     "text": [
      "Nellore\n",
      "Nellore\n",
      "Pakistan\n"
     ]
    }
   ],
   "source": [
    "#modifying Generic properties by using object\n",
    "# Syntax: objname.classvariable=New Value\n",
    "girish.bank_address=\"Pakistan\"\n",
    "#print(Bank.bank_address)\n",
    "#print(Bharath.bank_address)\n",
    "#print(girish.bank_address)"
   ]
  },
  {
   "cell_type": "code",
   "execution_count": 2,
   "metadata": {},
   "outputs": [],
   "source": [
    "#Deleting generic properties by using class\n",
    "# Syntax: del classname.classvariable\n",
    "\n",
    "del Bank.bank_address\n",
    "#print(Bank.bank_address)\n",
    "#print(Bharath.bank_address)\n",
    "#print(girish.bank_address)\n",
    "\n",
    "#Note --> if we delete generic properties by using class then it will delete in class as well as objects\n",
    "#Delete can't done by using object"
   ]
  },
  {
   "cell_type": "code",
   "execution_count": 17,
   "metadata": {},
   "outputs": [
    {
     "name": "stdout",
     "output_type": "stream",
     "text": [
      "kadapa\n",
      "kadapa\n",
      "kadapa\n"
     ]
    }
   ],
   "source": [
    "##Creating generic properties by using class\n",
    "# Syntax: classname.newclassvariable=value\n",
    "Bank.bank_branch=\"kadapa\"\n",
    "#print(Bank.bank_branch)\n",
    "#print(girish.bank_branch)\n",
    "#print(Bharath.bank_branch)"
   ]
  },
  {
   "cell_type": "markdown",
   "metadata": {},
   "source": [
    "Specific Properties --> defining uncommon data of the objects."
   ]
  },
  {
   "cell_type": "markdown",
   "metadata": {},
   "source": [
    "## ## Constructor: \n",
    "--> It is a special method which is implicitly called whenever an object is created\n",
    "--> we call __init__ as constructor bcoz it is used for creating objects\n",
    "--> it takes one mandatory argument ntg but \"\"self\"\"\n",
    "--> self is used for considering the __current object address__.\n",
    "\n",
    "Types of constructor\n",
    "1. Constructor with no arguments\n",
    "2. Parameterised constructor\n",
    "3. constructor with default arguments"
   ]
  },
  {
   "cell_type": "markdown",
   "metadata": {},
   "source": [
    "Class & Object in Python\n",
    "## Class is a blueprint for creating objects."
   ]
  },
  {
   "cell_type": "code",
   "execution_count": 4,
   "metadata": {},
   "outputs": [
    {
     "name": "stdout",
     "output_type": "stream",
     "text": [
      "<__main__.Student object at 0x000001DF8704AAA0>\n",
      "Bharath\n"
     ]
    }
   ],
   "source": [
    "#Creating class\n",
    "class Student:\n",
    "    '''This is how a class is created'''\n",
    "    name='Bharath'\n",
    "\n",
    "#Creating object(instance)\n",
    "\n",
    "s1=Student()\n",
    "\"\"\"This is how a object is created\"\"\"\n",
    "print(s1)          ## it prints the instance address\n",
    "print(s1.name)     ## prints the value stored in name variable"
   ]
  },
  {
   "cell_type": "code",
   "execution_count": 13,
   "metadata": {},
   "outputs": [
    {
     "name": "stdout",
     "output_type": "stream",
     "text": [
      "bharath 97\n",
      "Charan 98 AbC coolege\n",
      "AbC coolege\n"
     ]
    }
   ],
   "source": [
    "## constructors\n",
    "class Student:\n",
    "    college_name=\"AbC coolege\"  ## same for every student\n",
    "    #default constructors\n",
    "    def __init__(self):\n",
    "        pass\n",
    "\n",
    "    #Parameterized constructors\n",
    "    def __init__(self,name,marks):\n",
    "        self.name=name               ## define diff name of object \n",
    "        self.marks=marks             ## deine diff marks \n",
    "\n",
    "s1=Student(\"bharath\",97)\n",
    "print(s1.name,s1.marks)\n",
    "s2=Student(\"Charan\",98)\n",
    "print(s2.name,s2.marks,s2.college_name)\n",
    "print(s2.college_name)"
   ]
  },
  {
   "cell_type": "code",
   "execution_count": 22,
   "metadata": {},
   "outputs": [
    {
     "name": "stdout",
     "output_type": "stream",
     "text": [
      "92.33333333333333\n"
     ]
    }
   ],
   "source": [
    "##Methods\n",
    "\"\"\"Methods are functions that belong to objects\"\"\"\n",
    "class Student:\n",
    "    def __init__(self,name,marks):\n",
    "        self.name=name\n",
    "        self.marks=marks\n",
    "    def get_avg(self):\n",
    "        sum=0\n",
    "        for val in self.marks:\n",
    "            sum+=val\n",
    "        print(sum/3)\n",
    "s1=Student(\"bharath\",[90,93,94])\n",
    "s1.get_avg()\n"
   ]
  },
  {
   "cell_type": "code",
   "execution_count": 10,
   "metadata": {},
   "outputs": [
    {
     "name": "stdout",
     "output_type": "stream",
     "text": [
      "Driver entered into the car\n",
      "name of caraudio\n",
      "model of car6746965\n",
      "color of cargreen\n",
      "Driver came out from the car\n"
     ]
    }
   ],
   "source": [
    "class car:\n",
    "    def __init__(self,cn,cm,cc):\n",
    "        self.cname=cn\n",
    "        self.cmodel=cm\n",
    "        self.ccolor=cc\n",
    "    def car_details(self):\n",
    "        print(f'name of car{self.cname}')\n",
    "        print(f'model of car{self.cmodel}')\n",
    "        print(f'color of car{self.ccolor}')\n",
    "    def car_start(self):\n",
    "        print(\"Car is Started\")\n",
    "    def car_accelerate(self):\n",
    "        print(\"Car is accelerated\")\n",
    "    def car_stopped(self):\n",
    "        print(\"Car is stopped\")\n",
    "class Driver:\n",
    "    def __init__(self,dn,di,da):\n",
    "        self.dname=dn\n",
    "        self.did=di\n",
    "        self.dage=da\n",
    "        cn=input(\"Enter Car Name: \")\n",
    "        cm=input(\"Enter model name: \")\n",
    "        cc=input(\"Enter color: \")\n",
    "        obj=car(cn,cm,cc)\n",
    "        self.dcar=obj\n",
    "    def driving(self):\n",
    "        print(\"Driver entered into the car\")\n",
    "        #self.dcar.car_start()\n",
    "        #self.dcar.car_accelerate()\n",
    "        #self.dcar.car_stopped()\n",
    "        self.dcar.car_details()\n",
    "        print(\"Driver came out from the car\")\n",
    "d1=Driver(\"Bharath\",1234,21)\n",
    "d1.driving()"
   ]
  },
  {
   "cell_type": "code",
   "execution_count": 9,
   "metadata": {},
   "outputs": [
    {
     "name": "stdout",
     "output_type": "stream",
     "text": [
      "a\n",
      "a\n"
     ]
    }
   ],
   "source": [
    "class Player:\n",
    "    def __init__(self,pn,pa,pc,pm,pw,pr):    ## defining specific properties \n",
    "        self.pname=pn\n",
    "        self.page=pa\n",
    "        self.pcountry=pc\n",
    "        self.pmatches=pm\n",
    "        self.pwickets=pw\n",
    "        self.pruns=pr\n",
    "class Team:             \n",
    "    def __init__(self):                     ## defining specific properties\n",
    "        self.n=int(input(\"Enter no.of players:  \"))  \n",
    "        self.pl=[]                          \n",
    "        for i in range(self.n):\n",
    "            pn=input(\"enter name\")\n",
    "            pa=int(input(\"age: \"))\n",
    "            pc=input(\"country: \")\n",
    "            pm=int(input(\"no.of matches: \"))\n",
    "            pw=int(input(\"No.of wickets: \"))\n",
    "            pr=int(input(\"No.of Runs: \"))\n",
    "        po=Player(pn,pa,pc,pm,pw,pr)\n",
    "        self.pl.append(po)\n",
    "    def maxWtaker(self):\n",
    "        mwto=self.pl[0]\n",
    "        for i in self.pl:\n",
    "            if i.pwickets>mwto.pwickets:\n",
    "                mwto=i\n",
    "        return mwto.pname\n",
    "    def maxRscorer(self):\n",
    "        mrco=self.pl[0]\n",
    "        for i in self.pl:\n",
    "            if i.pruns>mrco.pruns:\n",
    "                mrco=i\n",
    "        return mrco.pname\n",
    "india=Team()\n",
    "print(india.maxRscorer())\n",
    "print(india.maxRscorer())\n",
    "\n"
   ]
  },
  {
   "cell_type": "markdown",
   "metadata": {},
   "source": [
    "Encapsulation : Binding properties and Functionalities of an obj under one roof\n",
    "## in Encapsulation protecting of data can be done by using access specifiers\n",
    "Access Specifiers :\n",
    "(i)Public         --->  name \n",
    "(ii)Protect       --->  _name\n",
    "(iii)Private      ---> __name"
   ]
  },
  {
   "cell_type": "code",
   "execution_count": 5,
   "metadata": {},
   "outputs": [
    {
     "name": "stdout",
     "output_type": "stream",
     "text": [
      "10\n",
      "Public method\n",
      "10\n",
      "Public method\n"
     ]
    }
   ],
   "source": [
    "#Public  --> we can access within the class or outside the class\n",
    "class Test:\n",
    "    def __init__(self):\n",
    "        self.x=10\n",
    "    def m1(self):\n",
    "        print(\"Public method\")\n",
    "    def m2(self):\n",
    "        print(self.x)\n",
    "        self.m1()\n",
    "t=Test()\n",
    "t.m2()\n",
    "print(t.x)\n",
    "t.m1()"
   ]
  },
  {
   "cell_type": "code",
   "execution_count": 9,
   "metadata": {},
   "outputs": [
    {
     "ename": "NameError",
     "evalue": "name 't_Test__' is not defined",
     "output_type": "error",
     "traceback": [
      "\u001b[1;31m---------------------------------------------------------------------------\u001b[0m",
      "\u001b[1;31mNameError\u001b[0m                                 Traceback (most recent call last)",
      "Cell \u001b[1;32mIn[9], line 10\u001b[0m\n\u001b[0;32m      8\u001b[0m         \u001b[38;5;28mself\u001b[39m\u001b[38;5;241m.\u001b[39mm1()\n\u001b[0;32m      9\u001b[0m t\u001b[38;5;241m=\u001b[39mTest()\n\u001b[1;32m---> 10\u001b[0m \u001b[38;5;28mprint\u001b[39m(\u001b[43mt_Test__\u001b[49m)\n",
      "\u001b[1;31mNameError\u001b[0m: name 't_Test__' is not defined"
     ]
    }
   ],
   "source": [
    "class Test:\n",
    "    def __init__(self):\n",
    "        self.__x=10\n",
    "    def m1(self):\n",
    "        print('Private method')\n",
    "    def m2(self):\n",
    "        print(self.__x)\n",
    "        self.m1()\n",
    "t=Test()\n",
    "print(t_Test__)\n",
    "        "
   ]
  },
  {
   "cell_type": "code",
   "execution_count": 3,
   "metadata": {},
   "outputs": [
    {
     "name": "stdout",
     "output_type": "stream",
     "text": [
      "20\n",
      "10\n",
      "30\n"
     ]
    }
   ],
   "source": [
    "#example\n",
    "class A:\n",
    "    x=20\n",
    "    _y=10\n",
    "    __z=30\n",
    "    @classmethod\n",
    "    def\n",
    "a=A()\n",
    "print(a.x)\n",
    "print(a._y)\n",
    "print(a._A__z)"
   ]
  },
  {
   "cell_type": "code",
   "execution_count": null,
   "metadata": {},
   "outputs": [],
   "source": []
  }
 ],
 "metadata": {
  "kernelspec": {
   "display_name": "Python 3",
   "language": "python",
   "name": "python3"
  },
  "language_info": {
   "codemirror_mode": {
    "name": "ipython",
    "version": 3
   },
   "file_extension": ".py",
   "mimetype": "text/x-python",
   "name": "python",
   "nbconvert_exporter": "python",
   "pygments_lexer": "ipython3",
   "version": "3.10.8"
  }
 },
 "nbformat": 4,
 "nbformat_minor": 2
}
