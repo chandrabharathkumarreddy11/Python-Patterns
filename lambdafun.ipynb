{
 "cells": [
  {
   "cell_type": "markdown",
   "metadata": {},
   "source": [
    "## Lambda Functions \n",
    "--> Lambda Functions are single-line Anonymous Functions\n",
    "--> Syntax ::\n",
    "            Lambda arguments:Expression\n",
    "\n",
    "--> Lambda Function will take multiple arguments\n",
    "--> Lambda Function will take only one expression, this expression is evaluated and output will be returned\n",
    "--> Lambda has no return value"
   ]
  },
  {
   "cell_type": "code",
   "execution_count": 2,
   "metadata": {},
   "outputs": [
    {
     "name": "stdout",
     "output_type": "stream",
     "text": [
      "100\n",
      "False\n"
     ]
    }
   ],
   "source": [
    "#Example 1\n",
    "sq=lambda x:x**2\n",
    "print(sq(10))\n",
    "#Example 2\n",
    "iseven=lambda n:n%2==0\n",
    "print(iseven(10))"
   ]
  },
  {
   "cell_type": "markdown",
   "metadata": {},
   "source": [
    "## Filter, map , reduce\n",
    "1.Filter --> filters the list based on some condition and if condition satisfy returns True.\n",
    "2.Map    --> iterates through all items in the list and returns list with new items.\n",
    "3.Reduce --> It performs aggregate operations and returns a single value.\n",
    "\n",
    "Note: All of these methods takes a function and list."
   ]
  },
  {
   "cell_type": "markdown",
   "metadata": {},
   "source": [
    "## Map() Function  -- Syntax: map(function, sequence)\n",
    "\n",
    "--> Function argument can be applied to each element of sequence and generate a new sequence.\n",
    "--> if not use any typecasting then it outputs only the address only\n"
   ]
  },
  {
   "cell_type": "code",
   "execution_count": 14,
   "metadata": {},
   "outputs": [
    {
     "name": "stdout",
     "output_type": "stream",
     "text": [
      "[1, 4, 9, 16, 25]\n",
      "(10, 40, 90, 160, 250)\n",
      "{3, 6, 9, 12, 15}\n"
     ]
    }
   ],
   "source": [
    "#Example 1\n",
    "l=[1,2,3,4,5]\n",
    "l1=list(map(lambda n:n*n , l))          ## typecasting into list\n",
    "print(l1)\n",
    "#Example 2\n",
    "l1=[1,2,3,4,5]\n",
    "l2=[10,20,30,40,50]\n",
    "l3=tuple(map(lambda x,y:x*y , l1,l2))   ## typecasting into tuple\n",
    "print(l3)\n",
    "#Example 3\n",
    "l1=[1,2,3,4,5]\n",
    "l2=[1,2,3,4,5]\n",
    "l3=[1,2,3,4,5]\n",
    "l4=set(map(lambda x,y,z:x+y+z , l1,l2,l3))    ## Tpecasting into set\n",
    "print(l4)\n"
   ]
  },
  {
   "cell_type": "markdown",
   "metadata": {},
   "source": [
    "## Filter Function\n",
    "--> The filter() function filters the given sequence with the help of a function that tests each element in the sequence to be \"\"true or not\"\".\n",
    "--> Syntax:: \n",
    "            filter(FunctionAddress,Sequence)"
   ]
  },
  {
   "cell_type": "code",
   "execution_count": 19,
   "metadata": {},
   "outputs": [
    {
     "name": "stdout",
     "output_type": "stream",
     "text": [
      "[2, 4, 6]\n",
      "[46, 8, 6]\n",
      "[3, 5]\n"
     ]
    }
   ],
   "source": [
    "#example\n",
    "##using normal function\n",
    "def iseven(n):\n",
    "    if n%2==0:\n",
    "        return True\n",
    "    else:\n",
    "        return False\n",
    "iseven(10)\n",
    "\n",
    "##using lambda function\n",
    "print(list(filter(iseven,[1,2,3,4,5,6])))\n",
    "\n",
    "##filter with lambda function is even\n",
    "nums=[23,45,46,8,6]\n",
    "print(list(filter(lambda n:n%2==0,nums)))\n",
    "##filter with lambda function is odd\n",
    "print(list(filter(lambda n:n%2!=0 ,[2,3,4,5])))"
   ]
  },
  {
   "cell_type": "code",
   "execution_count": 6,
   "metadata": {},
   "outputs": [
    {
     "name": "stdout",
     "output_type": "stream",
     "text": [
      "[3, 2, 7]\n"
     ]
    }
   ],
   "source": [
    "#printing prime no's \n",
    "#n1=int(input())\n",
    "#n2=int(input())\n",
    "#print(list(filter(lambda x: all(x%i!=0 for i in range(2,int(x**0.5)+1)),range(n1,n2))))\n",
    "'''s='9392671496'\n",
    "l=len(s)\n",
    "L=[]\n",
    "for i in range(l):\n",
    "    if int(s[i])>1:\n",
    "        L.append(int(s[i]))\n",
    "print(list(filter(lambda x: all(x%i!=0 for i in range(2,int(x**0.5)+1)),L)))\n",
    "print(list(filter(lambda x: all(x%i for i in range(2,int(x**0.5)+1)),[9,3,9,2,6,7,1,4,9,6])))''' \n",
    "\n",
    "s=input('Enter the mobile no:  ')\n",
    "L=[]\n",
    "for i in s:\n",
    "    if int(i)>1:\n",
    "        L.append(int(i))\n",
    "print(list(filter(lambda x: all(x%i!=0 for i in range(2,int(x**0.5)+1)),L)))\n",
    "print(list(filter(lambda x: all(x%i!=0 for i in range(2,int(x**0.5)+1)),L)))"
   ]
  },
  {
   "cell_type": "markdown",
   "metadata": {},
   "source": [
    "## Reduce Function  --> Syntax: reduce(function,sequence)\n",
    "--> Reduce function is used to apply a particular function passed in its argument to all the list elements mentioned in the sequence passed along\n",
    "--> This function is defined in \"functools\" module\n",
    "--> it is used for operations like sum,avg,max and min.\n",
    "--> using this function flattening the list\n",
    "## ternary operator --> Syntax: True value if condition else False value\n",
    "--> it is short-hand of if-else condition\n",
    "--> ternary operator is used for representing if-else condition in a single line"
   ]
  },
  {
   "cell_type": "code",
   "execution_count": 24,
   "metadata": {},
   "outputs": [
    {
     "name": "stdout",
     "output_type": "stream",
     "text": [
      "600\n",
      "5\n",
      "735\n",
      "[100, 200, 300, 63, 5, 6, 7]\n"
     ]
    }
   ],
   "source": [
    "#Example : \n",
    "from functools import reduce\n",
    "l=[100,20,600,5,10]\n",
    "#Finding max number in a given list by using reduce\n",
    "print(reduce(lambda a,b: a if a>b else b, l))\n",
    "#find min number\n",
    "print(reduce(lambda a,b:a if a<b else b , l))\n",
    "##Finding Sum of no's\n",
    "print(reduce(lambda a,b:a+b,l))\n",
    "##Flattening the list of nested list by using reduce\n",
    "L=[[100,200],[300],[63,5,6,7]]\n",
    "print(reduce(lambda a,b:a+b,L))                 ## flattening list mean converting sublist to single one\n"
   ]
  },
  {
   "cell_type": "code",
   "execution_count": 2,
   "metadata": {},
   "outputs": [
    {
     "name": "stdout",
     "output_type": "stream",
     "text": [
      "* * * * * * * * * \n",
      "  * * * * * * * \n",
      "    * * * * * \n",
      "      * * * \n",
      "        * \n"
     ]
    }
   ],
   "source": [
    "n=5\n",
    "stars=(2*n)-1\n",
    "spaces=0\n",
    "for i in range(1,n+1):\n",
    "    for sp in range(1,spaces+1):\n",
    "        print(' ',end=' ')\n",
    "    for st in range(1,stars+1):\n",
    "        print('*',end=' ')\n",
    "    print()\n",
    "    spaces+=1\n",
    "    stars-=2"
   ]
  },
  {
   "cell_type": "code",
   "execution_count": null,
   "metadata": {},
   "outputs": [],
   "source": []
  }
 ],
 "metadata": {
  "kernelspec": {
   "display_name": "Python 3",
   "language": "python",
   "name": "python3"
  },
  "language_info": {
   "codemirror_mode": {
    "name": "ipython",
    "version": 3
   },
   "file_extension": ".py",
   "mimetype": "text/x-python",
   "name": "python",
   "nbconvert_exporter": "python",
   "pygments_lexer": "ipython3",
   "version": "3.10.8"
  }
 },
 "nbformat": 4,
 "nbformat_minor": 2
}
