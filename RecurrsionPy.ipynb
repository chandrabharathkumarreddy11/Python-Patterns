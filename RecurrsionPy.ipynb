{
 "cells": [
  {
   "cell_type": "code",
   "execution_count": 1,
   "metadata": {},
   "outputs": [
    {
     "name": "stdout",
     "output_type": "stream",
     "text": [
      "12\n",
      "11\n",
      "10\n",
      "9\n",
      "8\n",
      "7\n",
      "6\n"
     ]
    }
   ],
   "source": [
    "## number program \n",
    "def display(n):\n",
    "    print(n)\n",
    "    if n==6:\n",
    "        return\n",
    "    return display(n-1)\n",
    "display(12)\n"
   ]
  },
  {
   "cell_type": "code",
   "execution_count": 67,
   "metadata": {},
   "outputs": [
    {
     "name": "stdout",
     "output_type": "stream",
     "text": [
      "1 2 3 4 5 6 7 8 9 10 "
     ]
    }
   ],
   "source": [
    "## display no's from 1 to 10\n",
    "def display(n):\n",
    "    print(n,end=' ')\n",
    "    if n==10:\n",
    "        return\n",
    "    display(n+1)\n",
    "display(1)"
   ]
  },
  {
   "cell_type": "code",
   "execution_count": 68,
   "metadata": {},
   "outputs": [
    {
     "name": "stdout",
     "output_type": "stream",
     "text": [
      "10 9 8 7 6 5 4 3 2 1 "
     ]
    }
   ],
   "source": [
    "# display no's from 10 to 1\n",
    "# def display(n):\n",
    "#     print(n,end=' ')\n",
    "#     if n==1:\n",
    "#         return 1\n",
    "#     display(n-1)\n",
    "# display(10)\n",
    "def display(n):\n",
    "    print(n,end=' ')\n",
    "    if n==1:\n",
    "        return 1\n",
    "    display(n-1)\n",
    "display(10)"
   ]
  },
  {
   "cell_type": "code",
   "execution_count": 5,
   "metadata": {},
   "outputs": [
    {
     "data": {
      "text/plain": [
       "66"
      ]
     },
     "execution_count": 5,
     "metadata": {},
     "output_type": "execute_result"
    }
   ],
   "source": [
    "## sum of n no's\n",
    "def add(n):\n",
    "    if n==0:\n",
    "        return 0\n",
    "    return n+add(n-1)\n",
    "add(11)"
   ]
  },
  {
   "cell_type": "code",
   "execution_count": 7,
   "metadata": {},
   "outputs": [
    {
     "data": {
      "text/plain": [
       "720"
      ]
     },
     "execution_count": 7,
     "metadata": {},
     "output_type": "execute_result"
    }
   ],
   "source": [
    "## factorial of a number using recurssion\n",
    "# def fact(n):\n",
    "#     if n==0 or n==1:\n",
    "#         return 1\n",
    "#     return n*fact(n-1)\n",
    "# # print(fact(10))\n",
    "# fact(5)\n",
    "\n",
    "def fact(n):\n",
    "    if n==1 or n==0:\n",
    "        return 1\n",
    "    return n*fact(n-1)\n",
    "fact(6)\n"
   ]
  },
  {
   "cell_type": "code",
   "execution_count": 8,
   "metadata": {},
   "outputs": [
    {
     "data": {
      "text/plain": [
       "8"
      ]
     },
     "execution_count": 8,
     "metadata": {},
     "output_type": "execute_result"
    }
   ],
   "source": [
    "## sum of individual digits of a number\n",
    "# def SumOfDigits(n):\n",
    "#     if n==0:\n",
    "#         return 0\n",
    "#     return n%10+SumOfDigits(n//10)\n",
    "# # print(SumOfDigits(12345))\n",
    "# SumOfDigits(143)\n",
    "\n",
    "def numSum(n):\n",
    "    if n==0:\n",
    "        return 0\n",
    "    return n%10+numSum(n//10)\n",
    "numSum(332)\n",
    "    "
   ]
  },
  {
   "cell_type": "code",
   "execution_count": 72,
   "metadata": {},
   "outputs": [
    {
     "name": "stdout",
     "output_type": "stream",
     "text": [
      "50 52 54 56 58 60 62 64 66 68 70 72 74 76 78 80 82 84 86 88 90 92 94 96 98 "
     ]
    }
   ],
   "source": [
    "## even numbers b/w 50 and 100\n",
    "\n",
    "# def even(n):\n",
    "#     print(n,end=' ')\n",
    "#     if n==100:\n",
    "#         return \n",
    "#     even(n+2)\n",
    "# even(50)\n",
    "\n",
    "def even(n):\n",
    "    if n==100:\n",
    "        return\n",
    "    if n%2==0:\n",
    "        print(n,end=' ')\n",
    "    even(n+2)\n",
    "even(50)"
   ]
  },
  {
   "cell_type": "code",
   "execution_count": 73,
   "metadata": {},
   "outputs": [
    {
     "data": {
      "text/plain": [
       "168"
      ]
     },
     "execution_count": 73,
     "metadata": {},
     "output_type": "execute_result"
    }
   ],
   "source": [
    "## multiple of given digits \n",
    "def multiple(n):\n",
    "    if n==1:\n",
    "        return 1\n",
    "    return n%10*multiple(n//10)\n",
    "multiple(12374)"
   ]
  },
  {
   "cell_type": "code",
   "execution_count": 77,
   "metadata": {},
   "outputs": [
    {
     "name": "stdout",
     "output_type": "stream",
     "text": [
      "Armstrong No\n"
     ]
    }
   ],
   "source": [
    "## Armstrong Number or not using Recurssion\n",
    "def Armstrong(n,p):\n",
    "    if n==0:\n",
    "        return 0\n",
    "    return pow(n%10,p)+Armstrong(n//10,3)\n",
    "n=153\n",
    "p=len(str(int(n)))\n",
    "a=Armstrong(n,p)\n",
    "# if a==n:\n",
    "#     print('Armstrong no')\n",
    "# else:\n",
    "#     print('not')\n",
    "print('Armstrong No' if n==a else 'Not an Armstrong number')"
   ]
  },
  {
   "cell_type": "code",
   "execution_count": 22,
   "metadata": {},
   "outputs": [
    {
     "name": "stdout",
     "output_type": "stream",
     "text": [
      "Not an Disarium\n"
     ]
    }
   ],
   "source": [
    "## Disarium Number or Not\n",
    "def Disarium(n,p):\n",
    "    if n==0:\n",
    "        return 0\n",
    "    k=p-1\n",
    "    return pow(n%10,p)+Disarium(n//10,k)\n",
    "n=int(input())\n",
    "p=len(str(int(n)))\n",
    "a=Disarium(n,p)\n",
    "print('Disarium no' if n==a else 'Not an Disarium')\n"
   ]
  },
  {
   "cell_type": "code",
   "execution_count": 23,
   "metadata": {},
   "outputs": [
    {
     "data": {
      "text/plain": [
       "120"
      ]
     },
     "execution_count": 23,
     "metadata": {},
     "output_type": "execute_result"
    }
   ],
   "source": [
    "## Strong Number or Not\n",
    "def fact(n):\n",
    "    if n==0 or n==1:\n",
    "        return 1\n",
    "    return n*fact(n-1)\n",
    "fact(5)"
   ]
  },
  {
   "cell_type": "code",
   "execution_count": 30,
   "metadata": {},
   "outputs": [
    {
     "name": "stdout",
     "output_type": "stream",
     "text": [
      "strong number\n"
     ]
    }
   ],
   "source": [
    "## strong Num or not\n",
    "def fact(n):\n",
    "    if n==0 or n==1:\n",
    "        return 1\n",
    "    return n*fact(n-1)\n",
    "def indigfs(n):\n",
    "    if n==0:\n",
    "        return 0\n",
    "    return fact(n%10)+indigfs(n//10)\n",
    "n=int(input())\n",
    "a=indigfs(n)\n",
    "print('strong number' if n==a else 'Not sn')\n",
    "    "
   ]
  }
 ],
 "metadata": {
  "kernelspec": {
   "display_name": "Python 3",
   "language": "python",
   "name": "python3"
  },
  "language_info": {
   "codemirror_mode": {
    "name": "ipython",
    "version": 3
   },
   "file_extension": ".py",
   "mimetype": "text/x-python",
   "name": "python",
   "nbconvert_exporter": "python",
   "pygments_lexer": "ipython3",
   "version": "3.10.8"
  }
 },
 "nbformat": 4,
 "nbformat_minor": 2
}
