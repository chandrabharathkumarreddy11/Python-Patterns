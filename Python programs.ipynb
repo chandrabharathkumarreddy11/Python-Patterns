{
 "cells": [
  {
   "cell_type": "markdown",
   "metadata": {},
   "source": [
    "## Suresh Techs utube channel 20 programs"
   ]
  },
  {
   "cell_type": "code",
   "execution_count": 9,
   "metadata": {},
   "outputs": [
    {
     "name": "stdout",
     "output_type": "stream",
     "text": [
      "66\n"
     ]
    }
   ],
   "source": [
    "#1# Sum of numbers 1 to n\n",
    "\n",
    "# Using for loop\n",
    "'''n=int(input('Enter the nth value: '))\n",
    "s=0\n",
    "for i in range(1,n+1):\n",
    "    s+=i\n",
    "print(s) '''\n",
    "\n",
    "#Using Recusrion\n",
    "'''def sumOf(n):\n",
    "    \"check in the return statement once!!\"\n",
    "    if n==0:\n",
    "        return False\n",
    "    return n+sumOf(n-1)\n",
    "sumOf(10) '''\n",
    "# Using While loop\n",
    "'''n=int(input(\"Enter n th number: \"))\n",
    "s=0\n",
    "i=1\n",
    "while True:\n",
    "    s+=i\n",
    "    if n==i:\n",
    "        break\n",
    "    i+=1\n",
    "print(s)  '''\n"
   ]
  },
  {
   "cell_type": "code",
   "execution_count": 16,
   "metadata": {},
   "outputs": [],
   "source": [
    "#2 Program to reverse the given string\n",
    "#method-1\n",
    "'''s='India'\n",
    "print(s[::-1]) '''\n",
    "#method-2 (without using slicing)\n",
    "'''s='india'\n",
    "rev=''\n",
    "for i in range(-1,-(len(s)+1),-1):    ## Negative slicing\n",
    "    rev+=s[i]\n",
    "print(rev) '''\n",
    "#method-3 (without slicing)\n",
    "'''s='Bangalore'\n",
    "rev=''\n",
    "for i in s:\n",
    "    rev=i+rev   ## S-1: rev=B+'' (rev='B') , S-2: rev=a+'B' (rev='aB') likewise it will be continue\n",
    "print(rev) '''\n",
    "##method-4 (without slicing)\n",
    "'''s='hell'\n",
    "print(''.join(reversed(s)))  '''\n",
    "##Method-5 (using Recusrion)\n",
    "def reverse(bhatah):\n",
    "    if len(bhatah)==0:\n",
    "        return False\n",
    "    else:\n",
    "        return reverse(t[1:])+t[0]\n"
   ]
  },
  {
   "cell_type": "code",
   "execution_count": 3,
   "metadata": {},
   "outputs": [
    {
     "name": "stdout",
     "output_type": "stream",
     "text": [
      "Given string is Palindrome\n"
     ]
    }
   ],
   "source": [
    "#3 W.a.P to check whether a string is Palindrome or not?\n",
    "s=input()\n",
    "rev=''\n",
    "temp=s\n",
    "for i in range(-1,-(len(s)+1),-1):\n",
    "    rev+=s[i]                      #### s[i] the element \n",
    "if rev==s:\n",
    "    print(\"Given string is Palindrome\")\n",
    "else:\n",
    "    print(\"Not a Palindrome\")"
   ]
  },
  {
   "cell_type": "code",
   "execution_count": 5,
   "metadata": {},
   "outputs": [
    {
     "name": "stdout",
     "output_type": "stream",
     "text": [
      "120\n"
     ]
    }
   ],
   "source": [
    "#4 W.a.P to find factorial of a number\n",
    "n=int(input(\"Enter a Number: \"))\n",
    "fact=1\n",
    "for i in range(1,n+1):\n",
    "    fact*=i\n",
    "print(fact)"
   ]
  },
  {
   "cell_type": "code",
   "execution_count": 5,
   "metadata": {},
   "outputs": [
    {
     "data": {
      "text/plain": [
       "True"
      ]
     },
     "execution_count": 5,
     "metadata": {},
     "output_type": "execute_result"
    }
   ],
   "source": [
    "#5 W.a.p to check whether a number is Armstrong\n",
    "## Using Normal Method\n",
    "'''n=int(input())\n",
    "temp=n\n",
    "s=0\n",
    "l=len(str(n))\n",
    "while n>0:\n",
    "    r=n%10\n",
    "    p=pow(r,l)\n",
    "    s=p+s\n",
    "    n//=10\n",
    "if temp==s:\n",
    "    print(\"Armstrong num\")\n",
    "else:\n",
    "    print(\"Not\")\n",
    "'''\n",
    "#Using Functions\n",
    "'''def isArmstrong(n):\n",
    "    temp=n\n",
    "    s=0\n",
    "    l=len(str(n))\n",
    "    while n>0:\n",
    "        r=n%10\n",
    "        p=pow(r,l)\n",
    "        s=p+s\n",
    "        n//=10\n",
    "    if temp==s:\n",
    "        return True\n",
    "    else:\n",
    "        return False\n",
    "isArmstrong(153)'''"
   ]
  },
  {
   "cell_type": "code",
   "execution_count": 22,
   "metadata": {},
   "outputs": [
    {
     "name": "stdout",
     "output_type": "stream",
     "text": [
      "2 3 5 7 11 13 17 19 23 29 31 37 41 43 47 53 59 61 67 71 73 79 83 89 97 "
     ]
    }
   ],
   "source": [
    "#6 W.a.p to print prime numbers b/w 1 to 100\n",
    "## Using Normal Method\n",
    "'''n=int(input())\n",
    "n1=int(input())\n",
    "for i in range(n,n1):\n",
    "    for j in range(2,i):\n",
    "        if i%j==0:\n",
    "            break\n",
    "    else:\n",
    "        print(i,end=\" \")\n",
    "        '''\n",
    "## Using Function\n",
    "def primeNums(LL,UL):\n",
    "    c=0\n",
    "    for i in range(LL,UL):\n",
    "        for j in range(2,i):\n",
    "            if i%j==0:\n",
    "                break\n",
    "        else:\n",
    "            c+=1\n",
    "            print(i,end=\" \")\n",
    "primeNums(2,100)"
   ]
  },
  {
   "cell_type": "code",
   "execution_count": 9,
   "metadata": {},
   "outputs": [
    {
     "name": "stdout",
     "output_type": "stream",
     "text": [
      "20\n",
      "10\n"
     ]
    }
   ],
   "source": [
    "#7 program to swap numbers without using temporary varaible\n",
    "'''a=10\n",
    "b=20\n",
    "a,b=b,a\n",
    "print(f'a={a}',f'b={b}') '''\n",
    "a=10\n",
    "b=20\n",
    "a=a+b    ## 30\n",
    "b=a-b    \n",
    "a=a-b\n",
    "print(a)\n",
    "print(b)\n"
   ]
  },
  {
   "cell_type": "code",
   "execution_count": 18,
   "metadata": {},
   "outputs": [
    {
     "name": "stdout",
     "output_type": "stream",
     "text": [
      "3002\n"
     ]
    }
   ],
   "source": [
    "#8 W.a.p to reverse a number\n",
    "num=2003\n",
    "rev=0\n",
    "while num>0:\n",
    "    r=num%10\n",
    "    rev=rev*10+r\n",
    "    num//=10\n",
    "print(rev)\n"
   ]
  },
  {
   "cell_type": "code",
   "execution_count": 19,
   "metadata": {},
   "outputs": [
    {
     "name": "stdout",
     "output_type": "stream",
     "text": [
      "1\n",
      "2\n",
      "3\n"
     ]
    }
   ],
   "source": [
    "#9 W.a.p to find factor of a number\n",
    "n=6\n",
    "for i in range(1,n//2+1):\n",
    "    if n%i==0:\n",
    "        print(i)"
   ]
  },
  {
   "cell_type": "code",
   "execution_count": 1,
   "metadata": {},
   "outputs": [
    {
     "name": "stdout",
     "output_type": "stream",
     "text": [
      "b\n",
      "h\n",
      "a\n"
     ]
    }
   ],
   "source": [
    "#10 W.a.p to print repeated characters in given string\n",
    "s=input()\n",
    "d={}\n",
    "for i in s:\n",
    "    if i.isalpha():\n",
    "        i=i.lower()\n",
    "        if i not in d:\n",
    "            d[i]=1\n",
    "        else:\n",
    "            d[i]+=1\n",
    "for k,v in d.items():\n",
    "    if v>1:\n",
    "        print(f'{k}')"
   ]
  },
  {
   "cell_type": "code",
   "execution_count": 40,
   "metadata": {},
   "outputs": [
    {
     "name": "stdout",
     "output_type": "stream",
     "text": [
      "not\n"
     ]
    }
   ],
   "source": [
    "#neon num # vignesh\n",
    "n=13\n",
    "sq=n*n\n",
    "s=0\n",
    "while sq>0:\n",
    "    r=sq%10\n",
    "    s=s+r\n",
    "    sq//=10\n",
    "if s==n:\n",
    "    print(\"neon num\")\n",
    "else:\n",
    "    print('not')"
   ]
  },
  {
   "cell_type": "code",
   "execution_count": 3,
   "metadata": {},
   "outputs": [
    {
     "name": "stdout",
     "output_type": "stream",
     "text": [
      "{'h', 'b', 'r', 't', 'a'}\n"
     ]
    }
   ],
   "source": [
    "#unique characters\n",
    "s='bharath'\n",
    "d={}\n",
    "seen=set()\n",
    "for i in s:\n",
    "    if i not in d:\n",
    "        d[i]=1\n",
    "        seen.add(i)\n",
    "    else:\n",
    "        d[i]+=1\n",
    "print(seen)"
   ]
  },
  {
   "cell_type": "code",
   "execution_count": 17,
   "metadata": {},
   "outputs": [
    {
     "name": "stdout",
     "output_type": "stream",
     "text": [
      "0\n",
      "1 1 2 3 5 8 13 21 34 "
     ]
    }
   ],
   "source": [
    "#11 Fibinacci Series\n",
    "def fibo():\n",
    "    n1=int(input())\n",
    "    n2=int(input())\n",
    "    n=int(input(\"How many nos u wants\"))\n",
    "    if n==1:\n",
    "        print(n1)\n",
    "    elif n==2:\n",
    "        print(n1,n2,sep=\"\\n\",end=\" \")\n",
    "    else:\n",
    "        print(n1,n2,sep=\"\\n\",end=\" \")\n",
    "        for i in range(n-2):\n",
    "            tn=n1+n2\n",
    "            print(tn,end=\" \")\n",
    "            n1,n2=n2,tn\n",
    "fibo()"
   ]
  },
  {
   "cell_type": "code",
   "execution_count": 5,
   "metadata": {},
   "outputs": [
    {
     "name": "stdout",
     "output_type": "stream",
     "text": [
      "2\n",
      "5\n"
     ]
    }
   ],
   "source": [
    "#12 Count the no.of vowels and consonants in given string\n",
    "s=\"krishna\"\n",
    "cv=0\n",
    "coc=0\n",
    "for i in s:\n",
    "    if i.isalpha():\n",
    "        if i in 'aeiou':\n",
    "            cv+=1\n",
    "        else:\n",
    "            coc+=1\n",
    "print(cv,coc,sep=\"\\n\")"
   ]
  },
  {
   "cell_type": "code",
   "execution_count": 4,
   "metadata": {},
   "outputs": [
    {
     "name": "stdout",
     "output_type": "stream",
     "text": [
      "Not Anagrams\n"
     ]
    }
   ],
   "source": [
    "##13 Check if two strings are anagrams or not\n",
    "'''\n",
    "s1=input()\n",
    "s2=input()\n",
    "if len(s1)==len(s2):\n",
    "    if sorted(s1.lower())==sorted(s2.lower()):\n",
    "        print(s1,s2,\"are Anagrams\")\n",
    "else:\n",
    "    print(\"Not Anagrams\") \n",
    "'''"
   ]
  },
  {
   "cell_type": "code",
   "execution_count": 4,
   "metadata": {},
   "outputs": [
    {
     "name": "stdout",
     "output_type": "stream",
     "text": [
      "1\n"
     ]
    }
   ],
   "source": [
    "##14 Find the count for the occurence of a particular character in a string\n",
    "'''s=\"bharath\"\n",
    "s1=input()\n",
    "c=0\n",
    "for i in s:\n",
    "    if i==s1:\n",
    "        c+=1\n",
    "print(c)   '''\n",
    "## method-2\n",
    "'''s=\"bharath\"\n",
    "k=s.count('b')\n",
    "print(k) '''"
   ]
  },
  {
   "cell_type": "code",
   "execution_count": 18,
   "metadata": {},
   "outputs": [
    {
     "name": "stdout",
     "output_type": "stream",
     "text": [
      "Not a duck number\n"
     ]
    }
   ],
   "source": [
    "'''s=input()\n",
    "if s[0]=='0':\n",
    "    print(\"Not a duck number\")\n",
    "else:\n",
    "    for i in s:\n",
    "        if i=='0':\n",
    "            print('Duck number')\n",
    "'''\n"
   ]
  },
  {
   "cell_type": "code",
   "execution_count": 32,
   "metadata": {},
   "outputs": [
    {
     "name": "stdout",
     "output_type": "stream",
     "text": [
      "3\n"
     ]
    }
   ],
   "source": [
    "#15 how to calculate the no.of numerical digits in a given string\n",
    "'''s=input()\n",
    "c=0\n",
    "for i in s:\n",
    "    if i.isdigit():           #using isdigit method\n",
    "        c+=1\n",
    "print(c) '''\n",
    "## without using method\n",
    "'''s=input()\n",
    "c=0\n",
    "l=['0','1','2','3','4','5','6','7','8','9']\n",
    "for i in s:\n",
    "    if i in l:\n",
    "        c+=1\n",
    "print(c)\n",
    "'''"
   ]
  },
  {
   "cell_type": "code",
   "execution_count": 39,
   "metadata": {},
   "outputs": [
    {
     "name": "stdout",
     "output_type": "stream",
     "text": [
      "b\n"
     ]
    }
   ],
   "source": [
    "## 16 program to find the first character that is not repeated\n",
    "s=input()\n",
    "d={}\n",
    "c=0\n",
    "for i in s:\n",
    "    if i in d:\n",
    "        d[i]+=1\n",
    "    else:\n",
    "        d[i]=1\n",
    "for k,v in d.items():\n",
    "    if v==1:\n",
    "        if c==0:\n",
    "            c+=1\n",
    "            print(k)"
   ]
  },
  {
   "cell_type": "code",
   "execution_count": 1,
   "metadata": {},
   "outputs": [
    {
     "name": "stdout",
     "output_type": "stream",
     "text": [
      "The Missing number is:  5\n"
     ]
    }
   ],
   "source": [
    "#17 Find the missing number in a given list of numbers\n",
    "L=[1,2,3,4,6,7,8,9,10]\n",
    "k=len(L)+1\n",
    "sum=k*(k+1)//2\n",
    "s=0\n",
    "for i in L:\n",
    "    s+=i\n",
    "print(\"The Missing number is: \",sum-s)"
   ]
  },
  {
   "cell_type": "code",
   "execution_count": 8,
   "metadata": {},
   "outputs": [
    {
     "name": "stdout",
     "output_type": "stream",
     "text": [
      "{1, 2, 3, 5, 6, 8, 9}\n"
     ]
    }
   ],
   "source": [
    "##18 Delete the repeated elements in an integer array?\n",
    "L=[1,2,3,3,6,5,9,8,2]\n",
    "##print(set(L))\n",
    "s=set()\n",
    "for i in L:\n",
    "    s.add(i)\n",
    "print(s)\n"
   ]
  },
  {
   "cell_type": "code",
   "execution_count": 6,
   "metadata": {},
   "outputs": [
    {
     "name": "stdout",
     "output_type": "stream",
     "text": [
      "9\n",
      "88\n"
     ]
    }
   ],
   "source": [
    "##19 Determine the largest and smallest element of an array which is not sorted.\n",
    "'''\n",
    "L=[12,10,9,44,88]\n",
    "maxx=max(L[0],L[1])\n",
    "minn=min(L[0],L[1])\n",
    "for i in L:\n",
    "    if i>maxx:\n",
    "        maxx=i\n",
    "    elif i<minn:\n",
    "        minn=i\n",
    "print(maxx,minn,sep=\"\\n\")\n",
    "#print(max(L))                  ## using max and min methods\n",
    "#print(min(L))\n",
    "'''\n",
    "## without using methods finding max and min elements \n",
    "'''\n",
    "L=[12,10,9,44,88]\n",
    "maxx=L[0]\n",
    "minn=L[0]\n",
    "for i in L:\n",
    "    if i>maxx:\n",
    "        maxx=i\n",
    "    else:\n",
    "        minn=i\n",
    "print(maxx,minn) \n",
    "'''\n",
    "##using sort method\n",
    "L=[12,10,9,44,88]\n",
    "L.sort()\n",
    "print(L[0])\n",
    "print(L[-1])\n",
    "\n"
   ]
  },
  {
   "cell_type": "code",
   "execution_count": 8,
   "metadata": {},
   "outputs": [
    {
     "name": "stdout",
     "output_type": "stream",
     "text": [
      "66\n"
     ]
    }
   ],
   "source": [
    "##20 Determine the second largest element in an array\n",
    "L=[12,10,9,44,66,88]\n",
    "fm=max(L[0],L[1])   ## 12\n",
    "sm=min(L[0],L[1])   ## 10\n",
    "for i in L:\n",
    "    if i>fm:\n",
    "        sm=fm\n",
    "        fm=i\n",
    "print(sm)\n",
    "\n"
   ]
  },
  {
   "cell_type": "markdown",
   "metadata": {},
   "source": [
    "--> Completed suresh tech programs successfully by doing consistancy , Now doing programs given by surendra anna "
   ]
  },
  {
   "cell_type": "markdown",
   "metadata": {},
   "source": [
    "#Practice Programs"
   ]
  },
  {
   "cell_type": "code",
   "execution_count": 1,
   "metadata": {},
   "outputs": [
    {
     "name": "stdout",
     "output_type": "stream",
     "text": [
      "10\n"
     ]
    }
   ],
   "source": [
    "##1 Count All integers given by the user\n",
    "n=list(map(int,input().split()))\n",
    "c=0\n",
    "for i in n:\n",
    "    c+=1\n",
    "print(c)"
   ]
  },
  {
   "cell_type": "code",
   "execution_count": 3,
   "metadata": {},
   "outputs": [
    {
     "name": "stdout",
     "output_type": "stream",
     "text": [
      "2\n"
     ]
    }
   ],
   "source": [
    "##2 Count the only Particular Number\n",
    "n=list(map(int,input().split()))\n",
    "n1=int(input())\n",
    "c=0\n",
    "for i in n:\n",
    "    if i==n1:\n",
    "        c+=1\n",
    "print(c)\n"
   ]
  },
  {
   "cell_type": "code",
   "execution_count": 19,
   "metadata": {},
   "outputs": [
    {
     "name": "stdout",
     "output_type": "stream",
     "text": [
      "3\n"
     ]
    }
   ],
   "source": [
    "##3 Count the duplicate Numbers\n",
    "n=list(map(int,input().split()))\n",
    "d={}\n",
    "c=0\n",
    "for i in n:\n",
    "    if i in d:\n",
    "        d[i]+=1\n",
    "        c+=1\n",
    "    else:\n",
    "        d[i]=1\n",
    "print(c)\n"
   ]
  },
  {
   "cell_type": "code",
   "execution_count": 24,
   "metadata": {},
   "outputs": [
    {
     "data": {
      "text/plain": [
       "'Not a Palindrome'"
      ]
     },
     "execution_count": 24,
     "metadata": {},
     "output_type": "execute_result"
    }
   ],
   "source": [
    "##4 Given integer is Palindrome or Not?\n",
    "'''\n",
    "n=int(input())\n",
    "temp=n\n",
    "rev=0\n",
    "while n>0:\n",
    "    r=n%10\n",
    "    rev=rev*10+r\n",
    "    n//=10\n",
    "if temp==rev:\n",
    "    print(f'Given No is a Palindrome Number')\n",
    "else:\n",
    "    print(f'not')\n",
    "    '''\n",
    "## using functional approach\n",
    "def isreverse(n):\n",
    "    temp=n\n",
    "    rev=0\n",
    "    while n>0:\n",
    "        r=n%10\n",
    "        rev=rev*10+r\n",
    "        n//=10\n",
    "    if rev==temp:\n",
    "        return \"Given num is Palindrome\"\n",
    "    else:\n",
    "        return \"Not a Palindrome\"\n",
    "#\n",
    "# isreverse(121)\n",
    "isreverse(123)"
   ]
  },
  {
   "cell_type": "code",
   "execution_count": 29,
   "metadata": {},
   "outputs": [
    {
     "name": "stdout",
     "output_type": "stream",
     "text": [
      "1 presenting-2 times\n",
      "2 presenting-2 times\n"
     ]
    }
   ],
   "source": [
    "## 5 Count Each value how many times present (eg: 1-4 time)\n",
    "l=list(map(int,input().split()))\n",
    "d={}\n",
    "for i in l:\n",
    "    if i in d:\n",
    "        d[i]+=1\n",
    "    else:\n",
    "        d[i]=1\n",
    "for k,v in d.items():\n",
    "    if v>1:\n",
    "        print(f'{k} presenting-{v} times')"
   ]
  },
  {
   "cell_type": "code",
   "execution_count": 2,
   "metadata": {},
   "outputs": [
    {
     "name": "stdout",
     "output_type": "stream",
     "text": [
      "55\n",
      "1\n"
     ]
    }
   ],
   "source": [
    "## 6 Max and min values in array or list\n",
    "## 1\n",
    "'''\n",
    "L=[1,2,3,4,55]\n",
    "ma=L[0]\n",
    "mi=L[0]\n",
    "for i in L:\n",
    "    if i>ma:\n",
    "        ma=i\n",
    "    elif i<mi:\n",
    "        mi=i\n",
    "print(ma,mi)\n",
    "'''\n",
    "L=[1,2,3,4,55]\n",
    "print(max(L))\n",
    "print(min(L))\n"
   ]
  },
  {
   "cell_type": "code",
   "execution_count": 12,
   "metadata": {},
   "outputs": [
    {
     "name": "stdout",
     "output_type": "stream",
     "text": [
      "(1, 2, 4, 5, 54)\n"
     ]
    }
   ],
   "source": [
    "## 7 Print the unique values (Remove the Duplicate Values)\n",
    "L=[1,2,3,4,5,6,6,54,3]\n",
    "d={}\n",
    "L1=[]\n",
    "for i in L:\n",
    "    if i not in d:\n",
    "        d[i]=1\n",
    "    else:\n",
    "        d[i]+=1\n",
    "for k,v in d.items():\n",
    "    if v==1:\n",
    "        L1.append(k)\n",
    "print(tuple(L1))  \n",
    "\n",
    "'''L=[1,2,3,4,5,6,6,54,3]\n",
    "print(set(L))'''     \n"
   ]
  },
  {
   "cell_type": "code",
   "execution_count": 14,
   "metadata": {},
   "outputs": [
    {
     "name": "stdout",
     "output_type": "stream",
     "text": [
      "3 6 "
     ]
    }
   ],
   "source": [
    "## 8 show all the duplicate values\n",
    "L=[1,2,3,4,5,6,6,54,3]\n",
    "d={}\n",
    "for i in L:\n",
    "    if i not in d:\n",
    "        d[i]=1\n",
    "    else:\n",
    "        d[i]+=1\n",
    "for k,v in d.items():\n",
    "    if v>1:\n",
    "        print(k,end=\" \")\n"
   ]
  },
  {
   "cell_type": "code",
   "execution_count": 21,
   "metadata": {},
   "outputs": [
    {
     "name": "stdout",
     "output_type": "stream",
     "text": [
      "4\n"
     ]
    }
   ],
   "source": [
    "## 9 Avg of given Numbers\n",
    "L=[1,2,3,4,5,6,7]\n",
    "l=len(L)\n",
    "s=0\n",
    "for i in L:\n",
    "    s+=i\n",
    "avg=int(s/l)\n",
    "print(avg)\n"
   ]
  },
  {
   "cell_type": "code",
   "execution_count": 23,
   "metadata": {},
   "outputs": [
    {
     "name": "stdout",
     "output_type": "stream",
     "text": [
      "5 is odd num\n"
     ]
    }
   ],
   "source": [
    "## 10 Find Even or Odd\n",
    "n=int(input(\"Enter a number: \"))\n",
    "if n%2==0:\n",
    "    print(f'{n} is a Even')\n",
    "else:\n",
    "    print(f'{n} is odd num')"
   ]
  },
  {
   "cell_type": "code",
   "execution_count": 30,
   "metadata": {},
   "outputs": [
    {
     "data": {
      "text/plain": [
       "95"
      ]
     },
     "execution_count": 30,
     "metadata": {},
     "output_type": "execute_result"
    }
   ],
   "source": [
    "## 11 pick the random number\n",
    "'''\n",
    "import random\n",
    "random.randint(1,100)\n",
    "'''\n",
    "def rangeO(l,u):\n",
    "    import random\n",
    "    return random.randint(l,u)\n",
    "rangeO(1,100)"
   ]
  },
  {
   "cell_type": "code",
   "execution_count": 36,
   "metadata": {},
   "outputs": [
    {
     "name": "stdout",
     "output_type": "stream",
     "text": [
      "Not a Prime Number\n"
     ]
    }
   ],
   "source": [
    "## 12 program to print prime no's in a given range & find the prime's no\n",
    "'''\n",
    "ll=1\n",
    "ul=100\n",
    "for n in range(ll,ul+1):\n",
    "    for i in range(2,n//2+1):\n",
    "        if n%i==0:\n",
    "            break\n",
    "    else:\n",
    "        print(n,end=\" \")\n",
    "'''\n",
    "'''ll=1\n",
    "ul=100\n",
    "print(list(filter(lambda x: all(x%i!=0 for i in range (2,int(x*0.5)+1)),range(ll,ul))))'''\n",
    "#print(list(filter(lambda x: all(x % i != 0 for i in range(2, int(x**0.5) + 1)), range(500, 1001))))\n",
    "## using function\n",
    "'''def primeRange(ll,ul):\n",
    "    for n in range(ll,ul+1):\n",
    "        for i in range(2,n//2+1):\n",
    "            if n%i==0:\n",
    "                break\n",
    "        else:\n",
    "            print(n,end=\" \")\n",
    "primeRange(2,100)\n",
    "'''\n",
    "#prime or not\n",
    "'''\n",
    "n=int(input(\"enter a number: \"))\n",
    "if n<=1:\n",
    "    print(\"enter number greater than one\")\n",
    "else:\n",
    "    for i in range(2,n//2+1):\n",
    "        if n%i==0:\n",
    "            print(\"Not a Prime Number\")\n",
    "            break\n",
    "    else:\n",
    "        print(f'{n} is a prime number')\n",
    "'''\n"
   ]
  },
  {
   "cell_type": "code",
   "execution_count": 43,
   "metadata": {},
   "outputs": [
    {
     "data": {
      "text/plain": [
       "1"
      ]
     },
     "execution_count": 43,
     "metadata": {},
     "output_type": "execute_result"
    }
   ],
   "source": [
    "##13 reverse the number\n",
    "def reverse(n):\n",
    "    rev=0\n",
    "    while n>0:\n",
    "        r=n%10\n",
    "        rev=rev*10+r\n",
    "        n//=10\n",
    "    return rev\n",
    "reverse(153)\n",
    "reverse(10)"
   ]
  },
  {
   "cell_type": "code",
   "execution_count": 44,
   "metadata": {},
   "outputs": [
    {
     "data": {
      "text/plain": [
       "(30, 20)"
      ]
     },
     "execution_count": 44,
     "metadata": {},
     "output_type": "execute_result"
    }
   ],
   "source": [
    "## 14 swapping the values\n",
    "def swapOf(a,b):\n",
    "    a,b=b,a\n",
    "    return a,b\n",
    "swapOf(20,30)"
   ]
  },
  {
   "cell_type": "code",
   "execution_count": 46,
   "metadata": {},
   "outputs": [
    {
     "name": "stdout",
     "output_type": "stream",
     "text": [
      "[1, 2, 5, 4, 5]\n"
     ]
    }
   ],
   "source": [
    "## 15 replace the values\n",
    "n=[1,2,3,4,5]\n",
    "k=int(input(\"Enter value to change: \"))\n",
    "n[2]=k\n",
    "print(n)"
   ]
  },
  {
   "cell_type": "code",
   "execution_count": 55,
   "metadata": {},
   "outputs": [
    {
     "data": {
      "text/plain": [
       "28.5"
      ]
     },
     "execution_count": 55,
     "metadata": {},
     "output_type": "execute_result"
    }
   ],
   "source": [
    "## 16 squares and do avg\n",
    "def squares(n):\n",
    "    sq=[]\n",
    "    for i in range(n):\n",
    "        k=i**2\n",
    "        sq.append(k)\n",
    "    l=len(sq)\n",
    "    s=0\n",
    "    for i in sq:\n",
    "        s+=i\n",
    "    return s/l\n",
    "squares(10)"
   ]
  },
  {
   "cell_type": "code",
   "execution_count": null,
   "metadata": {},
   "outputs": [],
   "source": [
    "def isPrime(n):\n",
    "    if n<=1:\n",
    "        return False\n",
    "    else:\n",
    "        for i in range(2,n//2+1):\n",
    "            if n%i==0:\n",
    "                return False\n",
    "        else:\n",
    "            return True\n",
    "'''def PrimeRange(LL,UL):\n",
    "    for i in range(LL,UL+1):\n",
    "        if isPrime(i):\n",
    "            print(i,end=\" \")\n",
    "PrimeRange(1,200)'''\n",
    "\n",
    "'''def nthPrime(n):\n",
    "    c=0\n",
    "    i=0\n",
    "    while True:\n",
    "        if isPrime(i):\n",
    "            c+=1\n",
    "            if c==n:\n",
    "                print(i)\n",
    "                break\n",
    "        i+=1\n",
    "nthPrime(25) '''   \n",
    "\n",
    "'''def ntomPrimenos(LL,UL):\n",
    "    c=0\n",
    "    i=0\n",
    "    while True:\n",
    "        if isPrime(i):\n",
    "            c+=1\n",
    "            if c>=LL and c<=UL:\n",
    "                print(i,end=\" \")\n",
    "            if c>=UL:\n",
    "                break\n",
    "        i+=1\n",
    "LL=int(input('Enter the lower limit value from u wants the prime nos: '))\n",
    "UL=int(input('Enter the Upper limit value upto u wants the prime nos: '))\n",
    "ntomPrimenos(LL,UL) '''   "
   ]
  },
  {
   "cell_type": "code",
   "execution_count": 18,
   "metadata": {},
   "outputs": [
    {
     "name": "stdout",
     "output_type": "stream",
     "text": [
      "153\n",
      "370\n"
     ]
    }
   ],
   "source": [
    "def Armstrong(n):\n",
    "    temp=n\n",
    "    s=0\n",
    "    l=len(str(n))\n",
    "    while n>0:\n",
    "        r=n%10\n",
    "        p=pow(r,l)\n",
    "        s=p+s\n",
    "        n//=10\n",
    "    if temp==s:\n",
    "        return True\n",
    "    else:\n",
    "        return False\n",
    "'''def ArmstrongRange(LL,UL):\n",
    "    for i in range(LL,UL+1):\n",
    "        if Armstrong(i):\n",
    "            print(i,end=\" \")\n",
    "ArmstrongRange(1,1000) '''\n",
    "#print(Armstrong(153))\n",
    "#Armstrong(154)\n",
    "'''def nthArmstrong(n):\n",
    "    c=0\n",
    "    i=0\n",
    "    while True:\n",
    "        if Armstrong(i):\n",
    "            c+=1\n",
    "            if c==n:\n",
    "                print(i)\n",
    "                break\n",
    "        i+=1\n",
    "nthArmstrong(11) '''    \n",
    "\n",
    "'''def ntomArmstrong(LL,UL):\n",
    "    c=0\n",
    "    i=0\n",
    "    while True:\n",
    "        if Armstrong(i):\n",
    "            c+=1\n",
    "            if c>=LL and c<=UL:\n",
    "                print(i)\n",
    "            if c>UL:\n",
    "                break\n",
    "        i+=1\n",
    "ntomArmstrong(11,12)''' "
   ]
  },
  {
   "cell_type": "code",
   "execution_count": 32,
   "metadata": {},
   "outputs": [
    {
     "name": "stdout",
     "output_type": "stream",
     "text": [
      "4\n"
     ]
    }
   ],
   "source": [
    "# Count the string words\n",
    "def countofWords(s):\n",
    "    l=s.split()\n",
    "    c=0\n",
    "    for i in l:\n",
    "        c+=1\n",
    "    print(c)\n",
    "    # count the characters\n",
    "def countofWords(s):\n",
    "    k=0\n",
    "    for i in s:\n",
    "        k+=1\n",
    "    print(k)\n",
    "s=input()\n",
    "countofWords(s)"
   ]
  },
  {
   "cell_type": "code",
   "execution_count": 31,
   "metadata": {},
   "outputs": [
    {
     "name": "stdout",
     "output_type": "stream",
     "text": [
      "14\n"
     ]
    }
   ],
   "source": [
    "# count the characters\n",
    "def countofWords(s):\n",
    "    k=0\n",
    "    for i in s:\n",
    "        k+=1\n",
    "    print(k)\n",
    "s=input()\n",
    "countofWords(s)"
   ]
  },
  {
   "cell_type": "code",
   "execution_count": 51,
   "metadata": {},
   "outputs": [
    {
     "data": {
      "text/plain": [
       "'bHarath'"
      ]
     },
     "execution_count": 51,
     "metadata": {},
     "output_type": "execute_result"
    }
   ],
   "source": [
    "## do the first letter capital\n",
    "'''def capitalLetter(s):\n",
    "    return s.capitalize()\n",
    "\n",
    "s=input()\n",
    "capitalLetter(s) '''\n",
    "\n",
    "## do the second letter capital\n",
    "def capitalLetter(s):\n",
    "    l=[]\n",
    "    for i in s:\n",
    "        l.append(i)\n",
    "    l[1]=l[1].upper()\n",
    "    return ''.join(l)\n",
    "s='bharath'\n",
    "capitalLetter(s)"
   ]
  },
  {
   "cell_type": "code",
   "execution_count": 56,
   "metadata": {},
   "outputs": [
    {
     "data": {
      "text/plain": [
       "'BhArAtH'"
      ]
     },
     "execution_count": 56,
     "metadata": {},
     "output_type": "execute_result"
    }
   ],
   "source": [
    "#bharath o/p: bHaRaTh\n",
    "def inpStr(s):\n",
    "    return s.swapcase()\n",
    "#s=input()\n",
    "inpStr('bHaRaTh')"
   ]
  },
  {
   "cell_type": "code",
   "execution_count": 61,
   "metadata": {},
   "outputs": [
    {
     "name": "stdout",
     "output_type": "stream",
     "text": [
      "7\n"
     ]
    }
   ],
   "source": [
    "s='BHARATH'\n",
    "c=0\n",
    "for i in s:\n",
    "    if ord(i)>=65 and ord(i)<=91:\n",
    "        c+=1\n",
    "print(c)"
   ]
  },
  {
   "cell_type": "code",
   "execution_count": 10,
   "metadata": {},
   "outputs": [
    {
     "name": "stdout",
     "output_type": "stream",
     "text": [
      "4\n",
      "3\n",
      "2\n",
      "1\n",
      "[]\n"
     ]
    },
    {
     "ename": "",
     "evalue": "",
     "output_type": "error",
     "traceback": [
      "\u001b[1;31mThe Kernel crashed while executing code in the current cell or a previous cell. \n",
      "\u001b[1;31mPlease review the code in the cell(s) to identify a possible cause of the failure. \n",
      "\u001b[1;31mClick <a href='https://aka.ms/vscodeJupyterKernelCrash'>here</a> for more info. \n",
      "\u001b[1;31mView Jupyter <a href='command:jupyter.viewOutput'>log</a> for further details."
     ]
    }
   ],
   "source": [
    "s='chandra bharath kumar reddy'\n",
    "'''l=s.split()\n",
    "l1=l[::-1]\n",
    "rev=' '.join(l1)\n",
    "print(rev) '''   \n",
    "L1=s.split()\n",
    "L=[]\n",
    "for i in range(len(L1),0,-1):\n",
    "    print(i)\n",
    "print(L)"
   ]
  },
  {
   "cell_type": "code",
   "execution_count": 6,
   "metadata": {},
   "outputs": [
    {
     "name": "stdout",
     "output_type": "stream",
     "text": [
      "ardnahc htarahb\n"
     ]
    }
   ],
   "source": [
    "s='chandra bharath'\n",
    "l=s.split()\n",
    "l1=[]\n",
    "for i in l:\n",
    "    l1.append(i[::-1])\n",
    "rev=' '.join(l1)\n",
    "print(rev)"
   ]
  },
  {
   "cell_type": "code",
   "execution_count": 6,
   "metadata": {},
   "outputs": [
    {
     "name": "stdout",
     "output_type": "stream",
     "text": [
      "['one', 'owt', 'three', 'ruof', 'five', 'xis']\n"
     ]
    }
   ],
   "source": [
    "# s='one two three four five six'\n",
    "# l=s.split()\n",
    "# l1=[]\n",
    "# i=0\n",
    "# while i<len(l):\n",
    "#     if i%2==0:\n",
    "#         l1.append(l[i])\n",
    "#     else:\n",
    "#         l1.append(l[i][::-1])\n",
    "#     i=i+1\n",
    "# rev=' '.join(l1)\n",
    "# print(rev)\n",
    "s='one two three four five six'\n",
    "l=s.split()\n",
    "l1=[]\n",
    "for i in range(len(l)):\n",
    "    if i%2==0:\n",
    "        l1.append(l[i])\n",
    "    else:\n",
    "        l1.append(l[i][::-1])\n",
    "print(l1)\n"
   ]
  },
  {
   "cell_type": "code",
   "execution_count": 7,
   "metadata": {},
   "outputs": [
    {
     "name": "stdout",
     "output_type": "stream",
     "text": [
      "a3b4c2a1b1\n"
     ]
    }
   ],
   "source": [
    "s='aaabbbbccab'\n",
    "output=''\n",
    "p=s[0]\n",
    "c=1\n",
    "i=1\n",
    "while i<len(s):\n",
    "    if s[i]==p:\n",
    "        c+=1\n",
    "    else:\n",
    "        output=output+p+str(c)\n",
    "        p=s[i]\n",
    "        c=1\n",
    "    if i==len(s)-1:\n",
    "        output=output+p+str(c)\n",
    "    i=i+1\n",
    "print(output)\n"
   ]
  },
  {
   "cell_type": "code",
   "execution_count": 13,
   "metadata": {},
   "outputs": [
    {
     "name": "stdout",
     "output_type": "stream",
     "text": [
      "3a4b2c1a1b\n"
     ]
    }
   ],
   "source": [
    "# s='aaabbbbccab'\n",
    "# output=''\n",
    "# p=s[0]\n",
    "# c=1\n",
    "# i=1\n",
    "# while i<len(s):\n",
    "#     if s[i]==p:\n",
    "#         c+=1\n",
    "#     else:\n",
    "#         output=output+str(c)+p\n",
    "#         p=s[i]\n",
    "#         c=1\n",
    "#     if i==len(s)-1:\n",
    "#         output=output+str(c)+p\n",
    "#     i=i+1\n",
    "# print(output)\n",
    "s='aaabbbbccab'\n",
    "prev=s[0]\n",
    "c=1\n",
    "res=''\n",
    "for i in range(1,len(s)):\n",
    "    if s[i]==prev:\n",
    "        c+=1\n",
    "    else:\n",
    "        res=res+str(c)+prev\n",
    "        prev=s[i]\n",
    "        c=1\n",
    "    if i==len(s)-1:\n",
    "        res=res+str(c)+prev\n",
    "print(res)\n"
   ]
  },
  {
   "cell_type": "code",
   "execution_count": null,
   "metadata": {},
   "outputs": [
    {
     "name": "stdout",
     "output_type": "stream",
     "text": [
      "['prime', 'prime', 'odd', 'prime', 'prime']\n"
     ]
    }
   ],
   "source": [
    "def isPrime(n):\n",
    "    for i in range(2,n//2+1):\n",
    "        if n%i==0:\n",
    "            return False\n",
    "    else:\n",
    "        return True\n",
    "def iseven(n):\n",
    "    if n%i==0:\n",
    "        return True\n",
    "def isodd(n):\n",
    "    if n%i==1:\n",
    "        return True\n",
    "l=[2,3,4,5,8,9]\n",
    "L=[]\n",
    "for i in range(len(l)-1):\n",
    "    k=l[i]+l[i+1]\n",
    "    if isPrime(k):\n",
    "        L.append('prime')\n",
    "    elif iseven(k):\n",
    "        L.append('even')\n",
    "    elif isodd(k):\n",
    "        L.append('odd')\n",
    "print(L)"
   ]
  },
  {
   "cell_type": "code",
   "execution_count": 18,
   "metadata": {},
   "outputs": [
    {
     "name": "stdout",
     "output_type": "stream",
     "text": [
      "a occurences 3 times\n",
      "i occurences 2 times\n"
     ]
    }
   ],
   "source": [
    "s='hai bharatih'\n",
    "# v=['a','e','i','o','u','A','E','I','O','U']\n",
    "v='aeiouAEIOU'\n",
    "d={}\n",
    "for i in s:\n",
    "    if i in v:\n",
    "        d[i]=d.get(i,0)+1\n",
    "for k,v in sorted(d.items()):\n",
    "    print(f'{k} occurences {v} times')"
   ]
  },
  {
   "cell_type": "code",
   "execution_count": null,
   "metadata": {},
   "outputs": [
    {
     "name": "stdout",
     "output_type": "stream",
     "text": [
      "rtaevjia\n"
     ]
    }
   ],
   "source": [
    "s1='ravi'\n",
    "s2='teja'\n",
    "# i,j=0,0\n",
    "# res=''\n",
    "# while i<len(s1) or j<len(s2):\n",
    "#     res+=s1[i]+s2[i]\n",
    "#     i+=1\n",
    "#     j+=1\n",
    "# print(res)\n",
    "l=list(map(lambda x,y:x+y,s1,s2))\n",
    "print(''.join(l))"
   ]
  },
  {
   "cell_type": "code",
   "execution_count": 16,
   "metadata": {},
   "outputs": [
    {
     "name": "stdout",
     "output_type": "stream",
     "text": [
      "rkaivrian\n"
     ]
    }
   ],
   "source": [
    "s1='ravi'\n",
    "s2='kiran'\n",
    "i,j=0,0\n",
    "res=''\n",
    "while i<len(s1) or j<len(s2):\n",
    "    if i<len(s1):\n",
    "        res+=s1[i]\n",
    "        i+=1\n",
    "    if j<len(s2):\n",
    "        res+=s2[j]\n",
    "        j+=1\n",
    "print(res)"
   ]
  },
  {
   "cell_type": "code",
   "execution_count": 4,
   "metadata": {},
   "outputs": [
    {
     "name": "stdout",
     "output_type": "stream",
     "text": [
      "ABD134\n"
     ]
    }
   ],
   "source": [
    "s='B4A1D3'  ## ABD134\n",
    "# alp=[]\n",
    "# digit=[]\n",
    "# for i in s:\n",
    "#     if i.isalpha():\n",
    "#         alp.append(i)\n",
    "#     elif i.isdigit():\n",
    "#         digit.append(i)\n",
    "# output=''.join(sorted(alp)+sorted(digit))\n",
    "# print(output)\n",
    "alp=[]\n",
    "digit=[]\n",
    "for i in s:\n",
    "    if i.isalpha():\n",
    "        alp.append(i)\n",
    "    elif i.isdigit():\n",
    "        digit.append(i)\n",
    "res=''.join(sorted(alp)+sorted(digit))\n",
    "print(res)"
   ]
  },
  {
   "cell_type": "code",
   "execution_count": 7,
   "metadata": {},
   "outputs": [
    {
     "name": "stdout",
     "output_type": "stream",
     "text": [
      "aaaabbbcc\n"
     ]
    }
   ],
   "source": [
    "s='a4b3c2'\n",
    "result=''\n",
    "# for i in s:\n",
    "#     if i.isalpha() :\n",
    "#         x=i\n",
    "#     else:\n",
    "#         d=int(i)\n",
    "#         result+=x*d\n",
    "for i in s:\n",
    "    if i.isalpha():\n",
    "        x=i\n",
    "    else:\n",
    "        d=int(i)\n",
    "        result+=x*d\n",
    "print(result)"
   ]
  }
 ],
 "metadata": {
  "kernelspec": {
   "display_name": "Python 3",
   "language": "python",
   "name": "python3"
  },
  "language_info": {
   "codemirror_mode": {
    "name": "ipython",
    "version": 3
   },
   "file_extension": ".py",
   "mimetype": "text/x-python",
   "name": "python",
   "nbconvert_exporter": "python",
   "pygments_lexer": "ipython3",
   "version": "3.10.8"
  }
 },
 "nbformat": 4,
 "nbformat_minor": 2
}
