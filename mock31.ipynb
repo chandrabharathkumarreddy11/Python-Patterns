{
 "cells": [
  {
   "cell_type": "code",
   "execution_count": 8,
   "metadata": {},
   "outputs": [
    {
     "name": "stdout",
     "output_type": "stream",
     "text": [
      "h\n",
      "a\n",
      "k\n"
     ]
    }
   ],
   "source": [
    "'''\n",
    "def duplicateLetter(s):\n",
    "    d={}\n",
    "    for i in s:\n",
    "        if i not in d:\n",
    "            d[i]=1\n",
    "        else:\n",
    "            d[i]=d[i]+1\n",
    "    for k,v in d.items():\n",
    "        if v>1:\n",
    "            print(f'{k}')\n",
    "duplicateLetter('Bharath')'''\n",
    "##\n",
    "s=input()\n",
    "d={}\n",
    "for i in s:\n",
    "    if i.isalpha():\n",
    "        i=i.lower()\n",
    "        if i not in d:\n",
    "            d[i]=1\n",
    "        else:\n",
    "            d[i]+=1\n",
    "for k,v in d.items():\n",
    "    if v>1:\n",
    "        print(f'{k}')"
   ]
  },
  {
   "cell_type": "code",
   "execution_count": 25,
   "metadata": {},
   "outputs": [
    {
     "name": "stdout",
     "output_type": "stream",
     "text": [
      "2 3 5 7 11 13 17 19 23 29 "
     ]
    }
   ],
   "source": [
    "## Prime Num\n",
    "'''n=int(input())\n",
    "if n>1:\n",
    "    for i in range(2,n//2+1):\n",
    "        if n%i==0:\n",
    "            break\n",
    "    else:\n",
    "        print(n)\n",
    "else:\n",
    "    print('pls enter a val>1')'''\n",
    "#in a given range\n",
    "'''LL=int(input())\n",
    "UL=int(input())\n",
    "for n in range(LL,UL+1):\n",
    "    if n>1:\n",
    "        for i in range(2,n//2+1):\n",
    "            if n%i==0:\n",
    "                break\n",
    "        else:\n",
    "            print(n,end=\" \")'''\n",
    "\n",
    "## nth prime number\n",
    "'''LL=int(input())\n",
    "UL=int(input())\n",
    "n1=int(input(\"Enter which number u wants\"))\n",
    "c=0\n",
    "for n in range(LL,UL+1):\n",
    "    if n>1:\n",
    "        for i in range(2,n//2+1):\n",
    "            if n%i==0:\n",
    "                break\n",
    "        else:\n",
    "            c+=1\n",
    "            if c==n1:\n",
    "                print(n)   ''' \n",
    "## first n prime numbers\n",
    "'''LL=int(input())\n",
    "UL=int(input())\n",
    "n1=int(input(\"Enter how many number u wants\"))\n",
    "c=0\n",
    "for n in range(LL,UL+1):\n",
    "    if n>1:\n",
    "        for i in range(2,n//2+1):\n",
    "            if n%i==0:\n",
    "                break\n",
    "        else:\n",
    "            c+=1\n",
    "            if c>n1:\n",
    "                break\n",
    "            print(n,end=\" \")\n",
    "            '''\n",
    "            \n",
    "\n",
    "\n",
    "\n"
   ]
  },
  {
   "cell_type": "code",
   "execution_count": 36,
   "metadata": {},
   "outputs": [
    {
     "name": "stdout",
     "output_type": "stream",
     "text": [
      "1 2 3 4 5 6 7 8 9 153 "
     ]
    }
   ],
   "source": [
    "## Armstrong Num\n",
    "'''n=int(input())\n",
    "s=0\n",
    "temp=n\n",
    "l=len(str(n))\n",
    "while n>0:\n",
    "    r=n%10\n",
    "    p=pow(r,l)\n",
    "    s=p+s\n",
    "    n//=10\n",
    "if temp==s:\n",
    "    print(temp,\"is a armstrong Number\")\n",
    "else:\n",
    "    print(\"Not a Armstrong number\")'''\n",
    "## using functions\n",
    "def isArmstrong(n):\n",
    "    s=0\n",
    "    temp=n\n",
    "    l=len(str(n))\n",
    "    while n>0:\n",
    "        r=n%10\n",
    "        p=pow(r,l)\n",
    "        s=s+p\n",
    "        n//=10\n",
    "    if temp==s:\n",
    "        return True\n",
    "    else:\n",
    "        return False\n",
    "#print(isArmstrong(153))\n",
    "#print(isArmstrong(135))\n",
    "## in a given range\n",
    "'''def armstrongRange(LL,UL):\n",
    "    for n in range(LL,UL+1):\n",
    "        if isArmstrong(n):\n",
    "            print(n,end=\" \")\n",
    "armstrongRange(1,100000)''' \n",
    "## n th armstrong number\n",
    "'''def nthArmstrong(LL,UL):\n",
    "    c=0\n",
    "    n1=int(input())\n",
    "    for n in range(LL,UL+1):\n",
    "        if isArmstrong(n):\n",
    "            c+=1\n",
    "            if c==n1:\n",
    "                print(n)\n",
    "nthArmstrong(1,1000) '''\n",
    "# first n Armstrong no's\n",
    "'''def nthArmstrong(LL,UL):\n",
    "    c=0\n",
    "    n1=int(input())\n",
    "    for n in range(LL,UL+1):\n",
    "        if isArmstrong(n):\n",
    "            c+=1\n",
    "            if c>n1:\n",
    "                break\n",
    "            print(n,end=\" \")\n",
    "nthArmstrong(1,1000)'''\n",
    "        "
   ]
  },
  {
   "cell_type": "code",
   "execution_count": 11,
   "metadata": {},
   "outputs": [],
   "source": [
    "## Strong Number\n",
    "n=int(input())\n",
    "s=0\n",
    "temp=n\n",
    "while n>0:\n",
    "    fact=1\n",
    "    r=n%10\n",
    "    for i in range(1,r+1):\n",
    "        fact*=i\n",
    "    s=fact+s\n",
    "    n//=10\n",
    "if temp==s:\n",
    "    print(temp,\"is Strong\")\n"
   ]
  },
  {
   "cell_type": "code",
   "execution_count": 14,
   "metadata": {},
   "outputs": [
    {
     "name": "stdout",
     "output_type": "stream",
     "text": [
      "12 is harshad\n"
     ]
    }
   ],
   "source": [
    "## Harshad Number\n",
    "n=int(input())\n",
    "s=0\n",
    "t=n\n",
    "while n>0:\n",
    "    r=n%10\n",
    "    s=s+r\n",
    "    n//=10\n",
    "if t%s==0:\n",
    "    print(t,\"is harshad\")\n",
    "else:\n",
    "    print(\"none\")\n"
   ]
  },
  {
   "cell_type": "code",
   "execution_count": 16,
   "metadata": {},
   "outputs": [
    {
     "name": "stdout",
     "output_type": "stream",
     "text": [
      "no\n"
     ]
    }
   ],
   "source": [
    "## Perfect Number\n",
    "n=int(input())\n",
    "s=0\n",
    "for i in range(1,n//2+1):\n",
    "    if n%i==0:\n",
    "        s+=i\n",
    "if s==n:\n",
    "    print(n)\n",
    "else:\n",
    "    print(\"no\")"
   ]
  },
  {
   "cell_type": "code",
   "execution_count": 18,
   "metadata": {},
   "outputs": [
    {
     "name": "stdout",
     "output_type": "stream",
     "text": [
      "not\n"
     ]
    }
   ],
   "source": [
    "## Disarium num\n",
    "n=int(input())\n",
    "s=0\n",
    "temp=n\n",
    "l=len(str(n))\n",
    "while n>0:\n",
    "    r=n%10\n",
    "    p=pow(r,l)\n",
    "    s=p+s\n",
    "    n//=10\n",
    "    l-=1\n",
    "if temp==s:\n",
    "    print(\"Disarium num\")\n",
    "else:\n",
    "    print(\"not\")"
   ]
  },
  {
   "cell_type": "code",
   "execution_count": 43,
   "metadata": {},
   "outputs": [],
   "source": [
    "def isPrime(n):\n",
    "    for i in range(2,n//2+1):\n",
    "        if n%i==0:\n",
    "            break\n",
    "    else:\n",
    "        return True\n",
    "def isreverse(n):\n",
    "    rev=0\n",
    "    while n>0:\n",
    "        r=n%10\n",
    "        rev=rev*10+r\n",
    "        n//=10\n",
    "    return rev\n",
    "def isPaliPrime(n):\n",
    "    rev=isreverse(n)\n",
    "    if rev==n and isPrime(n):\n",
    "        print(n)\n",
    "    else:\n",
    "        return False\n",
    "#isPaliPrime(11)\n",
    "def paliprimeRange(LL,UL):\n",
    "    for n in range(LL,UL+1):\n",
    "        if isPaliPrime(n):\n",
    "            print(n,end=\" \")\n",
    "paliprimeRange(1,1000)"
   ]
  },
  {
   "cell_type": "code",
   "execution_count": 46,
   "metadata": {},
   "outputs": [
    {
     "name": "stdout",
     "output_type": "stream",
     "text": [
      "13\n"
     ]
    }
   ],
   "source": [
    "#Emirp no\n",
    "def isPrime(n):\n",
    "    for i in range(2,n//2+1):\n",
    "        if n%i==0:\n",
    "            return False\n",
    "    else:\n",
    "        return True\n",
    "def isreverse(n):\n",
    "    rev=0\n",
    "    while n>0:\n",
    "        r=n%10\n",
    "        rev=rev*10+r\n",
    "        n//=10\n",
    "    return rev\n",
    "def isEmirp(n):\n",
    "    rev=isreverse(n)\n",
    "    if rev!=n and isPrime(n) and isPrime(rev):\n",
    "        print(n)\n",
    "    else:\n",
    "        return False\n",
    "isEmirp(13)"
   ]
  },
  {
   "cell_type": "code",
   "execution_count": 57,
   "metadata": {},
   "outputs": [
    {
     "name": "stdout",
     "output_type": "stream",
     "text": [
      "1 2 3 4 5 \n",
      "6 7 8 9 10 \n",
      "11 12 13 14 15 \n",
      "16 17 18 19 20 \n",
      "21 22 23 24 25 \n"
     ]
    }
   ],
   "source": [
    "n=int(input())\n",
    "dummy=1\n",
    "for i in range(1,n+1):\n",
    "    for j in range(1,n+1):\n",
    "        print(dummy,end=\" \")\n",
    "        dummy+=1\n",
    "    print()"
   ]
  },
  {
   "cell_type": "code",
   "execution_count": 2,
   "metadata": {},
   "outputs": [
    {
     "name": "stdout",
     "output_type": "stream",
     "text": [
      "1 2 3 4 5 \n",
      "10 9 8 7 6 \n",
      "11 12 13 14 15 \n",
      "20 19 18 17 16 \n",
      "21 22 23 24 25 \n"
     ]
    }
   ],
   "source": [
    "n=int(input())\n",
    "for i in range(1,n+1):\n",
    "    dummy=((i-1)*n)+1\n",
    "    k=(i*n)\n",
    "    for j in range(1,n+1):\n",
    "        if i%2!=0:\n",
    "            print(dummy,end=\" \")\n",
    "            dummy+=1\n",
    "        else:\n",
    "            print(k,end=\" \")\n",
    "            k-=1 \n",
    "    print()"
   ]
  },
  {
   "cell_type": "code",
   "execution_count": 1,
   "metadata": {},
   "outputs": [
    {
     "name": "stdout",
     "output_type": "stream",
     "text": [
      "5 \n",
      "5 6 \n",
      "6 7 8 \n",
      "8 9 10 11 \n",
      "11 12 13 14 15 \n"
     ]
    }
   ],
   "source": [
    "'''\n",
    "5\n",
    "4 5 \n",
    "3 4 5 \n",
    "2 3 4 5\n",
    "1 2 3 4 5'''\n",
    "n=int(input())\n",
    "dummy=n\n",
    "for i in range(n):\n",
    "    for j in range(i+1):\n",
    "        print(dummy,end=\" \")\n",
    "        dummy+=1\n",
    "    print()\n",
    "    dummy-=1\n",
    "  \n"
   ]
  }
 ],
 "metadata": {
  "kernelspec": {
   "display_name": "Python 3",
   "language": "python",
   "name": "python3"
  },
  "language_info": {
   "codemirror_mode": {
    "name": "ipython",
    "version": 3
   },
   "file_extension": ".py",
   "mimetype": "text/x-python",
   "name": "python",
   "nbconvert_exporter": "python",
   "pygments_lexer": "ipython3",
   "version": "3.10.8"
  }
 },
 "nbformat": 4,
 "nbformat_minor": 2
}
