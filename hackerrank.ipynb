{
 "cells": [
  {
   "cell_type": "code",
   "execution_count": 11,
   "metadata": {},
   "outputs": [
    {
     "name": "stdout",
     "output_type": "stream",
     "text": [
      "Not a Paliprime\n"
     ]
    }
   ],
   "source": [
    "def isPrime(n):\n",
    "    for i in range(2,n//2+1):\n",
    "        if n%i==0:\n",
    "            return False\n",
    "    else:\n",
    "        return True\n",
    "def isreverse(n):\n",
    "    rev=0\n",
    "    while n>0:\n",
    "        r=n%10\n",
    "        rev=rev*10+r\n",
    "        n//=10\n",
    "    return rev\n",
    "def isPaliprime(n):\n",
    "    rev=isreverse(n)\n",
    "    if isPrime(n) and rev==n:\n",
    "        print(n,\"is Paliprime\")\n",
    "    else:\n",
    "        print('Not a Paliprime')\n",
    "#isPaliprime(11)\n",
    "num=int(input(\"enter:\"))\n",
    "isPaliprime(num)"
   ]
  },
  {
   "cell_type": "code",
   "execution_count": 7,
   "metadata": {},
   "outputs": [
    {
     "name": "stdout",
     "output_type": "stream",
     "text": [
      "2\n"
     ]
    }
   ],
   "source": [
    "#hackerrank 1\n",
    "'''\n",
    "input:ABCDCDC\n",
    "substr:cdc\n",
    "output:2   '''\n",
    "\n",
    "s=input(\"Enter string\")\n",
    "ss=input(\"Enter Substr:\")\n",
    "c=0\n",
    "l=len(ss)\n",
    "for i in range(len(s)-l+1):\n",
    "       if ss==s[i:i+l]:\n",
    "           c+=1\n",
    "print(c)"
   ]
  },
  {
   "cell_type": "code",
   "execution_count": 14,
   "metadata": {},
   "outputs": [
    {
     "name": "stdout",
     "output_type": "stream",
     "text": [
      "1 2 3 4 5 \n",
      "10 9 8 7 6 \n",
      "11 12 13 14 15 \n",
      "20 19 18 17 16 \n",
      "21 22 23 24 25 \n"
     ]
    },
    {
     "data": {
      "text/plain": [
       "'\\n1  2  3  4  5 \\n10 9  8  7  6\\n11 12 13 14 15\\n20 19 18 17 16\\n21 22 23 24 25'"
      ]
     },
     "execution_count": 14,
     "metadata": {},
     "output_type": "execute_result"
    }
   ],
   "source": [
    "n=int(input())\n",
    "for i in range(1,n+1):\n",
    "    dummy=(5*(i-1))+1\n",
    "    k=i*n\n",
    "    for j in range(1,n+1):\n",
    "        if i%2!=0:\n",
    "            print(dummy,end=\" \")\n",
    "            dummy+=1\n",
    "        else:\n",
    "            print(k,end=\" \")\n",
    "            k-=1\n",
    "    print()\n",
    "'''\n",
    "1  2  3  4  5 \n",
    "10 9  8  7  6\n",
    "11 12 13 14 15\n",
    "20 19 18 17 16\n",
    "21 22 23 24 25'''\n"
   ]
  },
  {
   "cell_type": "code",
   "execution_count": 17,
   "metadata": {},
   "outputs": [
    {
     "name": "stdout",
     "output_type": "stream",
     "text": [
      "['q', 'A', '2']\n"
     ]
    }
   ],
   "source": [
    "## finding   \n",
    "s='qA2'\n",
    "'''print(any(map(str.isalnum,s)))\n",
    "print(any(map(str.isalpha,s)))\n",
    "print(any(map(str.isdigit,s)))\n",
    "print(any(map(str.islower,s)))''' \n",
    "print(list(map(str,s)))"
   ]
  },
  {
   "cell_type": "code",
   "execution_count": 7,
   "metadata": {},
   "outputs": [
    {
     "name": "stdout",
     "output_type": "stream",
     "text": [
      "3\n"
     ]
    }
   ],
   "source": [
    "n=int(input())\n",
    "l=[]\n",
    "for i in range(n):\n",
    "    s=input()\n",
    "    l.append(s)\n",
    "#print(l)\n",
    "seen=set()\n",
    "for i in range(len(l)):\n",
    "    #print(l[i])\n",
    "    if l[i] not in seen:\n",
    "        seen.add(l[i])\n",
    "print(len(seen))\n",
    "        \n"
   ]
  },
  {
   "cell_type": "code",
   "execution_count": null,
   "metadata": {},
   "outputs": [],
   "source": []
  }
 ],
 "metadata": {
  "kernelspec": {
   "display_name": "Python 3",
   "language": "python",
   "name": "python3"
  },
  "language_info": {
   "codemirror_mode": {
    "name": "ipython",
    "version": 3
   },
   "file_extension": ".py",
   "mimetype": "text/x-python",
   "name": "python",
   "nbconvert_exporter": "python",
   "pygments_lexer": "ipython3",
   "version": "3.10.8"
  }
 },
 "nbformat": 4,
 "nbformat_minor": 2
}
