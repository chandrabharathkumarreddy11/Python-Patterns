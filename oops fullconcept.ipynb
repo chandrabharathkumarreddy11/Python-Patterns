{
 "cells": [
  {
   "cell_type": "markdown",
   "metadata": {},
   "source": [
    "Encapsulation"
   ]
  },
  {
   "cell_type": "code",
   "execution_count": 7,
   "metadata": {},
   "outputs": [
    {
     "name": "stdout",
     "output_type": "stream",
     "text": [
      "Robo ram is:  2gb\n",
      "Robo storage is: 400gb\n"
     ]
    }
   ],
   "source": [
    "class Robo:\n",
    "    ## defining instance vbariables\n",
    "    def __init__(self,ram,storage):\n",
    "        self.ram=ram\n",
    "        self.storage=storage\n",
    "        self.__name='Rajini'\n",
    "    \n",
    "    def info(self):\n",
    "        print('Robo ram is: ',self.ram)\n",
    "        print('Robo storage is:',self.storage)\n",
    "obj1=Robo('2gb','400gb')\n",
    "obj1.info()"
   ]
  },
  {
   "cell_type": "markdown",
   "metadata": {},
   "source": [
    "Inheritance"
   ]
  },
  {
   "cell_type": "code",
   "execution_count": 11,
   "metadata": {},
   "outputs": [
    {
     "name": "stdout",
     "output_type": "stream",
     "text": [
      "I can think\n",
      "I can Talk\n"
     ]
    }
   ],
   "source": [
    "# Single Inheritance\n",
    "class Robo_Parent():\n",
    "\n",
    "    ## Talk method\n",
    "    def talk(self):\n",
    "        print('I can Talk')\n",
    "\n",
    "class child(Robo_Parent):\n",
    "\n",
    "    def think(self):\n",
    "        print('I can think')\n",
    "\n",
    "obj_robo=child()\n",
    "obj_robo.think()\n",
    "obj_robo.talk()      ## inherit from parent class\n"
   ]
  },
  {
   "cell_type": "code",
   "execution_count": 12,
   "metadata": {},
   "outputs": [
    {
     "name": "stdout",
     "output_type": "stream",
     "text": [
      "I can read anything in a faster way\n",
      "I can Speak\n",
      "I can talk\n"
     ]
    }
   ],
   "source": [
    "## Multiple Inheritance\n",
    "class P1_Robo:\n",
    "\n",
    "    def talk(self):\n",
    "        print('I can talk')\n",
    "\n",
    "class P2_Robo:\n",
    "\n",
    "    def speak(self):\n",
    "        print('I can Speak')\n",
    "\n",
    "class Child_Robo(P1_Robo,P2_Robo):\n",
    "\n",
    "    def Read(self):\n",
    "        print('I can read anything in a faster way')\n",
    "\n",
    "ram_robo=Child_Robo()\n",
    "ram_robo.Read()\n",
    "ram_robo.speak()\n",
    "ram_robo.talk()\n"
   ]
  },
  {
   "cell_type": "code",
   "execution_count": 15,
   "metadata": {},
   "outputs": [
    {
     "name": "stdout",
     "output_type": "stream",
     "text": [
      "I can work in faster way\n",
      "I can walk in a faster way\n",
      "\n",
      "I can sing songs very well\n",
      "I can work in faster way\n"
     ]
    }
   ],
   "source": [
    "## Heirarchical Inheritance\n",
    "class Robo:\n",
    "\n",
    "    def work(self):\n",
    "        print('I can work in faster way')\n",
    "\n",
    "class Child1(Robo):\n",
    "\n",
    "    def walk(self):\n",
    "        print(\"I can walk in a faster way\")\n",
    "class Child3(Robo):\n",
    "\n",
    "    def sing(self):\n",
    "        print('I can sing songs very well')\n",
    "\n",
    "obj1=Child1()\n",
    "obj2=Child3()\n",
    "\n",
    "obj1.work()\n",
    "obj1.walk()\n",
    "\n",
    "print()\n",
    "\n",
    "obj2.sing()\n",
    "obj2.work()"
   ]
  },
  {
   "cell_type": "code",
   "execution_count": 18,
   "metadata": {},
   "outputs": [
    {
     "name": "stdout",
     "output_type": "stream",
     "text": [
      "Two Step Building\n",
      "one step building\n"
     ]
    }
   ],
   "source": [
    "## Multilevel-Inheritance\n",
    "class P1:\n",
    "\n",
    "    def house(self):\n",
    "        print('one step building')\n",
    "\n",
    "class P2(P1):\n",
    "\n",
    "    def Bungalaw(self):\n",
    "        print('Two Step Building')\n",
    "\n",
    "class P3(P2):\n",
    "\n",
    "    def flat(self):\n",
    "        print('N steps Building')\n",
    "\n",
    "obj1=P3()\n",
    "obj1.Bungalaw()\n",
    "obj1.house()"
   ]
  },
  {
   "cell_type": "code",
   "execution_count": 22,
   "metadata": {},
   "outputs": [
    {
     "name": "stdout",
     "output_type": "stream",
     "text": [
      "I can fly upto 10000m high\n",
      "I can jump 100m long\n"
     ]
    }
   ],
   "source": [
    "## Polymorphism\n",
    "\n",
    "##Method Override\n",
    "class Robo:\n",
    "\n",
    "    def fly(self):\n",
    "        print('I can fly upto 500m high')\n",
    "    def jump(self):\n",
    "        print('I can jump 100m long')\n",
    "\n",
    "class Robo1(Robo):\n",
    "    \n",
    "    def fly(self):\n",
    "        print('I can fly upto 10000m high')\n",
    "objA=Robo1()\n",
    "objA.fly()\n",
    "objA.jump()"
   ]
  },
  {
   "cell_type": "code",
   "execution_count": null,
   "metadata": {},
   "outputs": [],
   "source": []
  }
 ],
 "metadata": {
  "kernelspec": {
   "display_name": "Python 3",
   "language": "python",
   "name": "python3"
  },
  "language_info": {
   "codemirror_mode": {
    "name": "ipython",
    "version": 3
   },
   "file_extension": ".py",
   "mimetype": "text/x-python",
   "name": "python",
   "nbconvert_exporter": "python",
   "pygments_lexer": "ipython3",
   "version": "3.10.8"
  }
 },
 "nbformat": 4,
 "nbformat_minor": 2
}
