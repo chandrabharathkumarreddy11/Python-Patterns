{
 "cells": [
  {
   "cell_type": "markdown",
   "metadata": {},
   "source": [
    "Dictionary:\n",
    "\n",
    "--> Dictionary is collection of key,value pairs\n",
    "--> methods of dictionary:\n",
    "keys(),values(),items()\n",
    "get(),setdefault(),copy(),clear()\n",
    "pop(),popitem(),update,fromkeys()\n"
   ]
  },
  {
   "cell_type": "code",
   "execution_count": 1,
   "metadata": {},
   "outputs": [
    {
     "name": "stdout",
     "output_type": "stream",
     "text": [
      "dict_keys(['Name', 'Age'])\n",
      "dict_values(['Bharath', 21])\n",
      "dict_items([('Name', 'Bharath'), ('Age', 21)])\n"
     ]
    }
   ],
   "source": [
    "d={'Name':'Bharath','Age':21}\n",
    "#keys     --->  it prints all the keys presents in dictionary\n",
    "print(d.keys())\n",
    "#values   --->  it prints all the values presents in dictionary\n",
    "print(d.values())\n",
    "#items()  --->  it prints all the keys and values present in dictionary\n",
    "print(d.items())"
   ]
  },
  {
   "cell_type": "markdown",
   "metadata": {},
   "source": [
    "## get: ---> syntax: get(keyname,defaultvalue)\n",
    "it returns the values if specified key is present in the dictionary else it returns the default value and it will not update the dictionary if specified key is not present\n",
    "## setdefault: --> syntax: setdefault(keyname,defaultvalue)\n",
    "it returns the values if specified key is present in the dictionary else it returns the default value and it will  update the dictionary if specified key and default valueis not present "
   ]
  },
  {
   "cell_type": "code",
   "execution_count": 8,
   "metadata": {},
   "outputs": [
    {
     "name": "stdout",
     "output_type": "stream",
     "text": [
      "Bharath\n",
      "20\n",
      "None\n"
     ]
    }
   ],
   "source": [
    "##get\n",
    "d={'Name':'Bharath','Age':21}\n",
    "print(d.get('Name'))            ## key is present so the correspond value will be return\n",
    "print(d.get('name',20))         ## key is not present so the default value will be return as output (not update the dictionary)\n",
    "print(d.get('name'))            ## key is not present ,default value is not given it returns None as output\n"
   ]
  },
  {
   "cell_type": "code",
   "execution_count": 10,
   "metadata": {},
   "outputs": [
    {
     "name": "stdout",
     "output_type": "stream",
     "text": [
      "Bharath\n",
      "20\n",
      "20\n",
      "None\n"
     ]
    }
   ],
   "source": [
    "##setdeafult\n",
    "d={'Name':'Bharath','Age':21}\n",
    "print(d.setdefault('Name'))            ## key is present so the correspond value will be return\n",
    "print(d.setdefault('name',20))         ## key is not present so the default value will be return as output(update the dictionary with the keyname ,value)\n",
    "print(d.setdefault('name'))            ## updated dictionary have the key so it returns the corresponded value\n",
    "print(d.setdefault('age'))             ## key is not prsent default values is not given so the dictionary update with age as keyname and None as value\n"
   ]
  },
  {
   "cell_type": "markdown",
   "metadata": {},
   "source": [
    "## update -->  syntax:baseset.update({'key1':val1,'key2':val2,'key3':val3,...'keyn':valn})\n",
    "\n",
    "--> it will update the dictionary with collection of key,value pairs\n",
    "--> it will merge to dictionaries\n",
    "--> if specified key is present then it will update the value if key is not present then it will create a new key value pair"
   ]
  },
  {
   "cell_type": "code",
   "execution_count": 15,
   "metadata": {},
   "outputs": [
    {
     "name": "stdout",
     "output_type": "stream",
     "text": [
      "{'Name': 'Bharath', 'Age': 21, 'mobileno': 9392671496, 'village': 'Alidena'}\n",
      "{'Name': 'Bharath', 'Age': 21, 'mobileno': 9392671496, 'village': 'Alidena', 'colege': 'ksrm'}\n",
      "{'Name': 'Bharath', 'Age': 21, 'mobileno': 9392671496, 'village': 'Alidena', 'colege': 'ksrm', 'age': 22}\n"
     ]
    }
   ],
   "source": [
    "d={'Name':'Bharath','Age':21}\n",
    "d.update({'mobileno':9392671496,'village':'Alidena'})    \n",
    "print(d)\n",
    "d.update([('colege','ksrm')])         ## another way we can provide key value pair \n",
    "print(d)\n",
    "d.update({'age':22})\n",
    "print(d)                              ## update age with new value"
   ]
  },
  {
   "cell_type": "markdown",
   "metadata": {},
   "source": [
    "Deletion methods of dictionary\n",
    "1.pop()  2.popitem()\n",
    "# 1.pop         --> syntax: pop(keyname)    # return type is can't be determined\n",
    "--> it will delete the key value pair if the key is present else it will return keyerror\n",
    "# 2.popitem()   --> syntax: popitem()       # return type is tuple\n",
    "--> it will delete the last key value pair from dictionary of the dictionary is empty it will return keyerror"
   ]
  },
  {
   "cell_type": "code",
   "execution_count": 6,
   "metadata": {},
   "outputs": [
    {
     "name": "stdout",
     "output_type": "stream",
     "text": [
      "{}\n"
     ]
    }
   ],
   "source": [
    "## pop() :   pop(keyname)\n",
    "d={'Name':'Bharath','Age':21}\n",
    "d.pop('Name')\n",
    "d.pop('Age')\n",
    "#d.pop('clg')    # if specified key is not present it will return key error\n",
    "print(d)"
   ]
  },
  {
   "cell_type": "code",
   "execution_count": 8,
   "metadata": {},
   "outputs": [
    {
     "name": "stdout",
     "output_type": "stream",
     "text": [
      "{}\n"
     ]
    }
   ],
   "source": [
    "##popitem()     --> it will not take any arguments\n",
    "d={'Name':'Bharath','Age':21}\n",
    "d.popitem()  ## output in tuple\n",
    "d.popitem()\n",
    "print(d)"
   ]
  },
  {
   "cell_type": "markdown",
   "metadata": {},
   "source": [
    "## fromkeys   -->syntax: fromkeys(cdt,defaultvalue)\n",
    "--> extract each element from cdt and consider them as keys and assign the defaultvalue value to that keys\n",
    "--> if there is no default value then None assigned to that keys "
   ]
  },
  {
   "cell_type": "code",
   "execution_count": 12,
   "metadata": {},
   "outputs": [
    {
     "name": "stdout",
     "output_type": "stream",
     "text": [
      "{'B': 20, 'Y': 20, 'E': 20}\n",
      "{'ji': 20, 'hi': 20}\n",
      "{'b': None, 'h': None, 'a': None, 'r': None, 't': None}\n"
     ]
    }
   ],
   "source": [
    "#example1\n",
    "d={}.fromkeys('BYE',20)\n",
    "print(d)\n",
    "#example2\n",
    "d1={}.fromkeys(['ji','hi'],20)  \n",
    "print(d1)\n",
    "#3\n",
    "d={}.fromkeys('bharath')       ## no default value so it considering None as default value\n",
    "print(d)"
   ]
  },
  {
   "cell_type": "markdown",
   "metadata": {},
   "source": [
    "## Basic Problems"
   ]
  },
  {
   "cell_type": "code",
   "execution_count": 15,
   "metadata": {},
   "outputs": [
    {
     "name": "stdout",
     "output_type": "stream",
     "text": [
      "{'jhonny': 85, 'Emily': 92, 'Anna': 78, 'David': 89, 'Sophia': 95}\n",
      "92\n",
      "Student not found\n"
     ]
    }
   ],
   "source": [
    "# base dictionary creation\n",
    "d={'jhonny':85,'Emily':92,'Anna':78,'David':89,'Sophia':95}\n",
    "print(d)\n",
    "print(d['Emily']) #print the grade of emily\n",
    "print(d.get('Bharath','Student not found'))\n"
   ]
  },
  {
   "cell_type": "code",
   "execution_count": 18,
   "metadata": {},
   "outputs": [
    {
     "name": "stdout",
     "output_type": "stream",
     "text": [
      "dict_keys(['jhonny', 'Emily', 'Anna', 'David', 'Sophia'])\n",
      "dict_values([85, 92, 78, 89, 95])\n",
      "{'jhonny': 90, 'Emily': 92, 'Anna': 78, 'David': 89, 'Sophia': 95}\n",
      "{'jhonny': 90, 'Emily': 92, 'Anna': 78, 'David': 89, 'Sophia': 95, 'Michael': 90}\n",
      "{'jhonny': 90, 'Emily': 92, 'David': 89, 'Sophia': 95, 'Michael': 90}\n"
     ]
    }
   ],
   "source": [
    "print(d.keys())     ## all the keys\n",
    "print(d.values())   ## all the values\n",
    "d['jhonny']=90 \n",
    "print(d)\n",
    "\n",
    "d.update({'Michael':90}) ## updation operation\n",
    "print(d)\n",
    "\n",
    "d.pop('Anna')   ## performing deletion operation\n",
    "print(d)\n"
   ]
  },
  {
   "cell_type": "code",
   "execution_count": 12,
   "metadata": {},
   "outputs": [
    {
     "name": "stdout",
     "output_type": "stream",
     "text": [
      "apple 50\n",
      "banana 30\n",
      "mango 60\n",
      "grapes 40\n"
     ]
    }
   ],
   "source": [
    "fruit_prices={'apple':50,'banana':30,'mango':60,'grapes':40}\n",
    "for k,v in fruit_prices.items():\n",
    "    print(k,v)"
   ]
  },
  {
   "cell_type": "markdown",
   "metadata": {},
   "source": [
    "## Dictionary from Lists:\n",
    "-->Create a dictionary from two lists, where one list contains names ['Alice', 'Bob', 'Charlie'] and the other contains their ages [23, 25, 22]. Print the resulting dictionary."
   ]
  },
  {
   "cell_type": "code",
   "execution_count": 28,
   "metadata": {},
   "outputs": [
    {
     "name": "stdout",
     "output_type": "stream",
     "text": [
      "{'Alice': 23, 'Bob': 25, 'Charlie': 22}\n"
     ]
    }
   ],
   "source": [
    "l1=['Alice','Bob','Charlie']\n",
    "l2=[23,25,22]\n",
    "#L=dict(zip(l1,l2))   ## using \"zip\" Function\n",
    "d={}\n",
    "for i in range(len(l1)):\n",
    "    d[l1[i]]=l2[i]\n",
    "print(d)"
   ]
  },
  {
   "cell_type": "markdown",
   "metadata": {},
   "source": [
    "## Checking for a Key\n",
    "Given the dictionary employee_salaries = {'John': 50000, 'Emily': 60000, 'Anna': 55000}, check if 'David' is in the dictionary. If not, add 'David' with a salary of 58000."
   ]
  },
  {
   "cell_type": "code",
   "execution_count": 32,
   "metadata": {},
   "outputs": [
    {
     "name": "stdout",
     "output_type": "stream",
     "text": [
      "{'John': 50000, 'Emily': 60000, 'Anna': 55000, 'David': 58000}\n"
     ]
    }
   ],
   "source": [
    "employee_salaries = {'John': 50000, 'Emily': 60000, 'Anna': 55000}\n",
    "employee_salaries.setdefault('David',58000)\n",
    "print(employee_salaries)"
   ]
  },
  {
   "cell_type": "markdown",
   "metadata": {},
   "source": [
    "#10 Merging Dictionaries "
   ]
  },
  {
   "cell_type": "code",
   "execution_count": 44,
   "metadata": {},
   "outputs": [
    {
     "name": "stdout",
     "output_type": "stream",
     "text": [
      "{'a': 2, 'b': 3, 'c': 4, 'p': 10, 'q': 11, 'r': 12}\n",
      "{'a': 2, 'b': 3, 'c': 4, 'p': 10, 'q': 11, 'r': 12, 'x': 10, 'y': 11, 'z': 12}\n"
     ]
    }
   ],
   "source": [
    "dict1={'a':2,'b':3,'c':4}\n",
    "dict1.update({'p':10,'q':11,'r':12})\n",
    "print(dict1)\n",
    "dict1.update([('x',10),('y',11),('z',12)])\n",
    "print(dict1)"
   ]
  },
  {
   "cell_type": "code",
   "execution_count": 60,
   "metadata": {},
   "outputs": [
    {
     "data": {
      "text/plain": [
       "{'apple': 3, 'banana': 2, 'orange': 1}"
      ]
     },
     "execution_count": 60,
     "metadata": {},
     "output_type": "execute_result"
    }
   ],
   "source": [
    "#Counting Occurrences with Dictionary\n",
    "'''L=['apple','banana','orange','apple','banana','apple']\n",
    "d={}\n",
    "for i in range(len(L)):\n",
    "    if L[i] in d:\n",
    "        d[L[i]]+=1\n",
    "    else:\n",
    "        d[L[i]]=1\n",
    "print(d) '''\n",
    "def countOccurance():\n",
    "    L=['apple','banana','orange','apple','banana','apple']\n",
    "    d={}\n",
    "    for i in range(len(L)):\n",
    "        if L[i] in d:\n",
    "            d[L[i]]+=1\n",
    "        else:\n",
    "            d[L[i]]=1\n",
    "    return d\n",
    "countOccurance()  "
   ]
  },
  {
   "cell_type": "code",
   "execution_count": null,
   "metadata": {},
   "outputs": [],
   "source": []
  }
 ],
 "metadata": {
  "kernelspec": {
   "display_name": "Python 3",
   "language": "python",
   "name": "python3"
  },
  "language_info": {
   "codemirror_mode": {
    "name": "ipython",
    "version": 3
   },
   "file_extension": ".py",
   "mimetype": "text/x-python",
   "name": "python",
   "nbconvert_exporter": "python",
   "pygments_lexer": "ipython3",
   "version": "3.10.8"
  }
 },
 "nbformat": 4,
 "nbformat_minor": 2
}
